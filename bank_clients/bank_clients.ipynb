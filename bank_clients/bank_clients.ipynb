{
 "cells": [
  {
   "cell_type": "markdown",
   "metadata": {},
   "source": [
    "## Оглавление<a id=\"heading\"></a>\n",
    "1. [Описание проекта](#1)\n",
    "2. [Условные обозначения](#2)\n",
    "3. [Открытие файла и ознакомление с данными](#3)\n",
    "4. [Предобработка данных](#4)\n",
    "5. [Кодирование](#5)\n",
    "6. [Работа с моделями](#6)\n",
    "  - [Разбитие на выборки, выделение признаков и цели](#6.1)\n",
    "  - [Проверка моделей до баланса классов](#6.2)\n",
    "  - [Проверка моделей после применения class_weight](#6.3)\n",
    "  - [Подготовка данных для upsampling](#6.4)\n",
    "  - [Проверка моделей после применения upsampling](#6.5)\n",
    "  - [Подготовка данных для downsampling](#6.6)\n",
    "  - [Проверка моделей после применения downsampling](#6.7)\n",
    "  - [Повышение метрики F1 у лучшей модели](#6.8)\n",
    "  - [Вывод](#6.9)"
   ]
  },
  {
   "cell_type": "markdown",
   "metadata": {},
   "source": [
    "##  1. Описание проекта<a id=\"1\"></a>"
   ]
  },
  {
   "cell_type": "markdown",
   "metadata": {},
   "source": [
    "\n",
    "Из «Бета-Банка» стали уходить клиенты. Каждый месяц. Немного, но заметно. Банковские маркетологи посчитали: сохранять текущих клиентов дешевле, чем привлекать новых.\n",
    "Нужно спрогнозировать, уйдёт клиент из банка в ближайшее время или нет. Нам предоставлены исторические данные о поведении клиентов и расторжении договоров с банком."
   ]
  },
  {
   "cell_type": "markdown",
   "metadata": {},
   "source": [
    "## 2. Условные обозначения<a id='2'>\n",
    "[Открытие файла и ознакомление с данными▼](#3) [Оглавление▲▲](#heading)"
   ]
  },
  {
   "cell_type": "markdown",
   "metadata": {},
   "source": [
    "Признаки\n",
    "\n",
    "\n",
    "\n",
    "\n",
    "\n",
    "RowNumber — индекс строки в данных\n",
    "\n",
    "CustomerId — уникальный идентификатор клиента\n",
    "\n",
    "Surname — фамилия\n",
    "\n",
    "CreditScore — кредитный рейтинг\n",
    "\n",
    "Geography — страна проживания\n",
    "\n",
    "Gender — пол\n",
    "\n",
    "Age — возраст\n",
    "\n",
    "Tenure — количество недвижимости у клиента\n",
    "\n",
    "Balance — баланс на счёте\n",
    "\n",
    "NumOfProducts — количество продуктов банка, используемых клиентом\n",
    "\n",
    "HasCrCard — наличие кредитной карты\n",
    "\n",
    "IsActiveMember — активность клиента\n",
    "\n",
    "EstimatedSalary — предполагаемая зарплата\n",
    "\n",
    "\n",
    "\n",
    "\n",
    "\n",
    "\n",
    "Целевой признак\n",
    "\n",
    "Exited — факт ухода клиента"
   ]
  },
  {
   "cell_type": "markdown",
   "metadata": {},
   "source": [
    "## 3. Открытие файла и ознакомление с данными<a id='3'>\n",
    "[Предобработка данных▼](#4) [Оглавление▲▲](#heading)"
   ]
  },
  {
   "cell_type": "code",
   "execution_count": 1,
   "metadata": {},
   "outputs": [
    {
     "data": {
      "text/html": [
       "<div>\n",
       "<style scoped>\n",
       "    .dataframe tbody tr th:only-of-type {\n",
       "        vertical-align: middle;\n",
       "    }\n",
       "\n",
       "    .dataframe tbody tr th {\n",
       "        vertical-align: top;\n",
       "    }\n",
       "\n",
       "    .dataframe thead th {\n",
       "        text-align: right;\n",
       "    }\n",
       "</style>\n",
       "<table border=\"1\" class=\"dataframe\">\n",
       "  <thead>\n",
       "    <tr style=\"text-align: right;\">\n",
       "      <th></th>\n",
       "      <th>RowNumber</th>\n",
       "      <th>CustomerId</th>\n",
       "      <th>Surname</th>\n",
       "      <th>CreditScore</th>\n",
       "      <th>Geography</th>\n",
       "      <th>Gender</th>\n",
       "      <th>Age</th>\n",
       "      <th>Tenure</th>\n",
       "      <th>Balance</th>\n",
       "      <th>NumOfProducts</th>\n",
       "      <th>HasCrCard</th>\n",
       "      <th>IsActiveMember</th>\n",
       "      <th>EstimatedSalary</th>\n",
       "      <th>Exited</th>\n",
       "    </tr>\n",
       "  </thead>\n",
       "  <tbody>\n",
       "    <tr>\n",
       "      <th>0</th>\n",
       "      <td>1</td>\n",
       "      <td>15634602</td>\n",
       "      <td>Hargrave</td>\n",
       "      <td>619</td>\n",
       "      <td>France</td>\n",
       "      <td>Female</td>\n",
       "      <td>42</td>\n",
       "      <td>2.0</td>\n",
       "      <td>0.00</td>\n",
       "      <td>1</td>\n",
       "      <td>1</td>\n",
       "      <td>1</td>\n",
       "      <td>101348.88</td>\n",
       "      <td>1</td>\n",
       "    </tr>\n",
       "    <tr>\n",
       "      <th>1</th>\n",
       "      <td>2</td>\n",
       "      <td>15647311</td>\n",
       "      <td>Hill</td>\n",
       "      <td>608</td>\n",
       "      <td>Spain</td>\n",
       "      <td>Female</td>\n",
       "      <td>41</td>\n",
       "      <td>1.0</td>\n",
       "      <td>83807.86</td>\n",
       "      <td>1</td>\n",
       "      <td>0</td>\n",
       "      <td>1</td>\n",
       "      <td>112542.58</td>\n",
       "      <td>0</td>\n",
       "    </tr>\n",
       "    <tr>\n",
       "      <th>2</th>\n",
       "      <td>3</td>\n",
       "      <td>15619304</td>\n",
       "      <td>Onio</td>\n",
       "      <td>502</td>\n",
       "      <td>France</td>\n",
       "      <td>Female</td>\n",
       "      <td>42</td>\n",
       "      <td>8.0</td>\n",
       "      <td>159660.80</td>\n",
       "      <td>3</td>\n",
       "      <td>1</td>\n",
       "      <td>0</td>\n",
       "      <td>113931.57</td>\n",
       "      <td>1</td>\n",
       "    </tr>\n",
       "    <tr>\n",
       "      <th>3</th>\n",
       "      <td>4</td>\n",
       "      <td>15701354</td>\n",
       "      <td>Boni</td>\n",
       "      <td>699</td>\n",
       "      <td>France</td>\n",
       "      <td>Female</td>\n",
       "      <td>39</td>\n",
       "      <td>1.0</td>\n",
       "      <td>0.00</td>\n",
       "      <td>2</td>\n",
       "      <td>0</td>\n",
       "      <td>0</td>\n",
       "      <td>93826.63</td>\n",
       "      <td>0</td>\n",
       "    </tr>\n",
       "    <tr>\n",
       "      <th>4</th>\n",
       "      <td>5</td>\n",
       "      <td>15737888</td>\n",
       "      <td>Mitchell</td>\n",
       "      <td>850</td>\n",
       "      <td>Spain</td>\n",
       "      <td>Female</td>\n",
       "      <td>43</td>\n",
       "      <td>2.0</td>\n",
       "      <td>125510.82</td>\n",
       "      <td>1</td>\n",
       "      <td>1</td>\n",
       "      <td>1</td>\n",
       "      <td>79084.10</td>\n",
       "      <td>0</td>\n",
       "    </tr>\n",
       "  </tbody>\n",
       "</table>\n",
       "</div>"
      ],
      "text/plain": [
       "   RowNumber  CustomerId   Surname  CreditScore Geography  Gender  Age  \\\n",
       "0          1    15634602  Hargrave          619    France  Female   42   \n",
       "1          2    15647311      Hill          608     Spain  Female   41   \n",
       "2          3    15619304      Onio          502    France  Female   42   \n",
       "3          4    15701354      Boni          699    France  Female   39   \n",
       "4          5    15737888  Mitchell          850     Spain  Female   43   \n",
       "\n",
       "   Tenure    Balance  NumOfProducts  HasCrCard  IsActiveMember  \\\n",
       "0     2.0       0.00              1          1               1   \n",
       "1     1.0   83807.86              1          0               1   \n",
       "2     8.0  159660.80              3          1               0   \n",
       "3     1.0       0.00              2          0               0   \n",
       "4     2.0  125510.82              1          1               1   \n",
       "\n",
       "   EstimatedSalary  Exited  \n",
       "0        101348.88       1  \n",
       "1        112542.58       0  \n",
       "2        113931.57       1  \n",
       "3         93826.63       0  \n",
       "4         79084.10       0  "
      ]
     },
     "metadata": {},
     "output_type": "display_data"
    },
    {
     "name": "stdout",
     "output_type": "stream",
     "text": [
      "<class 'pandas.core.frame.DataFrame'>\n",
      "RangeIndex: 10000 entries, 0 to 9999\n",
      "Data columns (total 14 columns):\n",
      " #   Column           Non-Null Count  Dtype  \n",
      "---  ------           --------------  -----  \n",
      " 0   RowNumber        10000 non-null  int64  \n",
      " 1   CustomerId       10000 non-null  int64  \n",
      " 2   Surname          10000 non-null  object \n",
      " 3   CreditScore      10000 non-null  int64  \n",
      " 4   Geography        10000 non-null  object \n",
      " 5   Gender           10000 non-null  object \n",
      " 6   Age              10000 non-null  int64  \n",
      " 7   Tenure           9091 non-null   float64\n",
      " 8   Balance          10000 non-null  float64\n",
      " 9   NumOfProducts    10000 non-null  int64  \n",
      " 10  HasCrCard        10000 non-null  int64  \n",
      " 11  IsActiveMember   10000 non-null  int64  \n",
      " 12  EstimatedSalary  10000 non-null  float64\n",
      " 13  Exited           10000 non-null  int64  \n",
      "dtypes: float64(3), int64(8), object(3)\n",
      "memory usage: 1.1+ MB\n",
      "None\n"
     ]
    }
   ],
   "source": [
    "import pandas as pd\n",
    "import numpy as np\n",
    "import matplotlib.pyplot as plt\n",
    "from sklearn.model_selection import train_test_split\n",
    "from sklearn.utils import shuffle\n",
    "from sklearn.linear_model import LogisticRegression\n",
    "from sklearn.tree import DecisionTreeClassifier\n",
    "from sklearn.ensemble import RandomForestClassifier\n",
    "from sklearn.metrics import f1_score, precision_score, recall_score\n",
    "from sklearn.metrics import roc_auc_score\n",
    "from sklearn.metrics import roc_curve\n",
    "from sklearn.preprocessing import StandardScaler\n",
    "\n",
    "try:\n",
    "    df=pd.read_csv('/datasets/Churn.csv')\n",
    "except:\n",
    "    df=pd.read_csv('C:/Users/ASUS/Desktop/практикум/модуль 2/спринт 2. Обучение с учителем/churn.csv')\n",
    "display(df.head())\n",
    "print(df.info())"
   ]
  },
  {
   "cell_type": "code",
   "execution_count": 2,
   "metadata": {
    "scrolled": false
   },
   "outputs": [
    {
     "name": "stdout",
     "output_type": "stream",
     "text": [
      "Процентное соотношение классов в целевом признаке: 0    0.7963\n",
      "1    0.2037\n",
      "Name: Exited, dtype: float64\n"
     ]
    },
    {
     "data": {
      "image/png": "[encoded data removed]",
      "text/plain": [
       "<Figure size 720x720 with 1 Axes>"
      ]
     },
     "metadata": {
      "needs_background": "light"
     },
     "output_type": "display_data"
    }
   ],
   "source": [
    "# подсчитываем и визуализируем соотношение классов в целевом признаке\n",
    "(print('Процентное соотношение классов в целевом признаке:', \n",
    "      df['Exited'].value_counts(normalize=True)))\n",
    "\n",
    "df['Exited'].value_counts(normalize=True).plot(kind='bar', \n",
    "                        figsize=(10, 10), title='Соотношение классов')\n",
    "plt.show()"
   ]
  },
  {
   "cell_type": "markdown",
   "metadata": {},
   "source": [
    "### В результате первичного ознакомления с данными выяснилось, что в одном столбце имеются пропуски. Между классами в целевом признаке существует значительный дисбаланс (1:4) в пользу отрицательного класса. Несколько столбцов не имеют никакого влияния на целевой признак и могут быть безболезненно удалены. "
   ]
  },
  {
   "cell_type": "markdown",
   "metadata": {},
   "source": [
    "## 4. Предобработка данных<a id='4'>\n",
    "[Кодирование▼](#5) [Оглавление▲▲](#heading)"
   ]
  },
  {
   "cell_type": "code",
   "execution_count": 3,
   "metadata": {},
   "outputs": [
    {
     "name": "stdout",
     "output_type": "stream",
     "text": [
      "Уникальные значения в столбце \"наличие кредитной карты\": [1 0]\n",
      "\n",
      "\n",
      "\n",
      "Уникальные значения в столбце \"активность клиента\": [1 0]\n",
      "\n",
      "\n",
      "\n",
      "Уникальные значения в столбце \"страна\": ['France' 'Spain' 'Germany']\n",
      "\n",
      "\n",
      "\n",
      "Уникальные значения в столбце \"пол\": ['Female' 'Male']\n",
      "\n",
      "\n",
      "\n",
      "Процент пропусков в столбце 'недвижимость': 9.09\n",
      "\n",
      "\n",
      "\n"
     ]
    }
   ],
   "source": [
    "# приводим названия столбцов к нижнему регистру\n",
    "df.columns=df.columns.str.lower()\n",
    "\n",
    "\n",
    "\n",
    "# подсчитываем уникальные значения в столбцах\n",
    "print('Уникальные значения в столбце \"наличие кредитной карты\":', \n",
    "      df['hascrcard'].unique())\n",
    "print('\\n\\n')\n",
    "\n",
    "print('Уникальные значения в столбце \"активность клиента\":' \n",
    "      ,df['isactivemember'].unique())\n",
    "print('\\n\\n')\n",
    "\n",
    "print('Уникальные значения в столбце \"страна\":' \n",
    "      ,df['geography'].unique())\n",
    "print('\\n\\n')\n",
    "\n",
    "print('Уникальные значения в столбце \"пол\":' \n",
    "      ,df['gender'].unique())\n",
    "print('\\n\\n')\n",
    "\n",
    "\n",
    "\n",
    "# подсчитываем кол-во пропусков\n",
    "print(\"Процент пропусков в столбце 'недвижимость':\",\n",
    "      df['tenure'].isna().sum()/len(df)*100)\n",
    "\n",
    "# пропусков менее 10%. заменим их на медиану по столбцу\n",
    "df['tenure']=df['tenure'].fillna(df['tenure'].median())\n",
    "print('\\n\\n')\n",
    "\n",
    "\n",
    "\n",
    "# удаляем столбцы, не несущие никакой смысловой нагрузки\n",
    "df=df.drop(['rownumber', 'customerid', 'surname'], axis=1)"
   ]
  },
  {
   "cell_type": "markdown",
   "metadata": {},
   "source": [
    "## 5. Кодирование<a id='5'>\n",
    "[Работа с моделями▼](#6) [Оглавление▲▲](#heading)"
   ]
  },
  {
   "cell_type": "code",
   "execution_count": 4,
   "metadata": {
    "scrolled": true
   },
   "outputs": [
    {
     "data": {
      "text/html": [
       "<div>\n",
       "<style scoped>\n",
       "    .dataframe tbody tr th:only-of-type {\n",
       "        vertical-align: middle;\n",
       "    }\n",
       "\n",
       "    .dataframe tbody tr th {\n",
       "        vertical-align: top;\n",
       "    }\n",
       "\n",
       "    .dataframe thead th {\n",
       "        text-align: right;\n",
       "    }\n",
       "</style>\n",
       "<table border=\"1\" class=\"dataframe\">\n",
       "  <thead>\n",
       "    <tr style=\"text-align: right;\">\n",
       "      <th></th>\n",
       "      <th>creditscore</th>\n",
       "      <th>age</th>\n",
       "      <th>tenure</th>\n",
       "      <th>balance</th>\n",
       "      <th>numofproducts</th>\n",
       "      <th>hascrcard</th>\n",
       "      <th>isactivemember</th>\n",
       "      <th>estimatedsalary</th>\n",
       "      <th>exited</th>\n",
       "      <th>geography_Germany</th>\n",
       "      <th>geography_Spain</th>\n",
       "      <th>gender_Male</th>\n",
       "    </tr>\n",
       "  </thead>\n",
       "  <tbody>\n",
       "    <tr>\n",
       "      <th>0</th>\n",
       "      <td>619</td>\n",
       "      <td>42</td>\n",
       "      <td>2.0</td>\n",
       "      <td>0.00</td>\n",
       "      <td>1</td>\n",
       "      <td>1</td>\n",
       "      <td>1</td>\n",
       "      <td>101348.88</td>\n",
       "      <td>1</td>\n",
       "      <td>0</td>\n",
       "      <td>0</td>\n",
       "      <td>0</td>\n",
       "    </tr>\n",
       "    <tr>\n",
       "      <th>1</th>\n",
       "      <td>608</td>\n",
       "      <td>41</td>\n",
       "      <td>1.0</td>\n",
       "      <td>83807.86</td>\n",
       "      <td>1</td>\n",
       "      <td>0</td>\n",
       "      <td>1</td>\n",
       "      <td>112542.58</td>\n",
       "      <td>0</td>\n",
       "      <td>0</td>\n",
       "      <td>1</td>\n",
       "      <td>0</td>\n",
       "    </tr>\n",
       "    <tr>\n",
       "      <th>2</th>\n",
       "      <td>502</td>\n",
       "      <td>42</td>\n",
       "      <td>8.0</td>\n",
       "      <td>159660.80</td>\n",
       "      <td>3</td>\n",
       "      <td>1</td>\n",
       "      <td>0</td>\n",
       "      <td>113931.57</td>\n",
       "      <td>1</td>\n",
       "      <td>0</td>\n",
       "      <td>0</td>\n",
       "      <td>0</td>\n",
       "    </tr>\n",
       "    <tr>\n",
       "      <th>3</th>\n",
       "      <td>699</td>\n",
       "      <td>39</td>\n",
       "      <td>1.0</td>\n",
       "      <td>0.00</td>\n",
       "      <td>2</td>\n",
       "      <td>0</td>\n",
       "      <td>0</td>\n",
       "      <td>93826.63</td>\n",
       "      <td>0</td>\n",
       "      <td>0</td>\n",
       "      <td>0</td>\n",
       "      <td>0</td>\n",
       "    </tr>\n",
       "    <tr>\n",
       "      <th>4</th>\n",
       "      <td>850</td>\n",
       "      <td>43</td>\n",
       "      <td>2.0</td>\n",
       "      <td>125510.82</td>\n",
       "      <td>1</td>\n",
       "      <td>1</td>\n",
       "      <td>1</td>\n",
       "      <td>79084.10</td>\n",
       "      <td>0</td>\n",
       "      <td>0</td>\n",
       "      <td>1</td>\n",
       "      <td>0</td>\n",
       "    </tr>\n",
       "  </tbody>\n",
       "</table>\n",
       "</div>"
      ],
      "text/plain": [
       "   creditscore  age  tenure    balance  numofproducts  hascrcard  \\\n",
       "0          619   42     2.0       0.00              1          1   \n",
       "1          608   41     1.0   83807.86              1          0   \n",
       "2          502   42     8.0  159660.80              3          1   \n",
       "3          699   39     1.0       0.00              2          0   \n",
       "4          850   43     2.0  125510.82              1          1   \n",
       "\n",
       "   isactivemember  estimatedsalary  exited  geography_Germany  \\\n",
       "0               1        101348.88       1                  0   \n",
       "1               1        112542.58       0                  0   \n",
       "2               0        113931.57       1                  0   \n",
       "3               0         93826.63       0                  0   \n",
       "4               1         79084.10       0                  0   \n",
       "\n",
       "   geography_Spain  gender_Male  \n",
       "0                0            0  \n",
       "1                1            0  \n",
       "2                0            0  \n",
       "3                0            0  \n",
       "4                1            0  "
      ]
     },
     "metadata": {},
     "output_type": "display_data"
    }
   ],
   "source": [
    "# проводим прямое кодирование данных в таблице\n",
    "df=pd.get_dummies(df, drop_first=True)\n",
    "display(df.head())\n"
   ]
  },
  {
   "cell_type": "markdown",
   "metadata": {},
   "source": [
    "## 6. Работа с моделями<a id='6'>\n",
    "[6.1 Разбитие на выборки, выделение признаков и цели▼](#6.1) [Оглавление▲▲](#heading)"
   ]
  },
  {
   "cell_type": "markdown",
   "metadata": {},
   "source": [
    "### Для начала разобьем наши данные на 3 выборки: обучающую, валидационную и тестовую. Затем будем искать модель с наилучшим показателем метрики. В качестве метрик будем использовать F1  и AUC-ROC. Однако, т.к. метрика F1 очень чувствительна к изменению порога классификации, то для грубой оценки моделей будем использовать метрику AUC-ROC, а после выявления наилучшей модели в результате балансировки классов вернемся к метрике F1 для тонкой настройки полученной модели."
   ]
  },
  {
   "cell_type": "markdown",
   "metadata": {},
   "source": [
    "## 6.1. Разбитие на выборки, выделение признаков и цели<a id='6.1'>\n",
    "[Проверка моделей до баланса классов▼](#6.2) [Оглавление▲▲](#heading)"
   ]
  },
  {
   "cell_type": "code",
   "execution_count": 5,
   "metadata": {},
   "outputs": [
    {
     "name": "stdout",
     "output_type": "stream",
     "text": [
      "валидационная выборка: (2000, 12)\n",
      "тестовая выборка: (2000, 12)\n",
      "обучающая выборка: (6000, 12)\n"
     ]
    }
   ],
   "source": [
    "# разбиваем датасет сначала на обучающий и промежуточный, затем промежуточный \n",
    "# на тестовый и валидационный\n",
    "df_train, df_1=(train_test_split\n",
    "(df, random_state=1, test_size=0.40, shuffle=True, stratify=df['exited']))\n",
    "\n",
    "df_test, df_valid=(train_test_split\n",
    "(df_1, random_state=1, test_size=0.50, shuffle=True, stratify=df_1['exited']))\n",
    "\n",
    "\n",
    "# проверяем размерности полученных датасетов\n",
    "print('валидационная выборка:', df_valid.shape)\n",
    "print('тестовая выборка:',df_test.shape)\n",
    "print('обучающая выборка:',df_train.shape)\n",
    "\n",
    "\n",
    "# создаем признаки и цели для каждой из выборок\n",
    "features_train=df_train.drop(['exited'], axis=1)\n",
    "target_train=df_train['exited']\n",
    "\n",
    "features_valid=df_valid.drop(['exited'], axis=1)\n",
    "target_valid=df_valid['exited']\n",
    "\n",
    "features_test=df_test.drop(['exited'], axis=1)\n",
    "target_test=df_test['exited']"
   ]
  },
  {
   "cell_type": "code",
   "execution_count": 6,
   "metadata": {},
   "outputs": [],
   "source": [
    "# сохраняем обучающую и валидационную выборки в отдельные переменные для\n",
    "# логистической регрессии\n",
    "features_train_scaled=features_train\n",
    "features_valid_scaled=features_valid\n",
    "features_test_scaled=features_test\n",
    "\n",
    "# сохраняем в переменную численные признаки\n",
    "numeric = ['creditscore', 'age', 'tenure', 'balance', 'numofproducts', 'estimatedsalary']\n",
    "\n",
    "# стандартизируем признаки\n",
    "scaler = StandardScaler()\n",
    "scaler.fit(features_train_scaled[numeric])\n",
    "features_train_scaled[numeric] = scaler.transform(features_train_scaled[numeric])\n",
    "features_valid_scaled[numeric] = scaler.transform(features_valid_scaled[numeric])\n",
    "features_test_scaled[numeric] = scaler.transform(features_test_scaled[numeric])"
   ]
  },
  {
   "cell_type": "markdown",
   "metadata": {},
   "source": [
    "## 6.2. Проверка моделей до баланса классов<a id='6.2'>\n",
    "[Проверка моделей после применения class_weight▼](#6.3) [Оглавление▲▲](#heading)"
   ]
  },
  {
   "cell_type": "code",
   "execution_count": 7,
   "metadata": {},
   "outputs": [
    {
     "name": "stdout",
     "output_type": "stream",
     "text": [
      "auc-roc логистической регрессии 0.7587785742437678\n",
      "f1 логистической регрессии: 0.26436781609195403\n",
      "\n",
      "\n",
      "\n",
      "auc-roc дерева 0.6743090452261307\n",
      "F1: 0.4783118405627198\n",
      "\n",
      "\n",
      "\n",
      "auc-roc случайного леса 0.8426730773967878\n",
      "F1 0.5628930817610063\n"
     ]
    }
   ],
   "source": [
    "# исследуем модель логистической регрессии до баланса классов\n",
    "model=LogisticRegression(random_state=1, solver='liblinear')\n",
    "model.fit(features_train_scaled, target_train)\n",
    "predicted_valid_scaled = model.predict(features_valid_scaled)\n",
    "\n",
    "probabilities_valid = model.predict_proba(features_valid_scaled)\n",
    "probabilities_one_valid = probabilities_valid[:, 1]\n",
    "\n",
    "auc_roc=roc_auc_score(target_valid, probabilities_one_valid)\n",
    "f1=f1_score(target_valid, predicted_valid_scaled)\n",
    "\n",
    "print('auc-roc логистической регрессии', auc_roc)\n",
    "print('f1 логистической регрессии:', f1)\n",
    "print('\\n\\n')\n",
    "\n",
    "\n",
    "\n",
    "\n",
    "# исследуем модель дерева до баланса классов\n",
    "tree = DecisionTreeClassifier(random_state=1)\n",
    "tree.fit(features_train, target_train)\n",
    "predictions_valid = tree.predict(features_valid)\n",
    "\n",
    "\n",
    "probabilities_valid = tree.predict_proba(features_valid)\n",
    "probabilities_one_valid = probabilities_valid[:, 1]\n",
    "auc_roc=roc_auc_score(target_valid, probabilities_one_valid)\n",
    "f1=f1_score(predictions_valid, target_valid)\n",
    "\n",
    "print('auc-roc дерева', auc_roc)\n",
    "print('F1:', f1)\n",
    "print('\\n\\n')\n",
    "\n",
    "\n",
    "\n",
    "\n",
    "\n",
    "# исследуем модель случайного леса до баланса классов   \n",
    "forest=RandomForestClassifier(random_state=1)\n",
    "forest.fit(features_train, target_train)\n",
    "predictions_valid=forest.predict(features_valid)\n",
    "    \n",
    "        \n",
    "probabilities_valid = forest.predict_proba(features_valid)\n",
    "probabilities_one_valid = probabilities_valid[:, 1]\n",
    "auc_roc=roc_auc_score(target_valid, probabilities_one_valid)\n",
    "f1=f1_score(predictions_valid, target_valid)\n",
    "\n",
    "print('auc-roc случайного леса', auc_roc)\n",
    "print('F1', f1)  "
   ]
  },
  {
   "cell_type": "markdown",
   "metadata": {},
   "source": [
    "### Вывод: лучше всего себя показала модель случайного леса, причем по обоим метрикам. Далее проверим модели после отработки дисбаланса."
   ]
  },
  {
   "cell_type": "markdown",
   "metadata": {},
   "source": [
    "## 6.3. Проверка моделей после применения class_weight<a id='6.3'>\n",
    "[Подготовка данных для upsampling▼](#6.4) [Оглавление▲▲](#heading)"
   ]
  },
  {
   "cell_type": "code",
   "execution_count": 8,
   "metadata": {},
   "outputs": [
    {
     "name": "stdout",
     "output_type": "stream",
     "text": [
      "auc-roc логистической регрессии 0.7615174524583703\n",
      "f1 логистической регрессии: 0.49684968496849685\n",
      "\n",
      "\n",
      "\n",
      "auc-roc дерева 0.689476795743423\n",
      "F1: 0.5088607594936709\n",
      "\n",
      "\n",
      "\n",
      "auc-roc 0.8427616021282885\n",
      "F1: 0.5529225908372828\n"
     ]
    }
   ],
   "source": [
    "# проверяем модель с балансом классов в аргументах модели\n",
    "model=LogisticRegression(class_weight='balanced', random_state=1, solver='liblinear')\n",
    "model.fit(features_train_scaled, target_train)\n",
    "predicted_valid_scaled = model.predict(features_valid_scaled)\n",
    "\n",
    "probabilities_valid = model.predict_proba(features_valid_scaled)\n",
    "probabilities_one_valid = probabilities_valid[:, 1]\n",
    "\n",
    "auc_roc=roc_auc_score(target_valid, probabilities_one_valid)\n",
    "f1=f1_score(predicted_valid_scaled, target_valid)\n",
    "\n",
    "print('auc-roc логистической регрессии', auc_roc)\n",
    "print('f1 логистической регрессии:', f1)\n",
    "print('\\n\\n')\n",
    "\n",
    "\n",
    "\n",
    "# исследуем модель дерева\n",
    "tree = DecisionTreeClassifier(class_weight='balanced', random_state=1)\n",
    "tree.fit(features_train, target_train)\n",
    "predictions_valid = tree.predict(features_valid)\n",
    "    \n",
    "probabilities_valid = tree.predict_proba(features_valid)\n",
    "probabilities_one_valid = probabilities_valid[:, 1]\n",
    "auc_roc=roc_auc_score(target_valid, probabilities_one_valid)\n",
    "f1=f1_score(predictions_valid, target_valid)\n",
    "\n",
    "print('auc-roc дерева', auc_roc)\n",
    "print('F1:', f1)\n",
    "print('\\n\\n') \n",
    "    \n",
    "    \n",
    "    \n",
    "    \n",
    "# исследуем модель случайного леса    \n",
    "forest=RandomForestClassifier(class_weight='balanced', random_state=1)\n",
    "forest.fit(features_train, target_train)\n",
    "predictions_valid=forest.predict(features_valid)\n",
    "    \n",
    "probabilities_valid = forest.predict_proba(features_valid)\n",
    "probabilities_one_valid = probabilities_valid[:, 1]\n",
    "auc_roc=roc_auc_score(target_valid, probabilities_one_valid)\n",
    "f1=f1_score(predictions_valid, target_valid)\n",
    "\n",
    "print('auc-roc', auc_roc)\n",
    "print('F1:', f1)  "
   ]
  },
  {
   "cell_type": "markdown",
   "metadata": {},
   "source": [
    "### Вывод: модель случайного леса опять показала лучшие результаты сразу по обоим метрикам."
   ]
  },
  {
   "cell_type": "markdown",
   "metadata": {},
   "source": [
    "## 6.4. Подготовка данных для upsampling<a id='6.4'>\n",
    "[Проверка моделей после применения upsampling▼](#6.5) [Оглавление▲▲](#heading)"
   ]
  },
  {
   "cell_type": "code",
   "execution_count": 9,
   "metadata": {},
   "outputs": [
    {
     "data": {
      "text/plain": [
       "(4778, 11)"
      ]
     },
     "metadata": {},
     "output_type": "display_data"
    },
    {
     "data": {
      "text/plain": [
       "(1222, 11)"
      ]
     },
     "metadata": {},
     "output_type": "display_data"
    },
    {
     "data": {
      "text/plain": [
       "(4778,)"
      ]
     },
     "metadata": {},
     "output_type": "display_data"
    },
    {
     "data": {
      "text/plain": [
       "(1222,)"
      ]
     },
     "metadata": {},
     "output_type": "display_data"
    },
    {
     "data": {
      "text/plain": [
       "(4778, 11)"
      ]
     },
     "metadata": {},
     "output_type": "display_data"
    },
    {
     "data": {
      "text/plain": [
       "(1222, 11)"
      ]
     },
     "metadata": {},
     "output_type": "display_data"
    }
   ],
   "source": [
    "# увеличиваем объекты класса \"1\" и сохраняем преобразованные выборки в новых\n",
    "# переменных\n",
    "def upsample(features_scaled, target, features, repeat):\n",
    "    features_scaled_zeros = features_train_scaled[target_train == 0]\n",
    "    features_scaled_ones = features_train_scaled[target_train == 1]\n",
    "    \n",
    "    target_zeros = target_train[target_train == 0]\n",
    "    target_ones = target_train[target_train == 1]\n",
    "    \n",
    "    features_zeros = features[target == 0]\n",
    "    features_ones = features[target == 1]\n",
    "    \n",
    "    display(features_scaled_zeros.shape, features_scaled_ones.shape,\n",
    "        target_zeros.shape, target_ones.shape,\n",
    "        features_zeros.shape, features_ones.shape)\n",
    "\n",
    "    features_upsampled_scaled = pd.concat([features_scaled_zeros] + \n",
    "                                   [features_scaled_ones] * repeat)\n",
    "    target_upsampled = pd.concat([target_zeros] + [target_ones] * repeat)\n",
    "    \n",
    "    features_upsampled = pd.concat([features_zeros] + [features_ones] * \n",
    "                                                                  repeat)\n",
    "    \n",
    "     \n",
    "    features_upsampled_scaled, target_upsampled, features_upsampled = (shuffle\n",
    "    (features_upsampled_scaled, target_upsampled, \n",
    "     features_upsampled, random_state = 1))\n",
    "\n",
    "    return features_upsampled_scaled, target_upsampled, features_upsampled\n",
    "\n",
    "\n",
    "features_upsampled_scaled, target_upsampled, features_upsampled = (upsample\n",
    "(features_train_scaled, target_train, features_train, 4))"
   ]
  },
  {
   "cell_type": "markdown",
   "metadata": {},
   "source": [
    "## 6.5. Проверка моделей после применения upsampling<a id='6.5'>\n",
    "[Подготовка данных для downsampling▼](#6.6) [Оглавление▲▲](#heading)"
   ]
  },
  {
   "cell_type": "code",
   "execution_count": 10,
   "metadata": {},
   "outputs": [
    {
     "name": "stdout",
     "output_type": "stream",
     "text": [
      "auc-roc логистической регрессии 0.7615343876243965\n",
      "f1 логистической регрессии: 0.49552772808586765\n",
      "\n",
      "\n",
      "\n",
      "auc-roc дерева 0.6847965316779978\n",
      "F1: 0.5\n",
      "\n",
      "\n",
      "\n",
      "auc-roc 0.837696447925904\n",
      "F1: 0.5710306406685237\n"
     ]
    }
   ],
   "source": [
    "# проверяем модель после применения техники upsampling \n",
    "model=LogisticRegression(random_state=1, solver='liblinear')\n",
    "model.fit(features_upsampled_scaled, target_upsampled)\n",
    "predicted_valid_scaled = model.predict(features_valid_scaled)\n",
    "\n",
    "probabilities_valid = model.predict_proba(features_valid_scaled)\n",
    "probabilities_one_valid = probabilities_valid[:, 1]\n",
    "auc_roc=roc_auc_score(target_valid, probabilities_one_valid)\n",
    "f1=f1_score(predicted_valid_scaled, target_valid)\n",
    "\n",
    "print('auc-roc логистической регрессии', auc_roc)\n",
    "print('f1 логистической регрессии:', f1)\n",
    "print('\\n\\n')\n",
    "\n",
    "\n",
    "\n",
    "\n",
    "\n",
    "# исследуем модель дерева\n",
    "tree = DecisionTreeClassifier(random_state=1)\n",
    "tree.fit(features_upsampled, target_upsampled)\n",
    "predictions_valid = tree.predict(features_valid)\n",
    "    \n",
    "        \n",
    "probabilities_valid = tree.predict_proba(features_valid)\n",
    "probabilities_one_valid = probabilities_valid[:, 1]\n",
    "auc_roc=roc_auc_score(target_valid, probabilities_one_valid)\n",
    "f1=f1_score(predictions_valid, target_valid)\n",
    "\n",
    "print('auc-roc дерева', auc_roc)\n",
    "print('F1:', f1)\n",
    "print('\\n\\n') \n",
    "    \n",
    "    \n",
    "    \n",
    "    \n",
    "    \n",
    "# исследуем модель случайного леса    \n",
    "forest=RandomForestClassifier(random_state=1)\n",
    "forest.fit(features_upsampled, target_upsampled)\n",
    "predictions_valid=forest.predict(features_valid)\n",
    "\n",
    "\n",
    "probabilities_valid = forest.predict_proba(features_valid)\n",
    "probabilities_one_valid = probabilities_valid[:, 1]\n",
    "auc_roc=roc_auc_score(target_valid, probabilities_one_valid)\n",
    "f1=f1_score(predictions_valid, target_valid)\n",
    "\n",
    "print('auc-roc', auc_roc)\n",
    "print('F1:', f1)  "
   ]
  },
  {
   "cell_type": "markdown",
   "metadata": {},
   "source": [
    "### Вывод: ничего не меняется, модель случайного леса опять лучше других."
   ]
  },
  {
   "cell_type": "markdown",
   "metadata": {},
   "source": [
    "## 6.6.  Подготовка данных для downsampling<a id='6.6'>\n",
    "[Проверка моделей после применения downsampling▼](#6.7) [Оглавление▲▲](#heading)"
   ]
  },
  {
   "cell_type": "code",
   "execution_count": 11,
   "metadata": {},
   "outputs": [
    {
     "name": "stdout",
     "output_type": "stream",
     "text": [
      "(2416, 11) (2416, 11) (2416,)\n"
     ]
    }
   ],
   "source": [
    "# уменьшаем объекты класса \"0\" и сохраняем преобразованные выборки в новых\n",
    "# переменных\n",
    "def downsample(features_scaled, features, target, fraction):\n",
    "    features_scaled_zeros = features_train_scaled[target_train == 0]\n",
    "    features_scaled_ones = features_train_scaled[target_train == 1]\n",
    "    \n",
    "    features_zeros = features[target == 0]\n",
    "    features_ones = features[target == 1]\n",
    "    \n",
    "    target_zeros = target[target == 0]\n",
    "    target_ones = target[target == 1]\n",
    "    \n",
    "    features_downsampled_scaled = pd.concat(\n",
    "        [features_scaled_zeros.sample(frac=fraction, random_state=1)] + \n",
    "        [features_scaled_ones])\n",
    "    features_downsampled = pd.concat(\n",
    "        [features_zeros.sample(frac=fraction, random_state=1)] + \n",
    "        [features_ones])\n",
    "    target_downsampled = pd.concat(\n",
    "        [target_zeros.sample(frac=fraction, random_state=1)] + \n",
    "        [target_ones])\n",
    "    features_downsampled_scaled, features_downsampled, target_downsampled = shuffle(features_downsampled_scaled, features_downsampled, target_downsampled, random_state=1)\n",
    "    \n",
    "    return features_downsampled_scaled, features_downsampled, target_downsampled\n",
    "\n",
    "features_downsampled_scaled, features_downsampled, target_downsampled = downsample(\n",
    "    features_train_scaled, features_train, target_train, 0.25)\n",
    "\n",
    "\n",
    "# проверяем объем полученных выборок\n",
    "print(features_downsampled_scaled.shape, features_downsampled.shape, target_downsampled.shape)"
   ]
  },
  {
   "cell_type": "markdown",
   "metadata": {},
   "source": [
    "## 6.7. Проверка моделей после применения downsampling<a id='6.7'>\n",
    "[Повышение метрики F1 у лучшей модели сдвигом порога классификации▼](#6.8) [Оглавление▲▲](#heading)"
   ]
  },
  {
   "cell_type": "code",
   "execution_count": 12,
   "metadata": {},
   "outputs": [
    {
     "name": "stdout",
     "output_type": "stream",
     "text": [
      "auc-roc логистической регрессии 0.7609863040693665\n",
      "f1 логистической регрессии: 0.4923354373309287\n",
      "\n",
      "\n",
      "\n",
      "auc-roc дерева 0.7085611882944132\n",
      "F1: 0.49956178790534617\n",
      "\n",
      "\n",
      "\n",
      "auc-roc 0.836269275298059\n",
      "F1: 0.5580057526366251\n"
     ]
    }
   ],
   "source": [
    "# проверяем модель после применения техники downsampling \n",
    "model=LogisticRegression(random_state=1, solver='liblinear')\n",
    "model.fit(features_downsampled_scaled, target_downsampled)\n",
    "predicted_valid_scaled = model.predict(features_valid_scaled)\n",
    "\n",
    "probabilities_valid = model.predict_proba(features_valid_scaled)\n",
    "probabilities_one_valid = probabilities_valid[:, 1]\n",
    "\n",
    "auc_roc=roc_auc_score(target_valid, probabilities_one_valid)\n",
    "f1=f1_score(predicted_valid_scaled, target_valid)\n",
    "\n",
    "print('auc-roc логистической регрессии', auc_roc)\n",
    "print('f1 логистической регрессии:', f1)\n",
    "print('\\n\\n')\n",
    "\n",
    "\n",
    "\n",
    "\n",
    "\n",
    "# исследуем модель дерева\n",
    "tree = DecisionTreeClassifier(random_state=1)\n",
    "tree.fit(features_downsampled, target_downsampled)\n",
    "predictions_valid = tree.predict(features_valid)\n",
    "\n",
    "        \n",
    "probabilities_valid = tree.predict_proba(features_valid)\n",
    "probabilities_one_valid = probabilities_valid[:, 1]\n",
    "auc_roc=roc_auc_score(target_valid, probabilities_one_valid)\n",
    "f1=f1_score(predictions_valid, target_valid)\n",
    "\n",
    "print('auc-roc дерева', auc_roc)\n",
    "print('F1:', f1)\n",
    "print('\\n\\n') \n",
    "    \n",
    "    \n",
    "    \n",
    "    \n",
    "# исследуем модель случайного леса    \n",
    "forest=RandomForestClassifier(random_state=1)\n",
    "forest.fit(features_downsampled, target_downsampled)\n",
    "predictions_valid=forest.predict(features_valid)\n",
    "\n",
    "\n",
    "probabilities_valid = forest.predict_proba(features_valid)\n",
    "probabilities_one_valid = probabilities_valid[:, 1]\n",
    "auc_roc=roc_auc_score(target_valid, probabilities_one_valid)\n",
    "f1=f1_score(predictions_valid, target_valid)\n",
    "\n",
    "\n",
    "print('auc-roc', auc_roc)\n",
    "print('F1:', f1)  "
   ]
  },
  {
   "cell_type": "markdown",
   "metadata": {},
   "source": [
    "### После всех примененных методов борьбы с дисбалансом лучше других по 2 метрикам показала себя модель случайного леса. В целом, у моделей не сильно отличались метрики от метода к методу. На следующем этапе попробуем поднять метрику F1 у случайного леса подбором гиперпараметров и сдвигом порога классификации."
   ]
  },
  {
   "cell_type": "markdown",
   "metadata": {},
   "source": [
    "## 6.8. Повышение метрики F1 у лучшей модели <a id='6.8'>\n",
    "[Вывод▼](#6.9) [Оглавление▲▲](#heading)"
   ]
  },
  {
   "cell_type": "code",
   "execution_count": 13,
   "metadata": {},
   "outputs": [
    {
     "name": "stdout",
     "output_type": "stream",
     "text": [
      "11 0.5673352435530086\n",
      "21 0.605\n",
      "\n",
      "\n",
      "\n",
      "Порог = 0.46 | f1 = 0.62 | Precision = 0.58 | Recall = 0.66\n",
      "\n",
      "\n",
      "\n"
     ]
    },
    {
     "data": {
      "text/html": [
       "<div>\n",
       "<style scoped>\n",
       "    .dataframe tbody tr th:only-of-type {\n",
       "        vertical-align: middle;\n",
       "    }\n",
       "\n",
       "    .dataframe tbody tr th {\n",
       "        vertical-align: top;\n",
       "    }\n",
       "\n",
       "    .dataframe thead th {\n",
       "        text-align: right;\n",
       "    }\n",
       "</style>\n",
       "<table border=\"1\" class=\"dataframe\">\n",
       "  <thead>\n",
       "    <tr style=\"text-align: right;\">\n",
       "      <th></th>\n",
       "      <th>importance</th>\n",
       "    </tr>\n",
       "  </thead>\n",
       "  <tbody>\n",
       "    <tr>\n",
       "      <th>age</th>\n",
       "      <td>0.308383</td>\n",
       "    </tr>\n",
       "    <tr>\n",
       "      <th>numofproducts</th>\n",
       "      <td>0.190969</td>\n",
       "    </tr>\n",
       "    <tr>\n",
       "      <th>balance</th>\n",
       "      <td>0.129303</td>\n",
       "    </tr>\n",
       "    <tr>\n",
       "      <th>estimatedsalary</th>\n",
       "      <td>0.099722</td>\n",
       "    </tr>\n",
       "    <tr>\n",
       "      <th>creditscore</th>\n",
       "      <td>0.087915</td>\n",
       "    </tr>\n",
       "    <tr>\n",
       "      <th>tenure</th>\n",
       "      <td>0.054680</td>\n",
       "    </tr>\n",
       "    <tr>\n",
       "      <th>isactivemember</th>\n",
       "      <td>0.043935</td>\n",
       "    </tr>\n",
       "    <tr>\n",
       "      <th>geography_Germany</th>\n",
       "      <td>0.038252</td>\n",
       "    </tr>\n",
       "    <tr>\n",
       "      <th>gender_Male</th>\n",
       "      <td>0.023947</td>\n",
       "    </tr>\n",
       "    <tr>\n",
       "      <th>hascrcard</th>\n",
       "      <td>0.012599</td>\n",
       "    </tr>\n",
       "    <tr>\n",
       "      <th>geography_Spain</th>\n",
       "      <td>0.010293</td>\n",
       "    </tr>\n",
       "  </tbody>\n",
       "</table>\n",
       "</div>"
      ],
      "text/plain": [
       "                   importance\n",
       "age                  0.308383\n",
       "numofproducts        0.190969\n",
       "balance              0.129303\n",
       "estimatedsalary      0.099722\n",
       "creditscore          0.087915\n",
       "tenure               0.054680\n",
       "isactivemember       0.043935\n",
       "geography_Germany    0.038252\n",
       "gender_Male          0.023947\n",
       "hascrcard            0.012599\n",
       "geography_Spain      0.010293"
      ]
     },
     "metadata": {},
     "output_type": "display_data"
    },
    {
     "data": {
      "image/png": "[encoded data removed]",
      "text/plain": [
       "<Figure size 1296x720 with 1 Axes>"
      ]
     },
     "metadata": {
      "needs_background": "light"
     },
     "output_type": "display_data"
    }
   ],
   "source": [
    "# объединяем обучающую и валидационную выборки\n",
    "features_final=pd.concat([features_train] + [features_valid])\n",
    "target_final=pd.concat([target_train] + [target_valid])\n",
    "\n",
    "\n",
    "# подбираем оптимальную глубину леса при небольшом кол-ве деревьев\n",
    "n=0\n",
    "f1=0\n",
    "\n",
    "for depth in range(1, 16, 1):\n",
    "    model = RandomForestClassifier(class_weight='balanced', n_estimators=20, max_depth=depth, random_state=1)\n",
    "    model.fit(features_final, target_final)\n",
    "    predictions_test = model.predict(features_test)\n",
    "    result=f1_score(predictions_test, target_test)\n",
    "    \n",
    "    if result>f1:\n",
    "        n=depth\n",
    "        f1=result\n",
    "print(n, result)\n",
    "\n",
    "\n",
    "\n",
    "\n",
    "# подбираем оптимальное кол-во деревьев в лесу\n",
    "estimators=0\n",
    "f1=0\n",
    "\n",
    "for i in range(1, 150, 10):\n",
    "    model = RandomForestClassifier(class_weight='balanced', n_estimators=i, max_depth=n, random_state=1)\n",
    "    model.fit(features_final, target_final)\n",
    "    predictions_test = model.predict(features_test)\n",
    "    result=f1_score(predictions_test, target_test)\n",
    "    if result>f1:\n",
    "        estimators=i\n",
    "        f1=result\n",
    "print(estimators, result)\n",
    "\n",
    "\n",
    "# улучшаем модель сдвигом порога классификации\n",
    "forest = RandomForestClassifier(class_weight='balanced', n_estimators=21, max_depth=11, random_state=1)\n",
    "forest.fit(features_final, target_final)\n",
    "probabilities_test = forest.predict_proba(features_test)\n",
    "probabilities_one_valid = probabilities_test[:, 1]\n",
    "\n",
    "f1_forest=0\n",
    "count=0\n",
    "prec=0\n",
    "rec=0\n",
    "\n",
    "for threshold in np.arange(0, 0.7, 0.01):\n",
    "    predicted_test = probabilities_one_valid > threshold\n",
    "    result_forest=f1_score(predicted_test, target_test)\n",
    "    precision = precision_score(target_test, predicted_test)\n",
    "    recall = recall_score(target_test, predicted_test)\n",
    "    \n",
    "    if result_forest>f1_forest:\n",
    "        f1_forest=result_forest\n",
    "        count=threshold\n",
    "        prec=precision\n",
    "        rec=recall\n",
    "        \n",
    "print('\\n\\n')\n",
    "print(\"Порог = {} | f1 = {:.2f} | Precision = {:.2f} | Recall = {:.2f}\".format(count, f1_forest, prec, rec))\n",
    "print('\\n\\n')\n",
    "\n",
    "\n",
    "\n",
    "feature_importances=(pd.DataFrame(forest.feature_importances_,\n",
    "                    index=features_final.columns, columns=[\"importance\"])\n",
    "                     .sort_values(by='importance', ascending=False))\n",
    "display(feature_importances)\n",
    "feature_importances.plot(kind='barh', figsize=(18, 10))\n",
    "plt.title('importance')\n",
    "plt.show()"
   ]
  },
  {
   "cell_type": "markdown",
   "metadata": {},
   "source": [
    "## 6.9. Вывод <a id='6.9'>\n",
    "[Оглавление▲▲](#heading)"
   ]
  },
  {
   "cell_type": "markdown",
   "metadata": {},
   "source": [
    "### В результате проделанных преобразований выяснилось, что самая лучшая модель - случайный лес. Эта модель при использовании разных методов устранения дисбаланса стабильно показывала самые высокие показатели метрик по сравнению с другими моделями. Путем устранения дисбаланса классов, подбора гиперпараметров и сдвигом порога классификации удалось незначительно поднять метрику F1 (до 0,62) против изначальных 0,56 (при дисбалансе классов). При этом доля угаданных классов \"1\" среди всех предсказанных классов \"1\" составляет 68%, тогда как доля угаданных классов \"1\" среди всех истинных классов \"1\" составила 58%. Наибольшую значимость для целевой переменной играют возраст, кол-во продуктов банка, используемых клиентом, и баланс счета."
   ]
  }
 ],
 "metadata": {
  "kernelspec": {
   "display_name": "Python 3",
   "language": "python",
   "name": "python3"
  },
  "language_info": {
   "codemirror_mode": {
    "name": "ipython",
    "version": 3
   },
   "file_extension": ".py",
   "mimetype": "text/x-python",
   "name": "python",
   "nbconvert_exporter": "python",
   "pygments_lexer": "ipython3",
   "version": "3.8.10"
  },
  "toc": {
   "base_numbering": 1,
   "nav_menu": {},
   "number_sections": true,
   "sideBar": true,
   "skip_h1_title": true,
   "title_cell": "Table of Contents",
   "title_sidebar": "Contents",
   "toc_cell": false,
   "toc_position": {},
   "toc_section_display": true,
   "toc_window_display": false
  }
 },
 "nbformat": 4,
 "nbformat_minor": 4
}
