{
 "cells": [
  {
   "cell_type": "markdown",
   "metadata": {
    "toc": true
   },
   "source": [
    "<h1>Содержание<span class=\"tocSkip\"></span></h1>\n",
    "<div class=\"toc\"><ul class=\"toc-item\"><li><span><a href=\"#Подготовка\" data-toc-modified-id=\"Подготовка-1\"><span class=\"toc-item-num\">1&nbsp;&nbsp;</span>Подготовка</a></span></li><li><span><a href=\"#Анализ\" data-toc-modified-id=\"Анализ-2\"><span class=\"toc-item-num\">2&nbsp;&nbsp;</span>Анализ</a></span></li><li><span><a href=\"#Обучение\" data-toc-modified-id=\"Обучение-3\"><span class=\"toc-item-num\">3&nbsp;&nbsp;</span>Обучение</a></span></li><li><span><a href=\"#Тестирование\" data-toc-modified-id=\"Тестирование-4\"><span class=\"toc-item-num\">4&nbsp;&nbsp;</span>Тестирование</a></span></li><li><span><a href=\"#Чек-лист-проверки\" data-toc-modified-id=\"Чек-лист-проверки-5\"><span class=\"toc-item-num\">5&nbsp;&nbsp;</span>Чек-лист проверки</a></span></li></ul></div>"
   ]
  },
  {
   "cell_type": "markdown",
   "metadata": {},
   "source": [
    "#  Прогнозирование заказов такси"
   ]
  },
  {
   "cell_type": "markdown",
   "metadata": {},
   "source": [
    "Компания «Чётенькое такси» собрала исторические данные о заказах такси в аэропортах. Чтобы привлекать больше водителей в период пиковой нагрузки, нужно спрогнозировать количество заказов такси на следующий час. Постройте модель для такого предсказания.\n",
    "\n",
    "Значение метрики *RMSE* на тестовой выборке должно быть не больше 48.\n",
    "\n",
    "Вам нужно:\n",
    "\n",
    "1. Загрузить данные и выполнить их ресемплирование по одному часу.\n",
    "2. Проанализировать данные.\n",
    "3. Обучить разные модели с различными гиперпараметрами. Сделать тестовую выборку размером 10% от исходных данных.\n",
    "4. Проверить данные на тестовой выборке и сделать выводы.\n",
    "\n",
    "\n",
    "Данные лежат в файле `taxi.csv`. Количество заказов находится в столбце `num_orders` (от англ. *number of orders*, «число заказов»)."
   ]
  },
  {
   "cell_type": "markdown",
   "metadata": {},
   "source": [
    "## Подготовка"
   ]
  },
  {
   "cell_type": "code",
   "execution_count": 63,
   "metadata": {},
   "outputs": [
    {
     "name": "stdout",
     "output_type": "stream",
     "text": [
      "Populating the interactive namespace from numpy and matplotlib\n"
     ]
    }
   ],
   "source": [
    "# загружаем библиотки\n",
    "import pandas as pd\n",
    "import numpy as np\n",
    "import seaborn as sns\n",
    "from matplotlib import pyplot as plt\n",
    "from statsmodels.tsa.seasonal import seasonal_decompose\n",
    "from sklearn.model_selection import train_test_split\n",
    "from sklearn.linear_model import LinearRegression, Ridge, Lasso\n",
    "from sklearn.tree import DecisionTreeRegressor\n",
    "from sklearn.ensemble import RandomForestRegressor\n",
    "from sklearn.metrics import mean_squared_error\n",
    "import lightgbm as lgb\n",
    "from lightgbm import LGBMRegressor\n",
    "from sklearn.model_selection import GridSearchCV\n",
    "import warnings; warnings.filterwarnings(action='ignore') \n",
    "from sklearn.model_selection import KFold\n",
    "from sklearn.model_selection import TimeSeriesSplit\n",
    "%pylab inline\n",
    "pylab.rcParams['figure.figsize']=(18, 6)"
   ]
  },
  {
   "cell_type": "code",
   "execution_count": 64,
   "metadata": {},
   "outputs": [
    {
     "data": {
      "text/html": [
       "<div>\n",
       "<style scoped>\n",
       "    .dataframe tbody tr th:only-of-type {\n",
       "        vertical-align: middle;\n",
       "    }\n",
       "\n",
       "    .dataframe tbody tr th {\n",
       "        vertical-align: top;\n",
       "    }\n",
       "\n",
       "    .dataframe thead th {\n",
       "        text-align: right;\n",
       "    }\n",
       "</style>\n",
       "<table border=\"1\" class=\"dataframe\">\n",
       "  <thead>\n",
       "    <tr style=\"text-align: right;\">\n",
       "      <th></th>\n",
       "      <th>datetime</th>\n",
       "      <th>num_orders</th>\n",
       "    </tr>\n",
       "  </thead>\n",
       "  <tbody>\n",
       "    <tr>\n",
       "      <th>26486</th>\n",
       "      <td>2018-08-31 22:20:00</td>\n",
       "      <td>48</td>\n",
       "    </tr>\n",
       "    <tr>\n",
       "      <th>26487</th>\n",
       "      <td>2018-08-31 22:30:00</td>\n",
       "      <td>41</td>\n",
       "    </tr>\n",
       "    <tr>\n",
       "      <th>26488</th>\n",
       "      <td>2018-08-31 22:40:00</td>\n",
       "      <td>34</td>\n",
       "    </tr>\n",
       "    <tr>\n",
       "      <th>26489</th>\n",
       "      <td>2018-08-31 22:50:00</td>\n",
       "      <td>34</td>\n",
       "    </tr>\n",
       "    <tr>\n",
       "      <th>26490</th>\n",
       "      <td>2018-08-31 23:00:00</td>\n",
       "      <td>30</td>\n",
       "    </tr>\n",
       "    <tr>\n",
       "      <th>26491</th>\n",
       "      <td>2018-08-31 23:10:00</td>\n",
       "      <td>32</td>\n",
       "    </tr>\n",
       "    <tr>\n",
       "      <th>26492</th>\n",
       "      <td>2018-08-31 23:20:00</td>\n",
       "      <td>24</td>\n",
       "    </tr>\n",
       "    <tr>\n",
       "      <th>26493</th>\n",
       "      <td>2018-08-31 23:30:00</td>\n",
       "      <td>27</td>\n",
       "    </tr>\n",
       "    <tr>\n",
       "      <th>26494</th>\n",
       "      <td>2018-08-31 23:40:00</td>\n",
       "      <td>39</td>\n",
       "    </tr>\n",
       "    <tr>\n",
       "      <th>26495</th>\n",
       "      <td>2018-08-31 23:50:00</td>\n",
       "      <td>53</td>\n",
       "    </tr>\n",
       "  </tbody>\n",
       "</table>\n",
       "</div>"
      ],
      "text/plain": [
       "                  datetime  num_orders\n",
       "26486  2018-08-31 22:20:00          48\n",
       "26487  2018-08-31 22:30:00          41\n",
       "26488  2018-08-31 22:40:00          34\n",
       "26489  2018-08-31 22:50:00          34\n",
       "26490  2018-08-31 23:00:00          30\n",
       "26491  2018-08-31 23:10:00          32\n",
       "26492  2018-08-31 23:20:00          24\n",
       "26493  2018-08-31 23:30:00          27\n",
       "26494  2018-08-31 23:40:00          39\n",
       "26495  2018-08-31 23:50:00          53"
      ]
     },
     "metadata": {},
     "output_type": "display_data"
    },
    {
     "name": "stdout",
     "output_type": "stream",
     "text": [
      "<class 'pandas.core.frame.DataFrame'>\n",
      "RangeIndex: 26496 entries, 0 to 26495\n",
      "Data columns (total 2 columns):\n",
      " #   Column      Non-Null Count  Dtype \n",
      "---  ------      --------------  ----- \n",
      " 0   datetime    26496 non-null  object\n",
      " 1   num_orders  26496 non-null  int64 \n",
      "dtypes: int64(1), object(1)\n",
      "memory usage: 414.1+ KB\n"
     ]
    },
    {
     "data": {
      "text/plain": [
       "None"
      ]
     },
     "metadata": {},
     "output_type": "display_data"
    },
    {
     "name": "stdout",
     "output_type": "stream",
     "text": [
      "\n",
      "\n"
     ]
    },
    {
     "data": {
      "text/plain": [
       "datetime      0\n",
       "num_orders    0\n",
       "dtype: int64"
      ]
     },
     "metadata": {},
     "output_type": "display_data"
    }
   ],
   "source": [
    "# откроем файл и посмотрим на данные\n",
    "try:\n",
    "    df = pd.read_csv('/datasets/taxi.csv')\n",
    "except: \n",
    "    df = pd.read_csv('/Users/ASUS/Desktop/практикум/модуль 3/спринт12. Временные ряды/проект/taxi.csv')\n",
    "display(df.tail(10))\n",
    "display(df.info())\n",
    "print('\\n')\n",
    "display(df.isna().sum())"
   ]
  },
  {
   "cell_type": "code",
   "execution_count": 65,
   "metadata": {},
   "outputs": [
    {
     "name": "stdout",
     "output_type": "stream",
     "text": [
      "True\n"
     ]
    }
   ],
   "source": [
    "# переведем даты в индекс и проверим их упорядоченность\n",
    "df['datetime'] = pd.to_datetime(df['datetime'])\n",
    "df = df.set_index('datetime')\n",
    "df.sort_index(inplace=True)\n",
    "print(df.index.is_monotonic)"
   ]
  },
  {
   "cell_type": "code",
   "execution_count": 66,
   "metadata": {},
   "outputs": [
    {
     "name": "stdout",
     "output_type": "stream",
     "text": [
      "(4416, 1)\n"
     ]
    },
    {
     "data": {
      "text/html": [
       "<div>\n",
       "<style scoped>\n",
       "    .dataframe tbody tr th:only-of-type {\n",
       "        vertical-align: middle;\n",
       "    }\n",
       "\n",
       "    .dataframe tbody tr th {\n",
       "        vertical-align: top;\n",
       "    }\n",
       "\n",
       "    .dataframe thead th {\n",
       "        text-align: right;\n",
       "    }\n",
       "</style>\n",
       "<table border=\"1\" class=\"dataframe\">\n",
       "  <thead>\n",
       "    <tr style=\"text-align: right;\">\n",
       "      <th></th>\n",
       "      <th>num_orders</th>\n",
       "    </tr>\n",
       "  </thead>\n",
       "  <tbody>\n",
       "    <tr>\n",
       "      <th>count</th>\n",
       "      <td>4416.000000</td>\n",
       "    </tr>\n",
       "    <tr>\n",
       "      <th>mean</th>\n",
       "      <td>84.422781</td>\n",
       "    </tr>\n",
       "    <tr>\n",
       "      <th>std</th>\n",
       "      <td>45.023853</td>\n",
       "    </tr>\n",
       "    <tr>\n",
       "      <th>min</th>\n",
       "      <td>0.000000</td>\n",
       "    </tr>\n",
       "    <tr>\n",
       "      <th>25%</th>\n",
       "      <td>54.000000</td>\n",
       "    </tr>\n",
       "    <tr>\n",
       "      <th>50%</th>\n",
       "      <td>78.000000</td>\n",
       "    </tr>\n",
       "    <tr>\n",
       "      <th>75%</th>\n",
       "      <td>107.000000</td>\n",
       "    </tr>\n",
       "    <tr>\n",
       "      <th>max</th>\n",
       "      <td>462.000000</td>\n",
       "    </tr>\n",
       "  </tbody>\n",
       "</table>\n",
       "</div>"
      ],
      "text/plain": [
       "        num_orders\n",
       "count  4416.000000\n",
       "mean     84.422781\n",
       "std      45.023853\n",
       "min       0.000000\n",
       "25%      54.000000\n",
       "50%      78.000000\n",
       "75%     107.000000\n",
       "max     462.000000"
      ]
     },
     "metadata": {},
     "output_type": "display_data"
    }
   ],
   "source": [
    "# скомпилируем данные и посмотрим на статистику\n",
    "df = df.resample('1H').sum()\n",
    "print(df.shape)\n",
    "display(df.describe())"
   ]
  },
  {
   "cell_type": "code",
   "execution_count": 67,
   "metadata": {
    "scrolled": false
   },
   "outputs": [
    {
     "data": {
      "image/png": "[encoded data removed]",
      "text/plain": [
       "<Figure size 1296x432 with 1 Axes>"
      ]
     },
     "metadata": {
      "needs_background": "light"
     },
     "output_type": "display_data"
    }
   ],
   "source": [
    "# выявим выбросы\n",
    "sns.boxplot(x=df['num_orders'])\n",
    "plt.show()"
   ]
  },
  {
   "cell_type": "code",
   "execution_count": 68,
   "metadata": {},
   "outputs": [
    {
     "name": "stdout",
     "output_type": "stream",
     "text": [
      "num_orders    166.0\n",
      "Name: 0.95, dtype: float64\n",
      "num_orders    21.0\n",
      "Name: 0.05, dtype: float64\n"
     ]
    }
   ],
   "source": [
    "# скопируем датасет для декомпозиции, чтобы потом не обрабатывать получившиеся пропуски\n",
    "df_1 = df.copy()\n",
    "\n",
    "# найдем 5% и 95% квантили\n",
    "print(df.quantile(0.95))\n",
    "print(df.quantile(0.05))"
   ]
  },
  {
   "cell_type": "code",
   "execution_count": 69,
   "metadata": {},
   "outputs": [],
   "source": [
    "# сгладим выбросы: присвоим значения 5% и 95% квантиля \n",
    "df = df.clip(21, 166)"
   ]
  },
  {
   "cell_type": "markdown",
   "metadata": {},
   "source": [
    "## Анализ"
   ]
  },
  {
   "cell_type": "code",
   "execution_count": 70,
   "metadata": {},
   "outputs": [
    {
     "data": {
      "image/png": "[encoded data removed]",
      "text/plain": [
       "<Figure size 1296x432 with 1 Axes>"
      ]
     },
     "metadata": {
      "needs_background": "light"
     },
     "output_type": "display_data"
    }
   ],
   "source": [
    "# визуализируем сырые данные. В качестве окна сглаживания возьмем сутки\n",
    "df_1['median'] = df_1['num_orders'].rolling(24).median()\n",
    "df_1['std'] =df_1['num_orders'].rolling(24).std()\n",
    "df_1.plot()\n",
    "plt.show()"
   ]
  },
  {
   "cell_type": "code",
   "execution_count": 71,
   "metadata": {},
   "outputs": [
    {
     "data": {
      "image/png": "[encoded data removed]",
      "text/plain": [
       "<Figure size 1296x432 with 1 Axes>"
      ]
     },
     "metadata": {
      "needs_background": "light"
     },
     "output_type": "display_data"
    }
   ],
   "source": [
    "# визуализируем стационарный ряд\n",
    "df_1 -= df_1.shift(fill_value=df_1['num_orders'].median())\n",
    "df_1['median'] = df_1['num_orders'].rolling(24).median()\n",
    "df_1['std'] =df_1['num_orders'].rolling(24).std()\n",
    "df_1.plot()\n",
    "plt.show()"
   ]
  },
  {
   "cell_type": "markdown",
   "metadata": {},
   "source": [
    "данные стали более ровными, что позволяет нам в дальнейшем прогнозировать целевой признак"
   ]
  },
  {
   "cell_type": "code",
   "execution_count": 72,
   "metadata": {},
   "outputs": [
    {
     "data": {
      "text/plain": [
       "(Timestamp('2018-03-01 00:00:00', freq='H'),\n",
       " Timestamp('2018-08-31 23:00:00', freq='H'))"
      ]
     },
     "execution_count": 72,
     "metadata": {},
     "output_type": "execute_result"
    }
   ],
   "source": [
    "# посмотрим на период данных\n",
    "df.index.min(), df.index.max()"
   ]
  },
  {
   "cell_type": "code",
   "execution_count": 73,
   "metadata": {},
   "outputs": [
    {
     "data": {
      "image/png": "[encoded data removed]",
      "text/plain": [
       "<Figure size 1296x432 with 1 Axes>"
      ]
     },
     "metadata": {
      "needs_background": "light"
     },
     "output_type": "display_data"
    }
   ],
   "source": [
    "# т.к. нас интересует ежедневные пиковые нагрузки, поэтому выведем на экран только график периодичности данных за несколько дней\n",
    "decomposed = seasonal_decompose(df)\n",
    "\n",
    "decomposed.seasonal['2018-07-26 00:00:00':'2018-07-30 23:00:00'].plot(ax=plt.gca())\n",
    "plt.title('Seasonality')\n",
    "plt.show()"
   ]
  },
  {
   "cell_type": "markdown",
   "metadata": {},
   "source": [
    "###  На графике четко видны 3 пика повышенного спроса: утром, после обеда и в вечернее время. Значит нам есть, что предсказывать."
   ]
  },
  {
   "cell_type": "code",
   "execution_count": null,
   "metadata": {
    "scrolled": false
   },
   "outputs": [],
   "source": []
  },
  {
   "cell_type": "markdown",
   "metadata": {},
   "source": [
    "## Обучение"
   ]
  },
  {
   "cell_type": "code",
   "execution_count": 74,
   "metadata": {},
   "outputs": [
    {
     "data": {
      "text/html": [
       "<div>\n",
       "<style scoped>\n",
       "    .dataframe tbody tr th:only-of-type {\n",
       "        vertical-align: middle;\n",
       "    }\n",
       "\n",
       "    .dataframe tbody tr th {\n",
       "        vertical-align: top;\n",
       "    }\n",
       "\n",
       "    .dataframe thead th {\n",
       "        text-align: right;\n",
       "    }\n",
       "</style>\n",
       "<table border=\"1\" class=\"dataframe\">\n",
       "  <thead>\n",
       "    <tr style=\"text-align: right;\">\n",
       "      <th></th>\n",
       "      <th>Модель</th>\n",
       "      <th>RMSE</th>\n",
       "    </tr>\n",
       "  </thead>\n",
       "  <tbody>\n",
       "  </tbody>\n",
       "</table>\n",
       "</div>"
      ],
      "text/plain": [
       "Empty DataFrame\n",
       "Columns: [Модель, RMSE]\n",
       "Index: []"
      ]
     },
     "execution_count": 74,
     "metadata": {},
     "output_type": "execute_result"
    }
   ],
   "source": [
    "# создадим таблицу, в которую будем складывать результаты\n",
    "taxi_result = pd.DataFrame(columns=['Модель', 'RMSE'])\n",
    "taxi_result"
   ]
  },
  {
   "cell_type": "code",
   "execution_count": 75,
   "metadata": {},
   "outputs": [],
   "source": [
    "# создадим функцию, которая будет складывать результаты в таблицу\n",
    "def taxi_metrics(df, rmse, model_name):\n",
    "    df.loc[df.shape[0] + 1] = model_name, rmse\n",
    "    return df"
   ]
  },
  {
   "cell_type": "code",
   "execution_count": 76,
   "metadata": {},
   "outputs": [],
   "source": [
    "# создадим функцию, выделяющую признаки\n",
    "def make_features(df, max_lag):\n",
    "    df['month'] = df.index.month\n",
    "    df['dayofweek'] = df.index.dayofweek\n",
    "    df['day'] = df.index.day\n",
    "    df['hour'] = df.index.hour\n",
    "    \n",
    "    for lag in range(1, max_lag + 1):\n",
    "        df['lag_{}'.format(lag)] = df['num_orders'].shift(lag)\n",
    "\n",
    "make_features(df, 4)"
   ]
  },
  {
   "cell_type": "code",
   "execution_count": 77,
   "metadata": {},
   "outputs": [
    {
     "data": {
      "text/html": [
       "<div>\n",
       "<style scoped>\n",
       "    .dataframe tbody tr th:only-of-type {\n",
       "        vertical-align: middle;\n",
       "    }\n",
       "\n",
       "    .dataframe tbody tr th {\n",
       "        vertical-align: top;\n",
       "    }\n",
       "\n",
       "    .dataframe thead th {\n",
       "        text-align: right;\n",
       "    }\n",
       "</style>\n",
       "<table border=\"1\" class=\"dataframe\">\n",
       "  <thead>\n",
       "    <tr style=\"text-align: right;\">\n",
       "      <th></th>\n",
       "      <th>num_orders</th>\n",
       "      <th>month</th>\n",
       "      <th>dayofweek</th>\n",
       "      <th>day</th>\n",
       "      <th>hour</th>\n",
       "      <th>lag_1</th>\n",
       "      <th>lag_2</th>\n",
       "      <th>lag_3</th>\n",
       "      <th>lag_4</th>\n",
       "    </tr>\n",
       "    <tr>\n",
       "      <th>datetime</th>\n",
       "      <th></th>\n",
       "      <th></th>\n",
       "      <th></th>\n",
       "      <th></th>\n",
       "      <th></th>\n",
       "      <th></th>\n",
       "      <th></th>\n",
       "      <th></th>\n",
       "      <th></th>\n",
       "    </tr>\n",
       "  </thead>\n",
       "  <tbody>\n",
       "    <tr>\n",
       "      <th>2018-03-01 00:00:00</th>\n",
       "      <td>124</td>\n",
       "      <td>3</td>\n",
       "      <td>3</td>\n",
       "      <td>1</td>\n",
       "      <td>0</td>\n",
       "      <td>NaN</td>\n",
       "      <td>NaN</td>\n",
       "      <td>NaN</td>\n",
       "      <td>NaN</td>\n",
       "    </tr>\n",
       "    <tr>\n",
       "      <th>2018-03-01 01:00:00</th>\n",
       "      <td>85</td>\n",
       "      <td>3</td>\n",
       "      <td>3</td>\n",
       "      <td>1</td>\n",
       "      <td>1</td>\n",
       "      <td>124.0</td>\n",
       "      <td>NaN</td>\n",
       "      <td>NaN</td>\n",
       "      <td>NaN</td>\n",
       "    </tr>\n",
       "    <tr>\n",
       "      <th>2018-03-01 02:00:00</th>\n",
       "      <td>71</td>\n",
       "      <td>3</td>\n",
       "      <td>3</td>\n",
       "      <td>1</td>\n",
       "      <td>2</td>\n",
       "      <td>85.0</td>\n",
       "      <td>124.0</td>\n",
       "      <td>NaN</td>\n",
       "      <td>NaN</td>\n",
       "    </tr>\n",
       "    <tr>\n",
       "      <th>2018-03-01 03:00:00</th>\n",
       "      <td>66</td>\n",
       "      <td>3</td>\n",
       "      <td>3</td>\n",
       "      <td>1</td>\n",
       "      <td>3</td>\n",
       "      <td>71.0</td>\n",
       "      <td>85.0</td>\n",
       "      <td>124.0</td>\n",
       "      <td>NaN</td>\n",
       "    </tr>\n",
       "    <tr>\n",
       "      <th>2018-03-01 04:00:00</th>\n",
       "      <td>43</td>\n",
       "      <td>3</td>\n",
       "      <td>3</td>\n",
       "      <td>1</td>\n",
       "      <td>4</td>\n",
       "      <td>66.0</td>\n",
       "      <td>71.0</td>\n",
       "      <td>85.0</td>\n",
       "      <td>124.0</td>\n",
       "    </tr>\n",
       "    <tr>\n",
       "      <th>2018-03-01 05:00:00</th>\n",
       "      <td>21</td>\n",
       "      <td>3</td>\n",
       "      <td>3</td>\n",
       "      <td>1</td>\n",
       "      <td>5</td>\n",
       "      <td>43.0</td>\n",
       "      <td>66.0</td>\n",
       "      <td>71.0</td>\n",
       "      <td>85.0</td>\n",
       "    </tr>\n",
       "  </tbody>\n",
       "</table>\n",
       "</div>"
      ],
      "text/plain": [
       "                     num_orders  month  dayofweek  day  hour  lag_1  lag_2  \\\n",
       "datetime                                                                     \n",
       "2018-03-01 00:00:00         124      3          3    1     0    NaN    NaN   \n",
       "2018-03-01 01:00:00          85      3          3    1     1  124.0    NaN   \n",
       "2018-03-01 02:00:00          71      3          3    1     2   85.0  124.0   \n",
       "2018-03-01 03:00:00          66      3          3    1     3   71.0   85.0   \n",
       "2018-03-01 04:00:00          43      3          3    1     4   66.0   71.0   \n",
       "2018-03-01 05:00:00          21      3          3    1     5   43.0   66.0   \n",
       "\n",
       "                     lag_3  lag_4  \n",
       "datetime                           \n",
       "2018-03-01 00:00:00    NaN    NaN  \n",
       "2018-03-01 01:00:00    NaN    NaN  \n",
       "2018-03-01 02:00:00    NaN    NaN  \n",
       "2018-03-01 03:00:00  124.0    NaN  \n",
       "2018-03-01 04:00:00   85.0  124.0  \n",
       "2018-03-01 05:00:00   71.0   85.0  "
      ]
     },
     "metadata": {},
     "output_type": "display_data"
    }
   ],
   "source": [
    "# проверка\n",
    "display(df.head(6))"
   ]
  },
  {
   "cell_type": "code",
   "execution_count": 78,
   "metadata": {},
   "outputs": [],
   "source": [
    "# разобьем данные на обучающую и тестовую выборки, удалим образовавшиеся пропуски выборке\n",
    "df = df.dropna()\n",
    "train, test = train_test_split(df, test_size=0.2, shuffle=False, random_state=1)\n",
    "valid, test = train_test_split(test, test_size=0.5, shuffle=False, random_state=1)"
   ]
  },
  {
   "cell_type": "code",
   "execution_count": 79,
   "metadata": {},
   "outputs": [],
   "source": [
    "#  выделим признаки и цель\n",
    "y_train = train['num_orders']\n",
    "y_test = test['num_orders']\n",
    "y_valid = valid['num_orders']\n",
    "\n",
    "x_train = train.drop('num_orders', axis=1)\n",
    "x_test = test.drop('num_orders', axis=1)\n",
    "x_valid = valid.drop('num_orders', axis=1)"
   ]
  },
  {
   "cell_type": "code",
   "execution_count": 80,
   "metadata": {},
   "outputs": [
    {
     "data": {
      "text/html": [
       "<div>\n",
       "<style scoped>\n",
       "    .dataframe tbody tr th:only-of-type {\n",
       "        vertical-align: middle;\n",
       "    }\n",
       "\n",
       "    .dataframe tbody tr th {\n",
       "        vertical-align: top;\n",
       "    }\n",
       "\n",
       "    .dataframe thead th {\n",
       "        text-align: right;\n",
       "    }\n",
       "</style>\n",
       "<table border=\"1\" class=\"dataframe\">\n",
       "  <thead>\n",
       "    <tr style=\"text-align: right;\">\n",
       "      <th></th>\n",
       "      <th>Модель</th>\n",
       "      <th>RMSE</th>\n",
       "    </tr>\n",
       "  </thead>\n",
       "  <tbody>\n",
       "    <tr>\n",
       "      <th>1</th>\n",
       "      <td>Константная модель</td>\n",
       "      <td>51.082877</td>\n",
       "    </tr>\n",
       "  </tbody>\n",
       "</table>\n",
       "</div>"
      ],
      "text/plain": [
       "               Модель       RMSE\n",
       "1  Константная модель  51.082877"
      ]
     },
     "execution_count": 80,
     "metadata": {},
     "output_type": "execute_result"
    }
   ],
   "source": [
    "# константная модель, заполненная медианой\n",
    "const_pred = np.ones(valid.shape[0]) * y_train.median()\n",
    "const_rmse = np.sqrt(mean_squared_error(const_pred, y_valid))\n",
    "taxi_metrics(taxi_result, const_rmse, 'Константная модель')"
   ]
  },
  {
   "cell_type": "code",
   "execution_count": 81,
   "metadata": {},
   "outputs": [
    {
     "data": {
      "text/html": [
       "<div>\n",
       "<style scoped>\n",
       "    .dataframe tbody tr th:only-of-type {\n",
       "        vertical-align: middle;\n",
       "    }\n",
       "\n",
       "    .dataframe tbody tr th {\n",
       "        vertical-align: top;\n",
       "    }\n",
       "\n",
       "    .dataframe thead th {\n",
       "        text-align: right;\n",
       "    }\n",
       "</style>\n",
       "<table border=\"1\" class=\"dataframe\">\n",
       "  <thead>\n",
       "    <tr style=\"text-align: right;\">\n",
       "      <th></th>\n",
       "      <th>Модель</th>\n",
       "      <th>RMSE</th>\n",
       "    </tr>\n",
       "  </thead>\n",
       "  <tbody>\n",
       "    <tr>\n",
       "      <th>1</th>\n",
       "      <td>Константная модель</td>\n",
       "      <td>51.082877</td>\n",
       "    </tr>\n",
       "    <tr>\n",
       "      <th>2</th>\n",
       "      <td>Модель сдвига</td>\n",
       "      <td>38.306261</td>\n",
       "    </tr>\n",
       "  </tbody>\n",
       "</table>\n",
       "</div>"
      ],
      "text/plain": [
       "               Модель       RMSE\n",
       "1  Константная модель  51.082877\n",
       "2       Модель сдвига  38.306261"
      ]
     },
     "execution_count": 81,
     "metadata": {},
     "output_type": "execute_result"
    }
   ],
   "source": [
    "# модель сдвига\n",
    "shift_pred = y_valid.shift()\n",
    "shift_pred.iloc[0] = y_train.iloc[y_train.shape[0] - 1]\n",
    "shift_rmse = np.sqrt(mean_squared_error(shift_pred, y_valid))\n",
    "taxi_metrics(taxi_result, shift_rmse, 'Модель сдвига')"
   ]
  },
  {
   "cell_type": "code",
   "execution_count": 82,
   "metadata": {},
   "outputs": [
    {
     "data": {
      "text/html": [
       "<div>\n",
       "<style scoped>\n",
       "    .dataframe tbody tr th:only-of-type {\n",
       "        vertical-align: middle;\n",
       "    }\n",
       "\n",
       "    .dataframe tbody tr th {\n",
       "        vertical-align: top;\n",
       "    }\n",
       "\n",
       "    .dataframe thead th {\n",
       "        text-align: right;\n",
       "    }\n",
       "</style>\n",
       "<table border=\"1\" class=\"dataframe\">\n",
       "  <thead>\n",
       "    <tr style=\"text-align: right;\">\n",
       "      <th></th>\n",
       "      <th>Модель</th>\n",
       "      <th>RMSE</th>\n",
       "    </tr>\n",
       "  </thead>\n",
       "  <tbody>\n",
       "    <tr>\n",
       "      <th>1</th>\n",
       "      <td>Константная модель</td>\n",
       "      <td>51.082877</td>\n",
       "    </tr>\n",
       "    <tr>\n",
       "      <th>2</th>\n",
       "      <td>Модель сдвига</td>\n",
       "      <td>38.306261</td>\n",
       "    </tr>\n",
       "    <tr>\n",
       "      <th>3</th>\n",
       "      <td>Линейная регрессия</td>\n",
       "      <td>33.090421</td>\n",
       "    </tr>\n",
       "  </tbody>\n",
       "</table>\n",
       "</div>"
      ],
      "text/plain": [
       "               Модель       RMSE\n",
       "1  Константная модель  51.082877\n",
       "2       Модель сдвига  38.306261\n",
       "3  Линейная регрессия  33.090421"
      ]
     },
     "execution_count": 82,
     "metadata": {},
     "output_type": "execute_result"
    }
   ],
   "source": [
    "# линейная регрессия\n",
    "lr_model = LinearRegression()\n",
    "lr_model.fit(x_train, y_train)\n",
    "lr_pred = lr_model.predict(x_valid)\n",
    "lr_rmse = np.sqrt(mean_squared_error(lr_pred, y_valid))\n",
    "taxi_metrics(taxi_result, lr_rmse, 'Линейная регрессия')"
   ]
  },
  {
   "cell_type": "code",
   "execution_count": 83,
   "metadata": {},
   "outputs": [
    {
     "data": {
      "text/html": [
       "<div>\n",
       "<style scoped>\n",
       "    .dataframe tbody tr th:only-of-type {\n",
       "        vertical-align: middle;\n",
       "    }\n",
       "\n",
       "    .dataframe tbody tr th {\n",
       "        vertical-align: top;\n",
       "    }\n",
       "\n",
       "    .dataframe thead th {\n",
       "        text-align: right;\n",
       "    }\n",
       "</style>\n",
       "<table border=\"1\" class=\"dataframe\">\n",
       "  <thead>\n",
       "    <tr style=\"text-align: right;\">\n",
       "      <th></th>\n",
       "      <th>Модель</th>\n",
       "      <th>RMSE</th>\n",
       "    </tr>\n",
       "  </thead>\n",
       "  <tbody>\n",
       "    <tr>\n",
       "      <th>1</th>\n",
       "      <td>Константная модель</td>\n",
       "      <td>51.082877</td>\n",
       "    </tr>\n",
       "    <tr>\n",
       "      <th>2</th>\n",
       "      <td>Модель сдвига</td>\n",
       "      <td>38.306261</td>\n",
       "    </tr>\n",
       "    <tr>\n",
       "      <th>3</th>\n",
       "      <td>Линейная регрессия</td>\n",
       "      <td>33.090421</td>\n",
       "    </tr>\n",
       "    <tr>\n",
       "      <th>4</th>\n",
       "      <td>Ridge регрессия</td>\n",
       "      <td>33.090746</td>\n",
       "    </tr>\n",
       "  </tbody>\n",
       "</table>\n",
       "</div>"
      ],
      "text/plain": [
       "               Модель       RMSE\n",
       "1  Константная модель  51.082877\n",
       "2       Модель сдвига  38.306261\n",
       "3  Линейная регрессия  33.090421\n",
       "4     Ridge регрессия  33.090746"
      ]
     },
     "execution_count": 83,
     "metadata": {},
     "output_type": "execute_result"
    }
   ],
   "source": [
    "ridge = Ridge(alpha=1.0, random_state=1)\n",
    "ridge.fit(x_train, y_train)\n",
    "ridge_pred = ridge.predict(x_valid)\n",
    "ridge_rmse = np.sqrt(mean_squared_error(ridge_pred, y_valid))\n",
    "taxi_metrics(taxi_result, ridge_rmse, 'Ridge регрессия')"
   ]
  },
  {
   "cell_type": "code",
   "execution_count": 84,
   "metadata": {},
   "outputs": [
    {
     "data": {
      "text/html": [
       "<div>\n",
       "<style scoped>\n",
       "    .dataframe tbody tr th:only-of-type {\n",
       "        vertical-align: middle;\n",
       "    }\n",
       "\n",
       "    .dataframe tbody tr th {\n",
       "        vertical-align: top;\n",
       "    }\n",
       "\n",
       "    .dataframe thead th {\n",
       "        text-align: right;\n",
       "    }\n",
       "</style>\n",
       "<table border=\"1\" class=\"dataframe\">\n",
       "  <thead>\n",
       "    <tr style=\"text-align: right;\">\n",
       "      <th></th>\n",
       "      <th>Модель</th>\n",
       "      <th>RMSE</th>\n",
       "    </tr>\n",
       "  </thead>\n",
       "  <tbody>\n",
       "    <tr>\n",
       "      <th>1</th>\n",
       "      <td>Константная модель</td>\n",
       "      <td>51.082877</td>\n",
       "    </tr>\n",
       "    <tr>\n",
       "      <th>2</th>\n",
       "      <td>Модель сдвига</td>\n",
       "      <td>38.306261</td>\n",
       "    </tr>\n",
       "    <tr>\n",
       "      <th>3</th>\n",
       "      <td>Линейная регрессия</td>\n",
       "      <td>33.090421</td>\n",
       "    </tr>\n",
       "    <tr>\n",
       "      <th>4</th>\n",
       "      <td>Ridge регрессия</td>\n",
       "      <td>33.090746</td>\n",
       "    </tr>\n",
       "    <tr>\n",
       "      <th>5</th>\n",
       "      <td>Lasso регрессия</td>\n",
       "      <td>33.195303</td>\n",
       "    </tr>\n",
       "  </tbody>\n",
       "</table>\n",
       "</div>"
      ],
      "text/plain": [
       "               Модель       RMSE\n",
       "1  Константная модель  51.082877\n",
       "2       Модель сдвига  38.306261\n",
       "3  Линейная регрессия  33.090421\n",
       "4     Ridge регрессия  33.090746\n",
       "5     Lasso регрессия  33.195303"
      ]
     },
     "execution_count": 84,
     "metadata": {},
     "output_type": "execute_result"
    }
   ],
   "source": [
    "lasso = Lasso(alpha=0.5, random_state=1)\n",
    "lasso.fit(x_train, y_train)\n",
    "lasso_pred = lasso.predict(x_valid)\n",
    "lasso_rmse = np.sqrt(mean_squared_error(lasso_pred, y_valid))\n",
    "taxi_metrics(taxi_result, lasso_rmse, 'Lasso регрессия')"
   ]
  },
  {
   "cell_type": "code",
   "execution_count": 85,
   "metadata": {},
   "outputs": [
    {
     "name": "stdout",
     "output_type": "stream",
     "text": [
      "\n",
      "\n"
     ]
    },
    {
     "data": {
      "text/html": [
       "<div>\n",
       "<style scoped>\n",
       "    .dataframe tbody tr th:only-of-type {\n",
       "        vertical-align: middle;\n",
       "    }\n",
       "\n",
       "    .dataframe tbody tr th {\n",
       "        vertical-align: top;\n",
       "    }\n",
       "\n",
       "    .dataframe thead th {\n",
       "        text-align: right;\n",
       "    }\n",
       "</style>\n",
       "<table border=\"1\" class=\"dataframe\">\n",
       "  <thead>\n",
       "    <tr style=\"text-align: right;\">\n",
       "      <th></th>\n",
       "      <th>Модель</th>\n",
       "      <th>RMSE</th>\n",
       "    </tr>\n",
       "  </thead>\n",
       "  <tbody>\n",
       "    <tr>\n",
       "      <th>1</th>\n",
       "      <td>Константная модель</td>\n",
       "      <td>51.082877</td>\n",
       "    </tr>\n",
       "    <tr>\n",
       "      <th>2</th>\n",
       "      <td>Модель сдвига</td>\n",
       "      <td>38.306261</td>\n",
       "    </tr>\n",
       "    <tr>\n",
       "      <th>3</th>\n",
       "      <td>Линейная регрессия</td>\n",
       "      <td>33.090421</td>\n",
       "    </tr>\n",
       "    <tr>\n",
       "      <th>4</th>\n",
       "      <td>Ridge регрессия</td>\n",
       "      <td>33.090746</td>\n",
       "    </tr>\n",
       "    <tr>\n",
       "      <th>5</th>\n",
       "      <td>Lasso регрессия</td>\n",
       "      <td>33.195303</td>\n",
       "    </tr>\n",
       "    <tr>\n",
       "      <th>6</th>\n",
       "      <td>модель дерева</td>\n",
       "      <td>28.182468</td>\n",
       "    </tr>\n",
       "  </tbody>\n",
       "</table>\n",
       "</div>"
      ],
      "text/plain": [
       "               Модель       RMSE\n",
       "1  Константная модель  51.082877\n",
       "2       Модель сдвига  38.306261\n",
       "3  Линейная регрессия  33.090421\n",
       "4     Ridge регрессия  33.090746\n",
       "5     Lasso регрессия  33.195303\n",
       "6       модель дерева  28.182468"
      ]
     },
     "execution_count": 85,
     "metadata": {},
     "output_type": "execute_result"
    }
   ],
   "source": [
    "# модель решающего дерева\n",
    "tree_depth = 0\n",
    "tree_rmse = 100\n",
    "for depth in range(1, 25):\n",
    "    tree = DecisionTreeRegressor(max_depth=depth, random_state=1)\n",
    "    tree.fit(x_train, y_train)\n",
    "    tree_pred = tree.predict(x_valid)\n",
    "    result = np.sqrt(mean_squared_error(tree_pred, y_valid))\n",
    "    \n",
    "    \n",
    "    if result < tree_rmse:\n",
    "        tree_rmse = result\n",
    "        tree_depth = depth\n",
    "\n",
    "print('\\n')\n",
    "#print(tree_depth, tree_rmse)   \n",
    "#print('\\n')\n",
    "taxi_metrics(taxi_result, tree_rmse, 'модель дерева')"
   ]
  },
  {
   "cell_type": "code",
   "execution_count": 86,
   "metadata": {},
   "outputs": [
    {
     "name": "stdout",
     "output_type": "stream",
     "text": [
      "RMSE: 28.069730437261754, глубина дерева 9, кол-во деревьев 19.\n",
      "Wall time: 10.1 s\n"
     ]
    },
    {
     "data": {
      "text/html": [
       "<div>\n",
       "<style scoped>\n",
       "    .dataframe tbody tr th:only-of-type {\n",
       "        vertical-align: middle;\n",
       "    }\n",
       "\n",
       "    .dataframe tbody tr th {\n",
       "        vertical-align: top;\n",
       "    }\n",
       "\n",
       "    .dataframe thead th {\n",
       "        text-align: right;\n",
       "    }\n",
       "</style>\n",
       "<table border=\"1\" class=\"dataframe\">\n",
       "  <thead>\n",
       "    <tr style=\"text-align: right;\">\n",
       "      <th></th>\n",
       "      <th>Модель</th>\n",
       "      <th>RMSE</th>\n",
       "    </tr>\n",
       "  </thead>\n",
       "  <tbody>\n",
       "    <tr>\n",
       "      <th>1</th>\n",
       "      <td>Константная модель</td>\n",
       "      <td>51.082877</td>\n",
       "    </tr>\n",
       "    <tr>\n",
       "      <th>2</th>\n",
       "      <td>Модель сдвига</td>\n",
       "      <td>38.306261</td>\n",
       "    </tr>\n",
       "    <tr>\n",
       "      <th>3</th>\n",
       "      <td>Линейная регрессия</td>\n",
       "      <td>33.090421</td>\n",
       "    </tr>\n",
       "    <tr>\n",
       "      <th>4</th>\n",
       "      <td>Ridge регрессия</td>\n",
       "      <td>33.090746</td>\n",
       "    </tr>\n",
       "    <tr>\n",
       "      <th>5</th>\n",
       "      <td>Lasso регрессия</td>\n",
       "      <td>33.195303</td>\n",
       "    </tr>\n",
       "    <tr>\n",
       "      <th>6</th>\n",
       "      <td>модель дерева</td>\n",
       "      <td>28.182468</td>\n",
       "    </tr>\n",
       "    <tr>\n",
       "      <th>7</th>\n",
       "      <td>модель случайного леса</td>\n",
       "      <td>28.069730</td>\n",
       "    </tr>\n",
       "  </tbody>\n",
       "</table>\n",
       "</div>"
      ],
      "text/plain": [
       "                   Модель       RMSE\n",
       "1      Константная модель  51.082877\n",
       "2           Модель сдвига  38.306261\n",
       "3      Линейная регрессия  33.090421\n",
       "4         Ridge регрессия  33.090746\n",
       "5         Lasso регрессия  33.195303\n",
       "6           модель дерева  28.182468\n",
       "7  модель случайного леса  28.069730"
      ]
     },
     "execution_count": 86,
     "metadata": {},
     "output_type": "execute_result"
    }
   ],
   "source": [
    "\n",
    "%%time\n",
    "# модель случайного леса\n",
    "f_depth = 0\n",
    "f_estimators = 0\n",
    "f_rmse = 100\n",
    "\n",
    "for depth in range(1, 15):\n",
    "    for estimator in range(10, 25):\n",
    "        forest = RandomForestRegressor(n_estimators=estimator, max_depth=depth, bootstrap=False, random_state=1, n_jobs=-1)\n",
    "        forest.fit(x_train, y_train)\n",
    "        f_pred = forest.predict(x_valid)\n",
    "        result = np.sqrt(mean_squared_error(f_pred, y_valid))\n",
    "        \n",
    "        if result < f_rmse:\n",
    "            f_rmse = result\n",
    "            f_depth = depth\n",
    "            f_estimators = estimator\n",
    "\n",
    "print(f'RMSE: {f_rmse}, глубина дерева {f_depth}, кол-во деревьев {f_estimators}.')\n",
    "taxi_metrics(taxi_result, f_rmse, 'модель случайного леса')\n",
    "#%%script false"
   ]
  },
  {
   "cell_type": "code",
   "execution_count": 87,
   "metadata": {},
   "outputs": [
    {
     "name": "stdout",
     "output_type": "stream",
     "text": [
      "Лучшие параметры сетки: {'learning_rate': 0.07, 'n_estimators': 110, 'num_leaves': 13}\n",
      "Wall time: 22.3 s\n"
     ]
    }
   ],
   "source": [
    "\n",
    "%%time\n",
    "# определим лучшие параметры для модели LGBMRegressor\n",
    "estimator = lgb.LGBMRegressor(random_state=1)\n",
    "param_grid = {'num_leaves': [10, 11, 12, 13, 14, 15],\n",
    "              'learning_rate': [0.05, 0.06, 0.07, 0.08, 0.09, 0.1], \n",
    "              'n_estimators': [100, 110, 120, 130]}\n",
    "\n",
    "\n",
    "gbm = GridSearchCV(estimator, param_grid, cv=TimeSeriesSplit())\n",
    "gbm.fit(x_train, y_train)\n",
    "print('Лучшие параметры сетки:', gbm.best_params_)\n",
    "#%%script false"
   ]
  },
  {
   "cell_type": "code",
   "execution_count": 88,
   "metadata": {},
   "outputs": [
    {
     "name": "stdout",
     "output_type": "stream",
     "text": [
      "Training until validation scores don't improve for 5 rounds\n",
      "[10]\tvalid_0's rmse: 37.9688\tvalid_0's l2: 1441.63\n",
      "[20]\tvalid_0's rmse: 33.0096\tvalid_0's l2: 1089.63\n",
      "[30]\tvalid_0's rmse: 30.0845\tvalid_0's l2: 905.076\n",
      "[40]\tvalid_0's rmse: 28.1917\tvalid_0's l2: 794.773\n",
      "[50]\tvalid_0's rmse: 27.3185\tvalid_0's l2: 746.301\n",
      "[60]\tvalid_0's rmse: 26.4658\tvalid_0's l2: 700.438\n",
      "[70]\tvalid_0's rmse: 25.9997\tvalid_0's l2: 675.986\n",
      "[80]\tvalid_0's rmse: 25.6428\tvalid_0's l2: 657.554\n",
      "[90]\tvalid_0's rmse: 25.2621\tvalid_0's l2: 638.174\n",
      "[100]\tvalid_0's rmse: 25.0304\tvalid_0's l2: 626.521\n",
      "[110]\tvalid_0's rmse: 24.9212\tvalid_0's l2: 621.067\n",
      "Did not meet early stopping. Best iteration is:\n",
      "[108]\tvalid_0's rmse: 24.9143\tvalid_0's l2: 620.721\n",
      "\n",
      "\n",
      "Лучшая метрика: 24.91428018165683\n",
      "\n",
      "\n",
      "Wall time: 71 ms\n"
     ]
    },
    {
     "data": {
      "text/html": [
       "<div>\n",
       "<style scoped>\n",
       "    .dataframe tbody tr th:only-of-type {\n",
       "        vertical-align: middle;\n",
       "    }\n",
       "\n",
       "    .dataframe tbody tr th {\n",
       "        vertical-align: top;\n",
       "    }\n",
       "\n",
       "    .dataframe thead th {\n",
       "        text-align: right;\n",
       "    }\n",
       "</style>\n",
       "<table border=\"1\" class=\"dataframe\">\n",
       "  <thead>\n",
       "    <tr style=\"text-align: right;\">\n",
       "      <th></th>\n",
       "      <th>Модель</th>\n",
       "      <th>RMSE</th>\n",
       "    </tr>\n",
       "  </thead>\n",
       "  <tbody>\n",
       "    <tr>\n",
       "      <th>1</th>\n",
       "      <td>Константная модель</td>\n",
       "      <td>51.082877</td>\n",
       "    </tr>\n",
       "    <tr>\n",
       "      <th>2</th>\n",
       "      <td>Модель сдвига</td>\n",
       "      <td>38.306261</td>\n",
       "    </tr>\n",
       "    <tr>\n",
       "      <th>3</th>\n",
       "      <td>Линейная регрессия</td>\n",
       "      <td>33.090421</td>\n",
       "    </tr>\n",
       "    <tr>\n",
       "      <th>4</th>\n",
       "      <td>Ridge регрессия</td>\n",
       "      <td>33.090746</td>\n",
       "    </tr>\n",
       "    <tr>\n",
       "      <th>5</th>\n",
       "      <td>Lasso регрессия</td>\n",
       "      <td>33.195303</td>\n",
       "    </tr>\n",
       "    <tr>\n",
       "      <th>6</th>\n",
       "      <td>модель дерева</td>\n",
       "      <td>28.182468</td>\n",
       "    </tr>\n",
       "    <tr>\n",
       "      <th>7</th>\n",
       "      <td>модель случайного леса</td>\n",
       "      <td>28.069730</td>\n",
       "    </tr>\n",
       "    <tr>\n",
       "      <th>8</th>\n",
       "      <td>модель LightGBM</td>\n",
       "      <td>24.914280</td>\n",
       "    </tr>\n",
       "  </tbody>\n",
       "</table>\n",
       "</div>"
      ],
      "text/plain": [
       "                   Модель       RMSE\n",
       "1      Константная модель  51.082877\n",
       "2           Модель сдвига  38.306261\n",
       "3      Линейная регрессия  33.090421\n",
       "4         Ridge регрессия  33.090746\n",
       "5         Lasso регрессия  33.195303\n",
       "6           модель дерева  28.182468\n",
       "7  модель случайного леса  28.069730\n",
       "8         модель LightGBM  24.914280"
      ]
     },
     "execution_count": 88,
     "metadata": {},
     "output_type": "execute_result"
    }
   ],
   "source": [
    "\n",
    "%%time\n",
    "# используем LGBMRegressor с лучшими параметрами\n",
    "gbm = lgb.LGBMRegressor(objective = 'regression', \n",
    "                        num_leaves = 13, \n",
    "                        learning_rate = 0.07,\n",
    "                        max_depth = -1,\n",
    "                        n_estimators = 110,\n",
    "                        random_state=1)\n",
    "\n",
    "gbm.fit(x_train, \n",
    "        y_train,\n",
    "        eval_set = [(x_valid, y_valid)],\n",
    "        eval_metric ='rmse',\n",
    "        early_stopping_rounds = 5,\n",
    "        verbose = 10)\n",
    "\n",
    "lgb_pred = gbm.predict(x_valid,  num_iteration=gbm.best_iteration_)\n",
    "lgb_rmse = np.sqrt(mean_squared_error(y_valid, lgb_pred))\n",
    "print('\\n')\n",
    "print('Лучшая метрика:', lgb_rmse)\n",
    "print('\\n')\n",
    "\n",
    "\n",
    "taxi_metrics(taxi_result, lgb_rmse, 'модель LightGBM')"
   ]
  },
  {
   "cell_type": "markdown",
   "metadata": {},
   "source": [
    "## Тестирование"
   ]
  },
  {
   "cell_type": "code",
   "execution_count": 89,
   "metadata": {},
   "outputs": [
    {
     "name": "stdout",
     "output_type": "stream",
     "text": [
      "Couldn't find program: 'false'\n"
     ]
    }
   ],
   "source": [
    "%%script false\n",
    "x_union = pd.concat([x_train, x_valid], axis=0)\n",
    "y_union = pd.concat([y_train, y_valid], axis=0)"
   ]
  },
  {
   "cell_type": "code",
   "execution_count": 92,
   "metadata": {},
   "outputs": [
    {
     "name": "stdout",
     "output_type": "stream",
     "text": [
      "RMSE: 38.68321351414871\n"
     ]
    },
    {
     "data": {
      "text/html": [
       "<div>\n",
       "<style scoped>\n",
       "    .dataframe tbody tr th:only-of-type {\n",
       "        vertical-align: middle;\n",
       "    }\n",
       "\n",
       "    .dataframe tbody tr th {\n",
       "        vertical-align: top;\n",
       "    }\n",
       "\n",
       "    .dataframe thead th {\n",
       "        text-align: right;\n",
       "    }\n",
       "</style>\n",
       "<table border=\"1\" class=\"dataframe\">\n",
       "  <thead>\n",
       "    <tr style=\"text-align: right;\">\n",
       "      <th></th>\n",
       "      <th>Модель</th>\n",
       "      <th>RMSE</th>\n",
       "    </tr>\n",
       "  </thead>\n",
       "  <tbody>\n",
       "    <tr>\n",
       "      <th>1</th>\n",
       "      <td>Константная модель</td>\n",
       "      <td>51.082877</td>\n",
       "    </tr>\n",
       "    <tr>\n",
       "      <th>2</th>\n",
       "      <td>Модель сдвига</td>\n",
       "      <td>38.306261</td>\n",
       "    </tr>\n",
       "    <tr>\n",
       "      <th>3</th>\n",
       "      <td>Линейная регрессия</td>\n",
       "      <td>33.090421</td>\n",
       "    </tr>\n",
       "    <tr>\n",
       "      <th>4</th>\n",
       "      <td>Ridge регрессия</td>\n",
       "      <td>33.090746</td>\n",
       "    </tr>\n",
       "    <tr>\n",
       "      <th>5</th>\n",
       "      <td>Lasso регрессия</td>\n",
       "      <td>33.195303</td>\n",
       "    </tr>\n",
       "    <tr>\n",
       "      <th>6</th>\n",
       "      <td>модель дерева</td>\n",
       "      <td>28.182468</td>\n",
       "    </tr>\n",
       "    <tr>\n",
       "      <th>7</th>\n",
       "      <td>модель случайного леса</td>\n",
       "      <td>28.069730</td>\n",
       "    </tr>\n",
       "    <tr>\n",
       "      <th>8</th>\n",
       "      <td>модель LightGBM</td>\n",
       "      <td>24.914280</td>\n",
       "    </tr>\n",
       "    <tr>\n",
       "      <th>9</th>\n",
       "      <td>test-модель леса</td>\n",
       "      <td>38.596114</td>\n",
       "    </tr>\n",
       "    <tr>\n",
       "      <th>10</th>\n",
       "      <td>test-модель LightGBM</td>\n",
       "      <td>35.695510</td>\n",
       "    </tr>\n",
       "    <tr>\n",
       "      <th>11</th>\n",
       "      <td>test-модель леса</td>\n",
       "      <td>38.683214</td>\n",
       "    </tr>\n",
       "  </tbody>\n",
       "</table>\n",
       "</div>"
      ],
      "text/plain": [
       "                    Модель       RMSE\n",
       "1       Константная модель  51.082877\n",
       "2            Модель сдвига  38.306261\n",
       "3       Линейная регрессия  33.090421\n",
       "4          Ridge регрессия  33.090746\n",
       "5          Lasso регрессия  33.195303\n",
       "6            модель дерева  28.182468\n",
       "7   модель случайного леса  28.069730\n",
       "8          модель LightGBM  24.914280\n",
       "9         test-модель леса  38.596114\n",
       "10    test-модель LightGBM  35.695510\n",
       "11        test-модель леса  38.683214"
      ]
     },
     "execution_count": 92,
     "metadata": {},
     "output_type": "execute_result"
    }
   ],
   "source": [
    "# \n",
    "forest = RandomForestRegressor(n_estimators=19, max_depth=9, n_jobs=-1, random_state=1)\n",
    "forest.fit(x_train, y_train)\n",
    "test_f_pred = forest.predict(x_test)\n",
    "test_result = np.sqrt(mean_squared_error(test_f_pred, y_test))\n",
    "\n",
    "\n",
    "print(f'RMSE: {test_result}')        \n",
    "taxi_metrics(taxi_result, test_result, 'test-модель леса')"
   ]
  },
  {
   "cell_type": "code",
   "execution_count": 91,
   "metadata": {},
   "outputs": [
    {
     "name": "stdout",
     "output_type": "stream",
     "text": [
      "\n",
      "\n",
      "Лучшая метрика: 35.69550971980301\n"
     ]
    },
    {
     "data": {
      "text/html": [
       "<div>\n",
       "<style scoped>\n",
       "    .dataframe tbody tr th:only-of-type {\n",
       "        vertical-align: middle;\n",
       "    }\n",
       "\n",
       "    .dataframe tbody tr th {\n",
       "        vertical-align: top;\n",
       "    }\n",
       "\n",
       "    .dataframe thead th {\n",
       "        text-align: right;\n",
       "    }\n",
       "</style>\n",
       "<table border=\"1\" class=\"dataframe\">\n",
       "  <thead>\n",
       "    <tr style=\"text-align: right;\">\n",
       "      <th></th>\n",
       "      <th>Модель</th>\n",
       "      <th>RMSE</th>\n",
       "    </tr>\n",
       "  </thead>\n",
       "  <tbody>\n",
       "    <tr>\n",
       "      <th>1</th>\n",
       "      <td>Константная модель</td>\n",
       "      <td>51.082877</td>\n",
       "    </tr>\n",
       "    <tr>\n",
       "      <th>2</th>\n",
       "      <td>Модель сдвига</td>\n",
       "      <td>38.306261</td>\n",
       "    </tr>\n",
       "    <tr>\n",
       "      <th>3</th>\n",
       "      <td>Линейная регрессия</td>\n",
       "      <td>33.090421</td>\n",
       "    </tr>\n",
       "    <tr>\n",
       "      <th>4</th>\n",
       "      <td>Ridge регрессия</td>\n",
       "      <td>33.090746</td>\n",
       "    </tr>\n",
       "    <tr>\n",
       "      <th>5</th>\n",
       "      <td>Lasso регрессия</td>\n",
       "      <td>33.195303</td>\n",
       "    </tr>\n",
       "    <tr>\n",
       "      <th>6</th>\n",
       "      <td>модель дерева</td>\n",
       "      <td>28.182468</td>\n",
       "    </tr>\n",
       "    <tr>\n",
       "      <th>7</th>\n",
       "      <td>модель случайного леса</td>\n",
       "      <td>28.069730</td>\n",
       "    </tr>\n",
       "    <tr>\n",
       "      <th>8</th>\n",
       "      <td>модель LightGBM</td>\n",
       "      <td>24.914280</td>\n",
       "    </tr>\n",
       "    <tr>\n",
       "      <th>9</th>\n",
       "      <td>test-модель леса</td>\n",
       "      <td>38.596114</td>\n",
       "    </tr>\n",
       "    <tr>\n",
       "      <th>10</th>\n",
       "      <td>test-модель LightGBM</td>\n",
       "      <td>35.695510</td>\n",
       "    </tr>\n",
       "  </tbody>\n",
       "</table>\n",
       "</div>"
      ],
      "text/plain": [
       "                    Модель       RMSE\n",
       "1       Константная модель  51.082877\n",
       "2            Модель сдвига  38.306261\n",
       "3       Линейная регрессия  33.090421\n",
       "4          Ridge регрессия  33.090746\n",
       "5          Lasso регрессия  33.195303\n",
       "6            модель дерева  28.182468\n",
       "7   модель случайного леса  28.069730\n",
       "8          модель LightGBM  24.914280\n",
       "9         test-модель леса  38.596114\n",
       "10    test-модель LightGBM  35.695510"
      ]
     },
     "execution_count": 91,
     "metadata": {},
     "output_type": "execute_result"
    }
   ],
   "source": [
    "#gbm = lgb.LGBMRegressor(objective = 'regression', \n",
    "#                        num_leaves = 13, \n",
    "#                        learning_rate = 0.07,\n",
    "#                        max_depth = -1,\n",
    "#                        n_estimators = 110, \n",
    "#                        random_state=1)\n",
    "\n",
    "#gbm.fit(x_union, \n",
    "#        y_union,\n",
    "#        eval_set = [(x_test, y_test)],\n",
    "#        eval_metric ='rmse',\n",
    "#        early_stopping_rounds = 5,\n",
    "#        verbose = 10)\n",
    "\n",
    "test_lgb_pred = gbm.predict(x_test,  num_iteration=gbm.best_iteration_)\n",
    "test_lgb_rmse = np.sqrt(mean_squared_error(y_test, test_lgb_pred))\n",
    "print('\\n')\n",
    "print('Лучшая метрика:', test_lgb_rmse)\n",
    "taxi_metrics(taxi_result, test_lgb_rmse, 'test-модель LightGBM')"
   ]
  },
  {
   "cell_type": "markdown",
   "metadata": {},
   "source": [
    "## Чек-лист проверки"
   ]
  },
  {
   "cell_type": "markdown",
   "metadata": {},
   "source": [
    "- [x]  Jupyter Notebook открыт\n",
    "- [ ]  Весь код выполняется без ошибок\n",
    "- [ ]  Ячейки с кодом расположены в порядке исполнения\n",
    "- [ ]  Данные загружены и подготовлены\n",
    "- [ ]  Данные проанализированы\n",
    "- [ ]  Модель обучена, гиперпараметры подобраны\n",
    "- [ ]  Качество моделей проверено, выводы сделаны\n",
    "- [ ]  Значение *RMSE* на тестовой выборке не больше 48"
   ]
  }
 ],
 "metadata": {
  "kernelspec": {
   "display_name": "Python 3",
   "language": "python",
   "name": "python3"
  },
  "language_info": {
   "codemirror_mode": {
    "name": "ipython",
    "version": 3
   },
   "file_extension": ".py",
   "mimetype": "text/x-python",
   "name": "python",
   "nbconvert_exporter": "python",
   "pygments_lexer": "ipython3",
   "version": "3.8.10"
  },
  "toc": {
   "base_numbering": 1,
   "nav_menu": {},
   "number_sections": true,
   "sideBar": true,
   "skip_h1_title": true,
   "title_cell": "Содержание",
   "title_sidebar": "Contents",
   "toc_cell": true,
   "toc_position": {},
   "toc_section_display": true,
   "toc_window_display": true
  }
 },
 "nbformat": 4,
 "nbformat_minor": 2
}
