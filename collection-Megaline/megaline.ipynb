{
 "cells": [
  {
   "cell_type": "markdown",
   "metadata": {},
   "source": [
    "# Рекомендация тарифов"
   ]
  },
  {
   "cell_type": "markdown",
   "metadata": {},
   "source": [
    "***Оглавление***"
   ]
  },
  {
   "cell_type": "markdown",
   "metadata": {},
   "source": [
    "<a href='#part1'>***1. Описание проекта***</a>"
   ]
  },
  {
   "cell_type": "markdown",
   "metadata": {},
   "source": [
    "<a href='#part2'>***2. Условные обозначения***</a>"
   ]
  },
  {
   "cell_type": "markdown",
   "metadata": {},
   "source": [
    "<a href='#part3'>***3. Открытие файла и изучение информации***</a>"
   ]
  },
  {
   "cell_type": "markdown",
   "metadata": {},
   "source": [
    "<a href='#part4'>***4. Разбитие данных на выборки***</a>"
   ]
  },
  {
   "cell_type": "markdown",
   "metadata": {},
   "source": [
    "<a href='#part5'>***5. Исследование моделей***</a>"
   ]
  },
  {
   "cell_type": "markdown",
   "metadata": {},
   "source": [
    "<a href='#part6'>***6. Проверка модели на тестовой выборке***</a>"
   ]
  },
  {
   "cell_type": "markdown",
   "metadata": {},
   "source": [
    "<a href='#part7'>***7. Проверка модели на адекватность***</a>"
   ]
  },
  {
   "cell_type": "markdown",
   "metadata": {},
   "source": [
    "<a id='part1'>***1. Описание проекта***</a>"
   ]
  },
  {
   "cell_type": "markdown",
   "metadata": {},
   "source": [
    "Оператор мобильной связи «Мегалайн» выяснил: многие клиенты пользуются архивными тарифами. Они хотят построить систему, способную проанализировать поведение клиентов и предложить пользователям новый тариф: «Смарт» или «Ультра».\n",
    "В нашем распоряжении данные о поведении клиентов, которые уже перешли на новые тарифы \"смарт\" и \"ультра\". Необходимо построить модель для задачи классификации, которая выберет подходящий тариф. \n",
    "\n",
    "Построим модель с максимально большим значением \"accuracy\", но не менее 0,75"
   ]
  },
  {
   "cell_type": "markdown",
   "metadata": {},
   "source": [
    "<a id='part2'>***2. Условные обозначения***</a>"
   ]
  },
  {
   "cell_type": "markdown",
   "metadata": {},
   "source": [
    "сalls — количество звонков\n",
    "\n",
    "minutes — суммарная длительность звонков в минутах\n",
    "\n",
    "messages — количество sms-сообщений\n",
    "\n",
    "mb_used — израсходованный интернет-трафик в Мб\n",
    "\n",
    "is_ultra — каким тарифом пользовался в течение месяца («Ультра» — 1, «Смарт» — 0)."
   ]
  },
  {
   "cell_type": "markdown",
   "metadata": {},
   "source": [
    "<a id='part3'>***3. Открытие файла и изучение информации***</a>"
   ]
  },
  {
   "cell_type": "code",
   "execution_count": 6,
   "metadata": {
    "scrolled": true
   },
   "outputs": [
    {
     "data": {
      "text/html": [
       "<div>\n",
       "<style scoped>\n",
       "    .dataframe tbody tr th:only-of-type {\n",
       "        vertical-align: middle;\n",
       "    }\n",
       "\n",
       "    .dataframe tbody tr th {\n",
       "        vertical-align: top;\n",
       "    }\n",
       "\n",
       "    .dataframe thead th {\n",
       "        text-align: right;\n",
       "    }\n",
       "</style>\n",
       "<table border=\"1\" class=\"dataframe\">\n",
       "  <thead>\n",
       "    <tr style=\"text-align: right;\">\n",
       "      <th></th>\n",
       "      <th>calls</th>\n",
       "      <th>minutes</th>\n",
       "      <th>messages</th>\n",
       "      <th>mb_used</th>\n",
       "      <th>is_ultra</th>\n",
       "    </tr>\n",
       "  </thead>\n",
       "  <tbody>\n",
       "    <tr>\n",
       "      <th>0</th>\n",
       "      <td>40.0</td>\n",
       "      <td>311.90</td>\n",
       "      <td>83.0</td>\n",
       "      <td>19915.42</td>\n",
       "      <td>0</td>\n",
       "    </tr>\n",
       "    <tr>\n",
       "      <th>1</th>\n",
       "      <td>85.0</td>\n",
       "      <td>516.75</td>\n",
       "      <td>56.0</td>\n",
       "      <td>22696.96</td>\n",
       "      <td>0</td>\n",
       "    </tr>\n",
       "    <tr>\n",
       "      <th>2</th>\n",
       "      <td>77.0</td>\n",
       "      <td>467.66</td>\n",
       "      <td>86.0</td>\n",
       "      <td>21060.45</td>\n",
       "      <td>0</td>\n",
       "    </tr>\n",
       "    <tr>\n",
       "      <th>3</th>\n",
       "      <td>106.0</td>\n",
       "      <td>745.53</td>\n",
       "      <td>81.0</td>\n",
       "      <td>8437.39</td>\n",
       "      <td>1</td>\n",
       "    </tr>\n",
       "    <tr>\n",
       "      <th>4</th>\n",
       "      <td>66.0</td>\n",
       "      <td>418.74</td>\n",
       "      <td>1.0</td>\n",
       "      <td>14502.75</td>\n",
       "      <td>0</td>\n",
       "    </tr>\n",
       "  </tbody>\n",
       "</table>\n",
       "</div>"
      ],
      "text/plain": [
       "   calls  minutes  messages   mb_used  is_ultra\n",
       "0   40.0   311.90      83.0  19915.42         0\n",
       "1   85.0   516.75      56.0  22696.96         0\n",
       "2   77.0   467.66      86.0  21060.45         0\n",
       "3  106.0   745.53      81.0   8437.39         1\n",
       "4   66.0   418.74       1.0  14502.75         0"
      ]
     },
     "metadata": {},
     "output_type": "display_data"
    },
    {
     "name": "stdout",
     "output_type": "stream",
     "text": [
      "0    2229\n",
      "1     985\n",
      "Name: is_ultra, dtype: int64\n"
     ]
    }
   ],
   "source": [
    "# загружаем библиотеки и открываем файл.\n",
    "import pandas as pd\n",
    "from sklearn.tree import DecisionTreeClassifier\n",
    "from sklearn.ensemble import RandomForestClassifier\n",
    "from sklearn.linear_model import LogisticRegression\n",
    "from sklearn.model_selection import train_test_split\n",
    "from sklearn.metrics import accuracy_score\n",
    "\n",
    "\n",
    "try:\n",
    "    df=pd.read_csv('/datasets/users_behavior.csv')\n",
    "except:\n",
    "    df=pd.read_csv('C:/Users/ASUS/Desktop/практикум/модуль 2/спринт 1. Введение в машинное обучение/users_behavior.csv')\n",
    "\n",
    "display(df.head())\n",
    "# посчитаем кол-во каждого тарифа, чтобы оценить их соотношение в выборке\n",
    "print(df['is_ultra'].value_counts())"
   ]
  },
  {
   "cell_type": "markdown",
   "metadata": {},
   "source": [
    "<a id='part4'>***4. Разбитие данных на выборки***</a>"
   ]
  },
  {
   "cell_type": "code",
   "execution_count": 7,
   "metadata": {},
   "outputs": [
    {
     "name": "stdout",
     "output_type": "stream",
     "text": [
      "(643, 5)\n",
      "(643, 5)\n",
      "(1928, 5)\n"
     ]
    }
   ],
   "source": [
    "# т.к. соотношение тарифов в датасете не одинаковое, применим стратификацию\n",
    "# разбиваем датасет сначала на обучающий и промежуточный, затем промежуточный \n",
    "# на тестовый и валидационный\n",
    "df_train, df_1=train_test_split(df, random_state=1, test_size=0.40, shuffle=True, stratify=df['is_ultra'])\n",
    "df_test, df_valid=train_test_split(df_1, random_state=1, test_size=0.50, shuffle=True, stratify=df_1['is_ultra'])\n",
    "\n",
    "\n",
    "# проверяем размерности полученных датасетов\n",
    "print(df_valid.shape)\n",
    "print(df_test.shape)\n",
    "print(df_train.shape)\n",
    "\n",
    "\n",
    "# создаем признаки и цели для каждой из выборок\n",
    "features_train=df_train.drop(['is_ultra'], axis=1)\n",
    "target_train=df_train['is_ultra']\n",
    "\n",
    "features_valid=df_valid.drop(['is_ultra'], axis=1)\n",
    "target_valid=df_valid['is_ultra']\n",
    "\n",
    "features_test=df_test.drop(['is_ultra'], axis=1)\n",
    "target_test=df_test['is_ultra']"
   ]
  },
  {
   "cell_type": "markdown",
   "metadata": {},
   "source": [
    "<a id='part5'>***5. Исследование моделей***</a>"
   ]
  },
  {
   "cell_type": "code",
   "execution_count": 8,
   "metadata": {},
   "outputs": [
    {
     "name": "stdout",
     "output_type": "stream",
     "text": [
      "Глубина дерева 8 :0.8227060653188181\n",
      "Количество деревьев 10 :0.8087091757387247\n",
      "0.7573872472783826\n"
     ]
    }
   ],
   "source": [
    "# исследуем модель дерева\n",
    "result_tree=0\n",
    "tree_depth=0\n",
    "for depth in range(1, 10):\n",
    "    model_tree = DecisionTreeClassifier(random_state=1, max_depth=depth)\n",
    "    \n",
    "    model_tree.fit(features_train, target_train)\n",
    "    predictions_valid = model_tree.predict(features_valid)\n",
    "    tree_accuracy=accuracy_score(target_valid, predictions_valid)\n",
    "    \n",
    "    if tree_accuracy>result_tree:\n",
    "        result_tree=tree_accuracy\n",
    "        tree_depth=depth\n",
    "print(\"Глубина дерева\", tree_depth, ':', end='')\n",
    "print(result_tree)\n",
    "    \n",
    "    \n",
    "    \n",
    "    \n",
    "# исследуем модель случайного леса    \n",
    "result_forest=0\n",
    "estimators=0\n",
    "\n",
    "for n in range(1, 11):\n",
    "    model_forest=RandomForestClassifier(random_state=1, n_estimators=n)\n",
    "    \n",
    "    model_forest.fit(features_train, target_train)\n",
    "#    result=model_forest.score(features_valid, target_valid)\n",
    "    \n",
    "    predictions_valid_forest=model_forest.predict(features_valid)\n",
    "    result=accuracy_score(target_valid, predictions_valid_forest)\n",
    "    if result>result_forest:\n",
    "        result_forest=result\n",
    "        estimators=n\n",
    "\n",
    "print(\"Количество деревьев\", n, ':', end='')\n",
    "print(result_forest)  \n",
    "\n",
    "\n",
    "\n",
    "\n",
    "\n",
    "# исследуем модель логистической регрессии\n",
    "model_regression=LogisticRegression(random_state=1)\n",
    "model_regression.fit(features_train, target_train)\n",
    "result_regression=model_regression.score(features_valid, target_valid)\n",
    "print(result_regression)"
   ]
  },
  {
   "cell_type": "markdown",
   "metadata": {},
   "source": [
    "### Модели дерева решений и случайного леса по качеству получаются одинаковыми, а логистическая регрессия хуже требуемой в задании. На следующем этапе проверим дерево решений на тестовой выборке."
   ]
  },
  {
   "cell_type": "markdown",
   "metadata": {},
   "source": [
    "<a id='part6'>***6. Проверка модели на тестовой выборке***</a> "
   ]
  },
  {
   "cell_type": "code",
   "execution_count": 9,
   "metadata": {},
   "outputs": [
    {
     "name": "stdout",
     "output_type": "stream",
     "text": [
      "0.7916018662519441\n"
     ]
    }
   ],
   "source": [
    "model_tree = DecisionTreeClassifier(random_state=1, max_depth=8)\n",
    "model_tree.fit(features_train, target_train)\n",
    "predictions_test = model_tree.predict(features_test)\n",
    "tree_accuracy=accuracy_score(target_test, predictions_test)\n",
    "\n",
    "print(tree_accuracy)"
   ]
  },
  {
   "cell_type": "markdown",
   "metadata": {},
   "source": [
    "### В целом, качество модели незначительно снизилось, но при этом осталось выше требуемого значения. "
   ]
  },
  {
   "cell_type": "markdown",
   "metadata": {},
   "source": [
    "<a id='part7'>***7. Проверка модели на адекватность***</a>"
   ]
  },
  {
   "cell_type": "code",
   "execution_count": 10,
   "metadata": {},
   "outputs": [],
   "source": [
    "### для проверки модели на адекватность сравним ее со случайной моделью. \n",
    "### Тогда вероятность получить ответ \"1\" и ответ \"0\" будет 50% на 50%. \n",
    "### Количество ответов \"1\" и \"0\" также разделится пополам. \n",
    "### В этом случае accuracy=0,5*0,5+0,5*0,5= 0,25+0,25=0,5"
   ]
  },
  {
   "cell_type": "markdown",
   "metadata": {},
   "source": [
    "### Вывод: полученная в результате расчетов модель значительно превосходит случайную (0,79 против 0,5), что говорит о ее адекватности.    "
   ]
  },
  {
   "cell_type": "markdown",
   "metadata": {},
   "source": [
    "## Чек-лист готовности проекта"
   ]
  },
  {
   "cell_type": "markdown",
   "metadata": {},
   "source": [
    "Поставьте 'x' в выполненных пунктах. Далее нажмите Shift+Enter."
   ]
  },
  {
   "cell_type": "markdown",
   "metadata": {},
   "source": [
    "- [x] Jupyter Notebook открыт\n",
    "- [ ] Весь код исполняется без ошибок\n",
    "- [ ] Ячейки с кодом расположены в порядке исполнения\n",
    "- [ ] Выполнено задание 1: данные загружены и изучены\n",
    "- [ ] Выполнено задание 2: данные разбиты на три выборки\n",
    "- [ ] Выполнено задание 3: проведено исследование моделей\n",
    "    - [ ] Рассмотрено больше одной модели\n",
    "    - [ ] Рассмотрено хотя бы 3 значения гипепараметров для какой-нибудь модели\n",
    "    - [ ] Написаны выводы по результатам исследования\n",
    "- [ ] Выполнено задание 3: Проведено тестирование\n",
    "- [ ] Удалось достичь accuracy не меньше 0.75\n"
   ]
  }
 ],
 "metadata": {
  "kernelspec": {
   "display_name": "Python 3",
   "language": "python",
   "name": "python3"
  },
  "language_info": {
   "codemirror_mode": {
    "name": "ipython",
    "version": 3
   },
   "file_extension": ".py",
   "mimetype": "text/x-python",
   "name": "python",
   "nbconvert_exporter": "python",
   "pygments_lexer": "ipython3",
   "version": "3.9.4"
  }
 },
 "nbformat": 4,
 "nbformat_minor": 2
}
