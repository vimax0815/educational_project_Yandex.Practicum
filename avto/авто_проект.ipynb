{
 "cells": [
  {
   "cell_type": "markdown",
   "metadata": {},
   "source": [
    "# Определение стоимости автомобилей"
   ]
  },
  {
   "cell_type": "markdown",
   "metadata": {},
   "source": [
    "<a href='#part1'>***1. Описание проекта***</a>\n",
    "\n",
    "<a href='#part2'>***2. Условные обозначения***</a>\n",
    "\n",
    "<a href='#part3'>***3. Подготовка данных***</a>\n",
    "\n",
    "<a href='#part4'>***4. Обучение моделей***</a>\n",
    "\n",
    "<a href='#part5'>***5. Анализ моделей***</a>"
   ]
  },
  {
   "cell_type": "markdown",
   "metadata": {},
   "source": [
    "<a id='part1'>***1. Описание проекта***</a>"
   ]
  },
  {
   "cell_type": "markdown",
   "metadata": {},
   "source": [
    "Сервис по продаже автомобилей с пробегом «Не бит, не крашен» разрабатывает приложение для привлечения новых клиентов. В нём можно быстро узнать рыночную стоимость своего автомобиля. В нашем распоряжении исторические данные: технические характеристики, комплектации и цены автомобилей. Необходимо построить модель для определения стоимости. \n",
    "\n",
    "Заказчику важны:\n",
    "\n",
    "- качество предсказания;\n",
    "- скорость предсказания;\n",
    "- время обучения."
   ]
  },
  {
   "cell_type": "markdown",
   "metadata": {},
   "source": [
    "<a id='part2'>***2. Условные обозначения***</a>"
   ]
  },
  {
   "cell_type": "markdown",
   "metadata": {},
   "source": [
    "DateCrawled — дата скачивания анкеты из базы\n",
    "\n",
    "VehicleType — тип автомобильного кузова\n",
    "\n",
    "RegistrationYear — год регистрации автомобиля\n",
    "\n",
    "Gearbox — тип коробки передач\n",
    "\n",
    "Power — мощность (л. с.)\n",
    "\n",
    "Model — модель автомобиля\n",
    "\n",
    "Kilometer — пробег (км)\n",
    "\n",
    "RegistrationMonth — месяц регистрации автомобиля\n",
    "\n",
    "FuelType — тип топлива\n",
    "\n",
    "Brand — марка автомобиля\n",
    "\n",
    "NotRepaired — была машина в ремонте или нет\n",
    "\n",
    "DateCreated — дата создания анкеты\n",
    "\n",
    "NumberOfPictures — количество фотографий автомобиля\n",
    "\n",
    "PostalCode — почтовый индекс владельца анкеты (пользователя)\n",
    "\n",
    "LastSeen — дата последней активности пользователя\n",
    "\n",
    "Целевой признак\n",
    "\n",
    "Price — цена (евро)"
   ]
  },
  {
   "cell_type": "markdown",
   "metadata": {},
   "source": [
    "<a id='part3'>***3. Подготовка данных***</a>"
   ]
  },
  {
   "cell_type": "code",
   "execution_count": 1,
   "metadata": {},
   "outputs": [],
   "source": [
    "import pandas as pd\n",
    "import numpy as np\n",
    "import matplotlib.pyplot as plt\n",
    "from sklearn.linear_model import LinearRegression\n",
    "from sklearn.tree import DecisionTreeRegressor\n",
    "from sklearn.ensemble import RandomForestRegressor\n",
    "from sklearn.preprocessing import StandardScaler\n",
    "from sklearn.preprocessing import OrdinalEncoder\n",
    "from sklearn.model_selection import train_test_split\n",
    "from sklearn.metrics import mean_squared_error\n",
    "import lightgbm as lgb\n",
    "from lightgbm import LGBMRegressor\n",
    "import warnings; warnings.filterwarnings(action='ignore') "
   ]
  },
  {
   "cell_type": "code",
   "execution_count": 2,
   "metadata": {},
   "outputs": [
    {
     "data": {
      "text/html": [
       "<div>\n",
       "<style scoped>\n",
       "    .dataframe tbody tr th:only-of-type {\n",
       "        vertical-align: middle;\n",
       "    }\n",
       "\n",
       "    .dataframe tbody tr th {\n",
       "        vertical-align: top;\n",
       "    }\n",
       "\n",
       "    .dataframe thead th {\n",
       "        text-align: right;\n",
       "    }\n",
       "</style>\n",
       "<table border=\"1\" class=\"dataframe\">\n",
       "  <thead>\n",
       "    <tr style=\"text-align: right;\">\n",
       "      <th></th>\n",
       "      <th>DateCrawled</th>\n",
       "      <th>Price</th>\n",
       "      <th>VehicleType</th>\n",
       "      <th>RegistrationYear</th>\n",
       "      <th>Gearbox</th>\n",
       "      <th>Power</th>\n",
       "      <th>Model</th>\n",
       "      <th>Kilometer</th>\n",
       "      <th>RegistrationMonth</th>\n",
       "      <th>FuelType</th>\n",
       "      <th>Brand</th>\n",
       "      <th>NotRepaired</th>\n",
       "      <th>DateCreated</th>\n",
       "      <th>NumberOfPictures</th>\n",
       "      <th>PostalCode</th>\n",
       "      <th>LastSeen</th>\n",
       "    </tr>\n",
       "  </thead>\n",
       "  <tbody>\n",
       "    <tr>\n",
       "      <th>0</th>\n",
       "      <td>2016-03-24 11:52:17</td>\n",
       "      <td>480</td>\n",
       "      <td>NaN</td>\n",
       "      <td>1993</td>\n",
       "      <td>manual</td>\n",
       "      <td>0</td>\n",
       "      <td>golf</td>\n",
       "      <td>150000</td>\n",
       "      <td>0</td>\n",
       "      <td>petrol</td>\n",
       "      <td>volkswagen</td>\n",
       "      <td>NaN</td>\n",
       "      <td>2016-03-24 00:00:00</td>\n",
       "      <td>0</td>\n",
       "      <td>70435</td>\n",
       "      <td>2016-04-07 03:16:57</td>\n",
       "    </tr>\n",
       "    <tr>\n",
       "      <th>1</th>\n",
       "      <td>2016-03-24 10:58:45</td>\n",
       "      <td>18300</td>\n",
       "      <td>coupe</td>\n",
       "      <td>2011</td>\n",
       "      <td>manual</td>\n",
       "      <td>190</td>\n",
       "      <td>NaN</td>\n",
       "      <td>125000</td>\n",
       "      <td>5</td>\n",
       "      <td>gasoline</td>\n",
       "      <td>audi</td>\n",
       "      <td>yes</td>\n",
       "      <td>2016-03-24 00:00:00</td>\n",
       "      <td>0</td>\n",
       "      <td>66954</td>\n",
       "      <td>2016-04-07 01:46:50</td>\n",
       "    </tr>\n",
       "    <tr>\n",
       "      <th>2</th>\n",
       "      <td>2016-03-14 12:52:21</td>\n",
       "      <td>9800</td>\n",
       "      <td>suv</td>\n",
       "      <td>2004</td>\n",
       "      <td>auto</td>\n",
       "      <td>163</td>\n",
       "      <td>grand</td>\n",
       "      <td>125000</td>\n",
       "      <td>8</td>\n",
       "      <td>gasoline</td>\n",
       "      <td>jeep</td>\n",
       "      <td>NaN</td>\n",
       "      <td>2016-03-14 00:00:00</td>\n",
       "      <td>0</td>\n",
       "      <td>90480</td>\n",
       "      <td>2016-04-05 12:47:46</td>\n",
       "    </tr>\n",
       "    <tr>\n",
       "      <th>3</th>\n",
       "      <td>2016-03-17 16:54:04</td>\n",
       "      <td>1500</td>\n",
       "      <td>small</td>\n",
       "      <td>2001</td>\n",
       "      <td>manual</td>\n",
       "      <td>75</td>\n",
       "      <td>golf</td>\n",
       "      <td>150000</td>\n",
       "      <td>6</td>\n",
       "      <td>petrol</td>\n",
       "      <td>volkswagen</td>\n",
       "      <td>no</td>\n",
       "      <td>2016-03-17 00:00:00</td>\n",
       "      <td>0</td>\n",
       "      <td>91074</td>\n",
       "      <td>2016-03-17 17:40:17</td>\n",
       "    </tr>\n",
       "    <tr>\n",
       "      <th>4</th>\n",
       "      <td>2016-03-31 17:25:20</td>\n",
       "      <td>3600</td>\n",
       "      <td>small</td>\n",
       "      <td>2008</td>\n",
       "      <td>manual</td>\n",
       "      <td>69</td>\n",
       "      <td>fabia</td>\n",
       "      <td>90000</td>\n",
       "      <td>7</td>\n",
       "      <td>gasoline</td>\n",
       "      <td>skoda</td>\n",
       "      <td>no</td>\n",
       "      <td>2016-03-31 00:00:00</td>\n",
       "      <td>0</td>\n",
       "      <td>60437</td>\n",
       "      <td>2016-04-06 10:17:21</td>\n",
       "    </tr>\n",
       "  </tbody>\n",
       "</table>\n",
       "</div>"
      ],
      "text/plain": [
       "           DateCrawled  Price VehicleType  RegistrationYear Gearbox  Power  \\\n",
       "0  2016-03-24 11:52:17    480         NaN              1993  manual      0   \n",
       "1  2016-03-24 10:58:45  18300       coupe              2011  manual    190   \n",
       "2  2016-03-14 12:52:21   9800         suv              2004    auto    163   \n",
       "3  2016-03-17 16:54:04   1500       small              2001  manual     75   \n",
       "4  2016-03-31 17:25:20   3600       small              2008  manual     69   \n",
       "\n",
       "   Model  Kilometer  RegistrationMonth  FuelType       Brand NotRepaired  \\\n",
       "0   golf     150000                  0    petrol  volkswagen         NaN   \n",
       "1    NaN     125000                  5  gasoline        audi         yes   \n",
       "2  grand     125000                  8  gasoline        jeep         NaN   \n",
       "3   golf     150000                  6    petrol  volkswagen          no   \n",
       "4  fabia      90000                  7  gasoline       skoda          no   \n",
       "\n",
       "           DateCreated  NumberOfPictures  PostalCode             LastSeen  \n",
       "0  2016-03-24 00:00:00                 0       70435  2016-04-07 03:16:57  \n",
       "1  2016-03-24 00:00:00                 0       66954  2016-04-07 01:46:50  \n",
       "2  2016-03-14 00:00:00                 0       90480  2016-04-05 12:47:46  \n",
       "3  2016-03-17 00:00:00                 0       91074  2016-03-17 17:40:17  \n",
       "4  2016-03-31 00:00:00                 0       60437  2016-04-06 10:17:21  "
      ]
     },
     "metadata": {},
     "output_type": "display_data"
    },
    {
     "name": "stdout",
     "output_type": "stream",
     "text": [
      "\n",
      "\n",
      "\n",
      "<class 'pandas.core.frame.DataFrame'>\n",
      "RangeIndex: 354369 entries, 0 to 354368\n",
      "Data columns (total 16 columns):\n",
      " #   Column             Non-Null Count   Dtype \n",
      "---  ------             --------------   ----- \n",
      " 0   DateCrawled        354369 non-null  object\n",
      " 1   Price              354369 non-null  int64 \n",
      " 2   VehicleType        316879 non-null  object\n",
      " 3   RegistrationYear   354369 non-null  int64 \n",
      " 4   Gearbox            334536 non-null  object\n",
      " 5   Power              354369 non-null  int64 \n",
      " 6   Model              334664 non-null  object\n",
      " 7   Kilometer          354369 non-null  int64 \n",
      " 8   RegistrationMonth  354369 non-null  int64 \n",
      " 9   FuelType           321474 non-null  object\n",
      " 10  Brand              354369 non-null  object\n",
      " 11  NotRepaired        283215 non-null  object\n",
      " 12  DateCreated        354369 non-null  object\n",
      " 13  NumberOfPictures   354369 non-null  int64 \n",
      " 14  PostalCode         354369 non-null  int64 \n",
      " 15  LastSeen           354369 non-null  object\n",
      "dtypes: int64(7), object(9)\n",
      "memory usage: 43.3+ MB\n"
     ]
    }
   ],
   "source": [
    "# откроем файл и посмотрим на данные\n",
    "try:\n",
    "    df = pd.read_csv('C:/Users/ASUS/Desktop/практикум/модуль 3/спринт 11. Численные методы/autos.csv')\n",
    "except:\n",
    "    df = pd.read_csv('/datasets/autos.csv')\n",
    "    \n",
    "display(df.head(5))\n",
    "print('\\n\\n')\n",
    "df.info()"
   ]
  },
  {
   "cell_type": "code",
   "execution_count": 3,
   "metadata": {},
   "outputs": [],
   "source": [
    "# удалим ненужные столбцы\n",
    "df = df.drop(['PostalCode', 'DateCrawled', 'DateCreated', 'LastSeen'], axis = 1)"
   ]
  },
  {
   "cell_type": "code",
   "execution_count": 4,
   "metadata": {},
   "outputs": [],
   "source": [
    "# приведем названия столбцов к нижнему регистру\n",
    "df.columns = df.columns.str.lower()"
   ]
  },
  {
   "cell_type": "code",
   "execution_count": 5,
   "metadata": {},
   "outputs": [
    {
     "data": {
      "text/plain": [
       "price                    0\n",
       "vehicletype          37490\n",
       "registrationyear         0\n",
       "gearbox              19833\n",
       "power                    0\n",
       "model                19705\n",
       "kilometer                0\n",
       "registrationmonth        0\n",
       "fueltype             32895\n",
       "brand                    0\n",
       "notrepaired          71154\n",
       "numberofpictures         0\n",
       "dtype: int64"
      ]
     },
     "execution_count": 5,
     "metadata": {},
     "output_type": "execute_result"
    }
   ],
   "source": [
    "# посчитаем пропуски в таблице\n",
    "df.isna().sum()"
   ]
  },
  {
   "cell_type": "code",
   "execution_count": 6,
   "metadata": {},
   "outputs": [
    {
     "name": "stdout",
     "output_type": "stream",
     "text": [
      "price                0\n",
      "vehicletype          0\n",
      "registrationyear     0\n",
      "gearbox              0\n",
      "power                0\n",
      "model                0\n",
      "kilometer            0\n",
      "registrationmonth    0\n",
      "fueltype             0\n",
      "brand                0\n",
      "notrepaired          0\n",
      "numberofpictures     0\n",
      "dtype: int64\n"
     ]
    }
   ],
   "source": [
    "# заменим пропуски на other \n",
    "df.fillna('other', inplace=True)\n",
    "print(df.isna().sum())"
   ]
  },
  {
   "cell_type": "code",
   "execution_count": 7,
   "metadata": {
    "scrolled": true
   },
   "outputs": [
    {
     "name": "stdout",
     "output_type": "stream",
     "text": [
      "0        10772\n",
      "500       5670\n",
      "1500      5394\n",
      "1000      4649\n",
      "1200      4594\n",
      "         ...  \n",
      "13180        1\n",
      "10879        1\n",
      "2683         1\n",
      "634          1\n",
      "8188         1\n",
      "Name: price, Length: 3731, dtype: int64\n",
      "\n",
      "\n",
      "\n",
      "sedan          91457\n",
      "small          79831\n",
      "wagon          65166\n",
      "other          40778\n",
      "bus            28775\n",
      "convertible    20203\n",
      "coupe          16163\n",
      "suv            11996\n",
      "Name: vehicletype, dtype: int64\n",
      "\n",
      "\n",
      "\n",
      "2000    24490\n",
      "1999    22728\n",
      "2005    22109\n",
      "2001    20124\n",
      "2006    19900\n",
      "        ...  \n",
      "4100        1\n",
      "1200        1\n",
      "5300        1\n",
      "8888        1\n",
      "2290        1\n",
      "Name: registrationyear, Length: 151, dtype: int64\n",
      "\n",
      "\n",
      "\n",
      "manual    268251\n",
      "auto       66285\n",
      "other      19833\n",
      "Name: gearbox, dtype: int64\n",
      "\n",
      "\n",
      "\n",
      "0        40225\n",
      "75       24023\n",
      "60       15897\n",
      "150      14590\n",
      "101      13298\n",
      "         ...  \n",
      "323          1\n",
      "3454         1\n",
      "1056         1\n",
      "13636        1\n",
      "1158         1\n",
      "Name: power, Length: 712, dtype: int64\n",
      "\n",
      "\n",
      "\n",
      "other                 44126\n",
      "golf                  29232\n",
      "3er                   19761\n",
      "polo                  13066\n",
      "corsa                 12570\n",
      "                      ...  \n",
      "serie_2                   8\n",
      "rangerover                4\n",
      "serie_3                   4\n",
      "serie_1                   2\n",
      "range_rover_evoque        2\n",
      "Name: model, Length: 250, dtype: int64\n",
      "\n",
      "\n",
      "\n",
      "150000    238209\n",
      "125000     36454\n",
      "100000     14882\n",
      "90000      11567\n",
      "80000      10047\n",
      "70000       8593\n",
      "60000       7444\n",
      "5000        6397\n",
      "50000       6232\n",
      "40000       4911\n",
      "30000       4436\n",
      "20000       3975\n",
      "10000       1222\n",
      "Name: kilometer, dtype: int64\n",
      "\n",
      "\n",
      "\n",
      "0     37352\n",
      "3     34373\n",
      "6     31508\n",
      "4     29270\n",
      "5     29153\n",
      "7     27213\n",
      "10    26099\n",
      "12    24289\n",
      "11    24186\n",
      "9     23813\n",
      "1     23219\n",
      "8     22627\n",
      "2     21267\n",
      "Name: registrationmonth, dtype: int64\n",
      "\n",
      "\n",
      "\n",
      "petrol      216352\n",
      "gasoline     98720\n",
      "other        33099\n",
      "lpg           5310\n",
      "cng            565\n",
      "hybrid         233\n",
      "electric        90\n",
      "Name: fueltype, dtype: int64\n",
      "\n",
      "\n",
      "\n",
      "volkswagen        77013\n",
      "opel              39931\n",
      "bmw               36914\n",
      "mercedes_benz     32046\n",
      "audi              29456\n",
      "ford              25179\n",
      "renault           17927\n",
      "peugeot           10998\n",
      "fiat               9643\n",
      "seat               6907\n",
      "mazda              5615\n",
      "skoda              5500\n",
      "smart              5246\n",
      "citroen            5148\n",
      "nissan             4941\n",
      "toyota             4606\n",
      "hyundai            3587\n",
      "sonstige_autos     3374\n",
      "volvo              3210\n",
      "mini               3202\n",
      "mitsubishi         3022\n",
      "honda              2817\n",
      "kia                2465\n",
      "suzuki             2323\n",
      "alfa_romeo         2314\n",
      "chevrolet          1754\n",
      "chrysler           1439\n",
      "dacia               900\n",
      "daihatsu            806\n",
      "subaru              762\n",
      "porsche             758\n",
      "jeep                677\n",
      "trabant             589\n",
      "land_rover          545\n",
      "daewoo              542\n",
      "saab                526\n",
      "jaguar              505\n",
      "rover               486\n",
      "lancia              471\n",
      "lada                225\n",
      "Name: brand, dtype: int64\n",
      "\n",
      "\n",
      "\n",
      "no       247161\n",
      "other     71154\n",
      "yes       36054\n",
      "Name: notrepaired, dtype: int64\n",
      "\n",
      "\n",
      "\n",
      "0    354369\n",
      "Name: numberofpictures, dtype: int64\n",
      "\n",
      "\n",
      "\n"
     ]
    }
   ],
   "source": [
    "# подсчитаем количество уникальных значений в каждом столбце\n",
    "for column in df.columns:\n",
    "    print(df[column].value_counts())\n",
    "    print('\\n\\n')"
   ]
  },
  {
   "cell_type": "code",
   "execution_count": 8,
   "metadata": {},
   "outputs": [
    {
     "data": {
      "text/html": [
       "<div>\n",
       "<style scoped>\n",
       "    .dataframe tbody tr th:only-of-type {\n",
       "        vertical-align: middle;\n",
       "    }\n",
       "\n",
       "    .dataframe tbody tr th {\n",
       "        vertical-align: top;\n",
       "    }\n",
       "\n",
       "    .dataframe thead th {\n",
       "        text-align: right;\n",
       "    }\n",
       "</style>\n",
       "<table border=\"1\" class=\"dataframe\">\n",
       "  <thead>\n",
       "    <tr style=\"text-align: right;\">\n",
       "      <th></th>\n",
       "      <th>price</th>\n",
       "      <th>registrationyear</th>\n",
       "      <th>power</th>\n",
       "      <th>kilometer</th>\n",
       "      <th>registrationmonth</th>\n",
       "      <th>numberofpictures</th>\n",
       "    </tr>\n",
       "  </thead>\n",
       "  <tbody>\n",
       "    <tr>\n",
       "      <th>count</th>\n",
       "      <td>354369.000000</td>\n",
       "      <td>354369.000000</td>\n",
       "      <td>354369.000000</td>\n",
       "      <td>354369.000000</td>\n",
       "      <td>354369.000000</td>\n",
       "      <td>354369.0</td>\n",
       "    </tr>\n",
       "    <tr>\n",
       "      <th>mean</th>\n",
       "      <td>4416.656776</td>\n",
       "      <td>2004.234448</td>\n",
       "      <td>110.094337</td>\n",
       "      <td>128211.172535</td>\n",
       "      <td>5.714645</td>\n",
       "      <td>0.0</td>\n",
       "    </tr>\n",
       "    <tr>\n",
       "      <th>std</th>\n",
       "      <td>4514.158514</td>\n",
       "      <td>90.227958</td>\n",
       "      <td>189.850405</td>\n",
       "      <td>37905.341530</td>\n",
       "      <td>3.726421</td>\n",
       "      <td>0.0</td>\n",
       "    </tr>\n",
       "    <tr>\n",
       "      <th>min</th>\n",
       "      <td>0.000000</td>\n",
       "      <td>1000.000000</td>\n",
       "      <td>0.000000</td>\n",
       "      <td>5000.000000</td>\n",
       "      <td>0.000000</td>\n",
       "      <td>0.0</td>\n",
       "    </tr>\n",
       "    <tr>\n",
       "      <th>25%</th>\n",
       "      <td>1050.000000</td>\n",
       "      <td>1999.000000</td>\n",
       "      <td>69.000000</td>\n",
       "      <td>125000.000000</td>\n",
       "      <td>3.000000</td>\n",
       "      <td>0.0</td>\n",
       "    </tr>\n",
       "    <tr>\n",
       "      <th>50%</th>\n",
       "      <td>2700.000000</td>\n",
       "      <td>2003.000000</td>\n",
       "      <td>105.000000</td>\n",
       "      <td>150000.000000</td>\n",
       "      <td>6.000000</td>\n",
       "      <td>0.0</td>\n",
       "    </tr>\n",
       "    <tr>\n",
       "      <th>75%</th>\n",
       "      <td>6400.000000</td>\n",
       "      <td>2008.000000</td>\n",
       "      <td>143.000000</td>\n",
       "      <td>150000.000000</td>\n",
       "      <td>9.000000</td>\n",
       "      <td>0.0</td>\n",
       "    </tr>\n",
       "    <tr>\n",
       "      <th>max</th>\n",
       "      <td>20000.000000</td>\n",
       "      <td>9999.000000</td>\n",
       "      <td>20000.000000</td>\n",
       "      <td>150000.000000</td>\n",
       "      <td>12.000000</td>\n",
       "      <td>0.0</td>\n",
       "    </tr>\n",
       "  </tbody>\n",
       "</table>\n",
       "</div>"
      ],
      "text/plain": [
       "               price  registrationyear          power      kilometer  \\\n",
       "count  354369.000000     354369.000000  354369.000000  354369.000000   \n",
       "mean     4416.656776       2004.234448     110.094337  128211.172535   \n",
       "std      4514.158514         90.227958     189.850405   37905.341530   \n",
       "min         0.000000       1000.000000       0.000000    5000.000000   \n",
       "25%      1050.000000       1999.000000      69.000000  125000.000000   \n",
       "50%      2700.000000       2003.000000     105.000000  150000.000000   \n",
       "75%      6400.000000       2008.000000     143.000000  150000.000000   \n",
       "max     20000.000000       9999.000000   20000.000000  150000.000000   \n",
       "\n",
       "       registrationmonth  numberofpictures  \n",
       "count      354369.000000          354369.0  \n",
       "mean            5.714645               0.0  \n",
       "std             3.726421               0.0  \n",
       "min             0.000000               0.0  \n",
       "25%             3.000000               0.0  \n",
       "50%             6.000000               0.0  \n",
       "75%             9.000000               0.0  \n",
       "max            12.000000               0.0  "
      ]
     },
     "execution_count": 8,
     "metadata": {},
     "output_type": "execute_result"
    }
   ],
   "source": [
    "# посмотрим на данные через метод describe\n",
    "df.describe()"
   ]
  },
  {
   "cell_type": "code",
   "execution_count": 9,
   "metadata": {},
   "outputs": [
    {
     "data": {
      "text/html": [
       "<div>\n",
       "<style scoped>\n",
       "    .dataframe tbody tr th:only-of-type {\n",
       "        vertical-align: middle;\n",
       "    }\n",
       "\n",
       "    .dataframe tbody tr th {\n",
       "        vertical-align: top;\n",
       "    }\n",
       "\n",
       "    .dataframe thead th {\n",
       "        text-align: right;\n",
       "    }\n",
       "</style>\n",
       "<table border=\"1\" class=\"dataframe\">\n",
       "  <thead>\n",
       "    <tr style=\"text-align: right;\">\n",
       "      <th></th>\n",
       "      <th>price</th>\n",
       "      <th>registrationyear</th>\n",
       "      <th>power</th>\n",
       "      <th>kilometer</th>\n",
       "      <th>registrationmonth</th>\n",
       "      <th>numberofpictures</th>\n",
       "    </tr>\n",
       "  </thead>\n",
       "  <tbody>\n",
       "    <tr>\n",
       "      <th>price</th>\n",
       "      <td>1.000000</td>\n",
       "      <td>0.026916</td>\n",
       "      <td>0.158872</td>\n",
       "      <td>-0.333199</td>\n",
       "      <td>0.110581</td>\n",
       "      <td>NaN</td>\n",
       "    </tr>\n",
       "    <tr>\n",
       "      <th>registrationyear</th>\n",
       "      <td>0.026916</td>\n",
       "      <td>1.000000</td>\n",
       "      <td>-0.000828</td>\n",
       "      <td>-0.053447</td>\n",
       "      <td>-0.011619</td>\n",
       "      <td>NaN</td>\n",
       "    </tr>\n",
       "    <tr>\n",
       "      <th>power</th>\n",
       "      <td>0.158872</td>\n",
       "      <td>-0.000828</td>\n",
       "      <td>1.000000</td>\n",
       "      <td>0.024002</td>\n",
       "      <td>0.043380</td>\n",
       "      <td>NaN</td>\n",
       "    </tr>\n",
       "    <tr>\n",
       "      <th>kilometer</th>\n",
       "      <td>-0.333199</td>\n",
       "      <td>-0.053447</td>\n",
       "      <td>0.024002</td>\n",
       "      <td>1.000000</td>\n",
       "      <td>0.009571</td>\n",
       "      <td>NaN</td>\n",
       "    </tr>\n",
       "    <tr>\n",
       "      <th>registrationmonth</th>\n",
       "      <td>0.110581</td>\n",
       "      <td>-0.011619</td>\n",
       "      <td>0.043380</td>\n",
       "      <td>0.009571</td>\n",
       "      <td>1.000000</td>\n",
       "      <td>NaN</td>\n",
       "    </tr>\n",
       "    <tr>\n",
       "      <th>numberofpictures</th>\n",
       "      <td>NaN</td>\n",
       "      <td>NaN</td>\n",
       "      <td>NaN</td>\n",
       "      <td>NaN</td>\n",
       "      <td>NaN</td>\n",
       "      <td>NaN</td>\n",
       "    </tr>\n",
       "  </tbody>\n",
       "</table>\n",
       "</div>"
      ],
      "text/plain": [
       "                      price  registrationyear     power  kilometer  \\\n",
       "price              1.000000          0.026916  0.158872  -0.333199   \n",
       "registrationyear   0.026916          1.000000 -0.000828  -0.053447   \n",
       "power              0.158872         -0.000828  1.000000   0.024002   \n",
       "kilometer         -0.333199         -0.053447  0.024002   1.000000   \n",
       "registrationmonth  0.110581         -0.011619  0.043380   0.009571   \n",
       "numberofpictures        NaN               NaN       NaN        NaN   \n",
       "\n",
       "                   registrationmonth  numberofpictures  \n",
       "price                       0.110581               NaN  \n",
       "registrationyear           -0.011619               NaN  \n",
       "power                       0.043380               NaN  \n",
       "kilometer                   0.009571               NaN  \n",
       "registrationmonth           1.000000               NaN  \n",
       "numberofpictures                 NaN               NaN  "
      ]
     },
     "metadata": {},
     "output_type": "display_data"
    }
   ],
   "source": [
    "# посмотрим на корреляцию между столбцами\n",
    "display(df.corr())"
   ]
  },
  {
   "cell_type": "markdown",
   "metadata": {},
   "source": [
    "### в таблице встречаются артефакты, такие как: цена=0, 0 месяц, мощность двигателя=0 или 20000, год регистрации машины =1000. Существует пустой столбец numberofpictures. Но также встречается other, что идентично пропускам. И такие пропуски встречаются только в текстовых столбцах, поэтому заменим все пропуски в таблице other."
   ]
  },
  {
   "cell_type": "code",
   "execution_count": 10,
   "metadata": {},
   "outputs": [],
   "source": [
    "# удалим пустой столбец с фотографиями\n",
    "df = df.drop(['numberofpictures'], axis = 1)"
   ]
  },
  {
   "cell_type": "code",
   "execution_count": 11,
   "metadata": {},
   "outputs": [],
   "source": [
    "# удалим строки с 0 ценой, т.к. предсказывать таргет, который не существует \n",
    "# бессмысленно\n",
    "df=df.drop(df.index[df['price']==0])"
   ]
  },
  {
   "cell_type": "code",
   "execution_count": 12,
   "metadata": {},
   "outputs": [
    {
     "data": {
      "image/png": "[encoded data removed]",
      "text/plain": [
       "<Figure size 1296x720 with 1 Axes>"
      ]
     },
     "metadata": {
      "needs_background": "light"
     },
     "output_type": "display_data"
    }
   ],
   "source": [
    "# посмотрим на распределение таргета\n",
    "df['price'].plot.box(figsize=(18, 10), title='Распределение цены')\n",
    "plt.show()"
   ]
  },
  {
   "cell_type": "code",
   "execution_count": 13,
   "metadata": {},
   "outputs": [
    {
     "data": {
      "text/plain": [
       "14800.0"
      ]
     },
     "execution_count": 13,
     "metadata": {},
     "output_type": "execute_result"
    }
   ],
   "source": [
    "# уточним верхнюю границу распределения\n",
    "df['price'].quantile(0.95)"
   ]
  },
  {
   "cell_type": "code",
   "execution_count": 14,
   "metadata": {},
   "outputs": [
    {
     "name": "stdout",
     "output_type": "stream",
     "text": [
      "количество машин: 17132\n",
      "в процентах: 4.9860738015756825\n"
     ]
    }
   ],
   "source": [
    "# посчитаем сколько таких авто\n",
    "print('количество машин:', df[df['price'] > 14800].shape[0])\n",
    "print('в процентах:', df[df['price'] > 14800].shape[0] / df.shape[0] * 100)"
   ]
  },
  {
   "cell_type": "code",
   "execution_count": 15,
   "metadata": {},
   "outputs": [],
   "source": [
    "# удалим их\n",
    "df=df.drop(df.index[df['price'] > 14800])"
   ]
  },
  {
   "cell_type": "code",
   "execution_count": 16,
   "metadata": {},
   "outputs": [
    {
     "data": {
      "text/plain": [
       "1993.0"
      ]
     },
     "execution_count": 16,
     "metadata": {},
     "output_type": "execute_result"
    }
   ],
   "source": [
    "# найдем 5% квантиль в годе регистрации машин\n",
    "df['registrationyear'].quantile(0.05)"
   ]
  },
  {
   "cell_type": "code",
   "execution_count": 17,
   "metadata": {},
   "outputs": [
    {
     "name": "stdout",
     "output_type": "stream",
     "text": [
      "16200\n"
     ]
    }
   ],
   "source": [
    "# посчитаем сколько артефактов в годе регистрации машин\n",
    "print(df[(df['registrationyear']<1993) ^ (df['registrationyear']>2020)].shape[0])"
   ]
  },
  {
   "cell_type": "markdown",
   "metadata": {},
   "source": [
    "## мы до этого уже удалили 27904 строк с ценой, что составляет 7.8% от всей выборки. Удалив еще 16200 строк мы сократим нашу выборку на 12.4%. Это уже много и это только 2 признака-что будет с другими признаками пока неизвестно. Поэтому попробуем найдем 1% квантиль и посмотрим сколько машин попадет в него, чтобы можно было их безопасно удалить."
   ]
  },
  {
   "cell_type": "code",
   "execution_count": 18,
   "metadata": {},
   "outputs": [
    {
     "name": "stdout",
     "output_type": "stream",
     "text": [
      "1981.0\n",
      "3273\n"
     ]
    }
   ],
   "source": [
    "print(df['registrationyear'].quantile(0.01))\n",
    "print(df[(df['registrationyear']<1981) ^ (df['registrationyear']>2020)].shape[0])"
   ]
  },
  {
   "cell_type": "code",
   "execution_count": 19,
   "metadata": {},
   "outputs": [],
   "source": [
    "# теперь машин немного, удалим их\n",
    "df=df.drop(df.index[(df['registrationyear']<1981) ^ (df['registrationyear']>2020)])"
   ]
  },
  {
   "cell_type": "code",
   "execution_count": 20,
   "metadata": {},
   "outputs": [
    {
     "name": "stdout",
     "output_type": "stream",
     "text": [
      "2019\n"
     ]
    }
   ],
   "source": [
    "# полагаю, что месяц регистрации не сильно влияет на цену авто. Возможно он \n",
    "# сильно коррелирует с ценой на новых машинах. Проверим это предположение.\n",
    "\n",
    "# выведем самый последний год зарегистрированных машин\n",
    "print(df['registrationyear'].max())"
   ]
  },
  {
   "cell_type": "code",
   "execution_count": 21,
   "metadata": {},
   "outputs": [
    {
     "name": "stdout",
     "output_type": "stream",
     "text": [
      "14\n"
     ]
    }
   ],
   "source": [
    "# посмотрим, сколько всего таких машин\n",
    "print(df[df['registrationyear']==2019].shape[0])"
   ]
  },
  {
   "cell_type": "code",
   "execution_count": 22,
   "metadata": {},
   "outputs": [],
   "source": [
    "# сохраним эти авто в новую таблицу\n",
    "new_auto=df[df['registrationyear']==2019]"
   ]
  },
  {
   "cell_type": "code",
   "execution_count": 23,
   "metadata": {},
   "outputs": [
    {
     "name": "stdout",
     "output_type": "stream",
     "text": [
      "0.223208757837635\n"
     ]
    }
   ],
   "source": [
    "# посмотрим корреляцию между ценой и месяцем регистрации на новых авто\n",
    "print(new_auto['registrationmonth'].corr(new_auto['price']))"
   ]
  },
  {
   "cell_type": "markdown",
   "metadata": {},
   "source": [
    "### как и предполагалось и здесь эти значения не сильно взаимосвязаны. Этот столбец тоже удалим."
   ]
  },
  {
   "cell_type": "code",
   "execution_count": 24,
   "metadata": {},
   "outputs": [],
   "source": [
    "df = df.drop(['registrationmonth'], axis=1)"
   ]
  },
  {
   "cell_type": "code",
   "execution_count": 25,
   "metadata": {},
   "outputs": [
    {
     "name": "stdout",
     "output_type": "stream",
     "text": [
      "278615\n"
     ]
    }
   ],
   "source": [
    "# теперь разберемся с мощностью двигателя. \n",
    "# посчитаем авто с двигателями мощностью менее 500 и более 50\n",
    "power = df[(df['power']>50) & (df['power']<500)]\n",
    "print(power.shape[0])"
   ]
  },
  {
   "cell_type": "code",
   "execution_count": 26,
   "metadata": {},
   "outputs": [
    {
     "name": "stdout",
     "output_type": "stream",
     "text": [
      "13.792730018069754\n"
     ]
    }
   ],
   "source": [
    "# посчитаем сколько авто с \"неправильной\" мощностью\n",
    "print((df.shape[0] - power.shape[0]) / df.shape[0] *100)"
   ]
  },
  {
   "cell_type": "code",
   "execution_count": 27,
   "metadata": {},
   "outputs": [
    {
     "data": {
      "image/png": "[encoded data removed]",
      "text/plain": [
       "<Figure size 1296x720 with 1 Axes>"
      ]
     },
     "metadata": {
      "needs_background": "light"
     },
     "output_type": "display_data"
    }
   ],
   "source": [
    "# посмотрим на выбросы в оставшихся авто\n",
    "power['power'].plot.box(figsize=(18, 10), title='power')\n",
    "plt.show()"
   ]
  },
  {
   "cell_type": "code",
   "execution_count": 28,
   "metadata": {},
   "outputs": [
    {
     "name": "stdout",
     "output_type": "stream",
     "text": [
      "213.29999999998836\n"
     ]
    }
   ],
   "source": [
    "# найдем 99% квантиль\n",
    "print(power['power'].quantile(0.95))"
   ]
  },
  {
   "cell_type": "markdown",
   "metadata": {},
   "source": [
    "### Автомобилей с артефактами по мощности достаточно много, целых 13.79%. Удалить так много данных было бы жалко, поэтому случайным образом присвоим им мощность от 50 до 95% квантиля, т.е. 213, но в тоже время не будем удалять или каким то иным образом чистить выбросы (которые также имеются), чтобы наши данные не преобрели искусственность."
   ]
  },
  {
   "cell_type": "code",
   "execution_count": 29,
   "metadata": {},
   "outputs": [
    {
     "name": "stdout",
     "output_type": "stream",
     "text": [
      "count    323192.000000\n",
      "mean        120.934813\n",
      "std          46.985663\n",
      "min          50.000000\n",
      "25%          85.000000\n",
      "50%         116.000000\n",
      "75%         141.000000\n",
      "max         500.000000\n",
      "Name: power, dtype: float64\n"
     ]
    }
   ],
   "source": [
    "df.loc[(df['power']<50) ^ (df['power']>500), 'power']=np.random.randint(50, 213)\n",
    "\n",
    "# проверим замену\n",
    "print(df['power'].describe())"
   ]
  },
  {
   "cell_type": "markdown",
   "metadata": {},
   "source": [
    "<a id='part4'>***4. Обучение моделей***</a>"
   ]
  },
  {
   "cell_type": "code",
   "execution_count": 30,
   "metadata": {},
   "outputs": [],
   "source": [
    "# переведем категориальные переменные в числовые\n",
    "cat = ['vehicletype', 'gearbox', 'model', 'fueltype', 'brand', 'notrepaired']\n",
    "\n",
    "encoder=OrdinalEncoder()\n",
    "df[cat] = encoder.fit_transform(df[cat])"
   ]
  },
  {
   "cell_type": "code",
   "execution_count": 31,
   "metadata": {},
   "outputs": [
    {
     "data": {
      "text/html": [
       "<div>\n",
       "<style scoped>\n",
       "    .dataframe tbody tr th:only-of-type {\n",
       "        vertical-align: middle;\n",
       "    }\n",
       "\n",
       "    .dataframe tbody tr th {\n",
       "        vertical-align: top;\n",
       "    }\n",
       "\n",
       "    .dataframe thead th {\n",
       "        text-align: right;\n",
       "    }\n",
       "</style>\n",
       "<table border=\"1\" class=\"dataframe\">\n",
       "  <thead>\n",
       "    <tr style=\"text-align: right;\">\n",
       "      <th></th>\n",
       "      <th>price</th>\n",
       "      <th>vehicletype</th>\n",
       "      <th>registrationyear</th>\n",
       "      <th>gearbox</th>\n",
       "      <th>power</th>\n",
       "      <th>model</th>\n",
       "      <th>kilometer</th>\n",
       "      <th>fueltype</th>\n",
       "      <th>brand</th>\n",
       "      <th>notrepaired</th>\n",
       "    </tr>\n",
       "  </thead>\n",
       "  <tbody>\n",
       "    <tr>\n",
       "      <th>0</th>\n",
       "      <td>480</td>\n",
       "      <td>3.0</td>\n",
       "      <td>-1.589745</td>\n",
       "      <td>1.0</td>\n",
       "      <td>0.427050</td>\n",
       "      <td>116.0</td>\n",
       "      <td>0.544606</td>\n",
       "      <td>6.0</td>\n",
       "      <td>38.0</td>\n",
       "      <td>1.0</td>\n",
       "    </tr>\n",
       "    <tr>\n",
       "      <th>2</th>\n",
       "      <td>9800</td>\n",
       "      <td>6.0</td>\n",
       "      <td>0.122904</td>\n",
       "      <td>0.0</td>\n",
       "      <td>0.895278</td>\n",
       "      <td>117.0</td>\n",
       "      <td>-0.159462</td>\n",
       "      <td>2.0</td>\n",
       "      <td>14.0</td>\n",
       "      <td>1.0</td>\n",
       "    </tr>\n",
       "    <tr>\n",
       "      <th>3</th>\n",
       "      <td>1500</td>\n",
       "      <td>5.0</td>\n",
       "      <td>-0.344182</td>\n",
       "      <td>1.0</td>\n",
       "      <td>-0.977636</td>\n",
       "      <td>116.0</td>\n",
       "      <td>0.544606</td>\n",
       "      <td>6.0</td>\n",
       "      <td>38.0</td>\n",
       "      <td>0.0</td>\n",
       "    </tr>\n",
       "    <tr>\n",
       "      <th>4</th>\n",
       "      <td>3600</td>\n",
       "      <td>5.0</td>\n",
       "      <td>0.745686</td>\n",
       "      <td>1.0</td>\n",
       "      <td>-1.105335</td>\n",
       "      <td>101.0</td>\n",
       "      <td>-1.145158</td>\n",
       "      <td>2.0</td>\n",
       "      <td>31.0</td>\n",
       "      <td>0.0</td>\n",
       "    </tr>\n",
       "    <tr>\n",
       "      <th>5</th>\n",
       "      <td>650</td>\n",
       "      <td>4.0</td>\n",
       "      <td>-1.278355</td>\n",
       "      <td>1.0</td>\n",
       "      <td>-0.402992</td>\n",
       "      <td>11.0</td>\n",
       "      <td>0.544606</td>\n",
       "      <td>6.0</td>\n",
       "      <td>2.0</td>\n",
       "      <td>2.0</td>\n",
       "    </tr>\n",
       "  </tbody>\n",
       "</table>\n",
       "</div>"
      ],
      "text/plain": [
       "   price  vehicletype  registrationyear  gearbox     power  model  kilometer  \\\n",
       "0    480          3.0         -1.589745      1.0  0.427050  116.0   0.544606   \n",
       "2   9800          6.0          0.122904      0.0  0.895278  117.0  -0.159462   \n",
       "3   1500          5.0         -0.344182      1.0 -0.977636  116.0   0.544606   \n",
       "4   3600          5.0          0.745686      1.0 -1.105335  101.0  -1.145158   \n",
       "5    650          4.0         -1.278355      1.0 -0.402992   11.0   0.544606   \n",
       "\n",
       "   fueltype  brand  notrepaired  \n",
       "0       6.0   38.0          1.0  \n",
       "2       2.0   14.0          1.0  \n",
       "3       6.0   38.0          0.0  \n",
       "4       2.0   31.0          0.0  \n",
       "5       6.0    2.0          2.0  "
      ]
     },
     "metadata": {},
     "output_type": "display_data"
    }
   ],
   "source": [
    "# масштабируем числовые признаки\n",
    "numeric = ['registrationyear', 'power', 'kilometer']\n",
    "scaler = StandardScaler()\n",
    "scaler.fit(df[numeric])\n",
    "df[numeric] = scaler.transform(df[numeric])\n",
    "display(df.head())"
   ]
  },
  {
   "cell_type": "code",
   "execution_count": 32,
   "metadata": {},
   "outputs": [
    {
     "data": {
      "text/html": [
       "<div>\n",
       "<style scoped>\n",
       "    .dataframe tbody tr th:only-of-type {\n",
       "        vertical-align: middle;\n",
       "    }\n",
       "\n",
       "    .dataframe tbody tr th {\n",
       "        vertical-align: top;\n",
       "    }\n",
       "\n",
       "    .dataframe thead th {\n",
       "        text-align: right;\n",
       "    }\n",
       "</style>\n",
       "<table border=\"1\" class=\"dataframe\">\n",
       "  <thead>\n",
       "    <tr style=\"text-align: right;\">\n",
       "      <th></th>\n",
       "      <th>vehicletype</th>\n",
       "      <th>registrationyear</th>\n",
       "      <th>gearbox</th>\n",
       "      <th>power</th>\n",
       "      <th>model</th>\n",
       "      <th>kilometer</th>\n",
       "      <th>fueltype</th>\n",
       "      <th>brand</th>\n",
       "      <th>notrepaired</th>\n",
       "    </tr>\n",
       "  </thead>\n",
       "  <tbody>\n",
       "    <tr>\n",
       "      <th>0</th>\n",
       "      <td>3.0</td>\n",
       "      <td>-1.589745</td>\n",
       "      <td>1.0</td>\n",
       "      <td>0.427050</td>\n",
       "      <td>116.0</td>\n",
       "      <td>0.544606</td>\n",
       "      <td>6.0</td>\n",
       "      <td>38.0</td>\n",
       "      <td>1.0</td>\n",
       "    </tr>\n",
       "    <tr>\n",
       "      <th>2</th>\n",
       "      <td>6.0</td>\n",
       "      <td>0.122904</td>\n",
       "      <td>0.0</td>\n",
       "      <td>0.895278</td>\n",
       "      <td>117.0</td>\n",
       "      <td>-0.159462</td>\n",
       "      <td>2.0</td>\n",
       "      <td>14.0</td>\n",
       "      <td>1.0</td>\n",
       "    </tr>\n",
       "    <tr>\n",
       "      <th>3</th>\n",
       "      <td>5.0</td>\n",
       "      <td>-0.344182</td>\n",
       "      <td>1.0</td>\n",
       "      <td>-0.977636</td>\n",
       "      <td>116.0</td>\n",
       "      <td>0.544606</td>\n",
       "      <td>6.0</td>\n",
       "      <td>38.0</td>\n",
       "      <td>0.0</td>\n",
       "    </tr>\n",
       "    <tr>\n",
       "      <th>4</th>\n",
       "      <td>5.0</td>\n",
       "      <td>0.745686</td>\n",
       "      <td>1.0</td>\n",
       "      <td>-1.105335</td>\n",
       "      <td>101.0</td>\n",
       "      <td>-1.145158</td>\n",
       "      <td>2.0</td>\n",
       "      <td>31.0</td>\n",
       "      <td>0.0</td>\n",
       "    </tr>\n",
       "    <tr>\n",
       "      <th>5</th>\n",
       "      <td>4.0</td>\n",
       "      <td>-1.278355</td>\n",
       "      <td>1.0</td>\n",
       "      <td>-0.402992</td>\n",
       "      <td>11.0</td>\n",
       "      <td>0.544606</td>\n",
       "      <td>6.0</td>\n",
       "      <td>2.0</td>\n",
       "      <td>2.0</td>\n",
       "    </tr>\n",
       "  </tbody>\n",
       "</table>\n",
       "</div>"
      ],
      "text/plain": [
       "   vehicletype  registrationyear  gearbox     power  model  kilometer  \\\n",
       "0          3.0         -1.589745      1.0  0.427050  116.0   0.544606   \n",
       "2          6.0          0.122904      0.0  0.895278  117.0  -0.159462   \n",
       "3          5.0         -0.344182      1.0 -0.977636  116.0   0.544606   \n",
       "4          5.0          0.745686      1.0 -1.105335  101.0  -1.145158   \n",
       "5          4.0         -1.278355      1.0 -0.402992   11.0   0.544606   \n",
       "\n",
       "   fueltype  brand  notrepaired  \n",
       "0       6.0   38.0          1.0  \n",
       "2       2.0   14.0          1.0  \n",
       "3       6.0   38.0          0.0  \n",
       "4       2.0   31.0          0.0  \n",
       "5       6.0    2.0          2.0  "
      ]
     },
     "metadata": {},
     "output_type": "display_data"
    }
   ],
   "source": [
    "# выделим признаки и таргет в отдельные переменные\n",
    "features = df.drop(['price'], axis = 1)\n",
    "target = df['price']\n",
    "display(features.head())"
   ]
  },
  {
   "cell_type": "code",
   "execution_count": 33,
   "metadata": {},
   "outputs": [],
   "source": [
    "# разделим выборки на обучающую и валидационную\n",
    "features_train, features_valid, target_train, target_valid = train_test_split(\n",
    "                        features, target, test_size=0.4, random_state=1)\n",
    "\n",
    "features_valid, features_test, target_valid, target_test = train_test_split(\n",
    "                        features_valid, target_valid, test_size=0.5, random_state=1)\n"
   ]
  },
  {
   "cell_type": "code",
   "execution_count": 34,
   "metadata": {},
   "outputs": [
    {
     "name": "stdout",
     "output_type": "stream",
     "text": [
      "(193915, 9)\n",
      "(193915,)\n",
      "(64638, 9)\n",
      "(64638,)\n",
      "(64639, 9)\n",
      "(64639,)\n"
     ]
    }
   ],
   "source": [
    "# проверим размерность полученных датасетов\n",
    "print(features_train.shape)\n",
    "print(target_train.shape)\n",
    "print(features_valid.shape)\n",
    "print(target_valid.shape)\n",
    "print(features_test.shape)\n",
    "print(target_test.shape)"
   ]
  },
  {
   "cell_type": "code",
   "execution_count": 35,
   "metadata": {},
   "outputs": [
    {
     "name": "stdout",
     "output_type": "stream",
     "text": [
      "Глубина дерева 15 , rmse: 1600\n",
      "Wall time: 7.88 s\n"
     ]
    }
   ],
   "source": [
    "\n",
    "%%time\n",
    "# исследуем модель дерева\n",
    "tree_rmse = 10000\n",
    "tree_depth = 0\n",
    "for t_depth in range(1, 20):\n",
    "    tree = DecisionTreeRegressor(random_state=1, max_depth=t_depth)\n",
    "    tree.fit(features_train, target_train)\n",
    "    predictions_valid = tree.predict(features_valid)\n",
    "    result = (mean_squared_error(target_valid, predictions_valid))**0.5\n",
    "    \n",
    "    if result < tree_rmse:\n",
    "        tree_rmse = result\n",
    "        tree_depth = t_depth\n",
    "    \n",
    "print(\"Глубина дерева\", tree_depth, ',', \"rmse:\", round(tree_rmse))\n"
   ]
  },
  {
   "cell_type": "code",
   "execution_count": 36,
   "metadata": {},
   "outputs": [
    {
     "data": {
      "text/html": [
       "<div>\n",
       "<style scoped>\n",
       "    .dataframe tbody tr th:only-of-type {\n",
       "        vertical-align: middle;\n",
       "    }\n",
       "\n",
       "    .dataframe tbody tr th {\n",
       "        vertical-align: top;\n",
       "    }\n",
       "\n",
       "    .dataframe thead th {\n",
       "        text-align: right;\n",
       "    }\n",
       "</style>\n",
       "<table border=\"1\" class=\"dataframe\">\n",
       "  <thead>\n",
       "    <tr style=\"text-align: right;\">\n",
       "      <th></th>\n",
       "      <th>importance</th>\n",
       "    </tr>\n",
       "  </thead>\n",
       "  <tbody>\n",
       "    <tr>\n",
       "      <th>registrationyear</th>\n",
       "      <td>0.506280</td>\n",
       "    </tr>\n",
       "    <tr>\n",
       "      <th>power</th>\n",
       "      <td>0.239308</td>\n",
       "    </tr>\n",
       "    <tr>\n",
       "      <th>kilometer</th>\n",
       "      <td>0.077572</td>\n",
       "    </tr>\n",
       "    <tr>\n",
       "      <th>brand</th>\n",
       "      <td>0.048395</td>\n",
       "    </tr>\n",
       "    <tr>\n",
       "      <th>model</th>\n",
       "      <td>0.042207</td>\n",
       "    </tr>\n",
       "    <tr>\n",
       "      <th>vehicletype</th>\n",
       "      <td>0.035805</td>\n",
       "    </tr>\n",
       "    <tr>\n",
       "      <th>notrepaired</th>\n",
       "      <td>0.023080</td>\n",
       "    </tr>\n",
       "    <tr>\n",
       "      <th>gearbox</th>\n",
       "      <td>0.014215</td>\n",
       "    </tr>\n",
       "    <tr>\n",
       "      <th>fueltype</th>\n",
       "      <td>0.013135</td>\n",
       "    </tr>\n",
       "  </tbody>\n",
       "</table>\n",
       "</div>"
      ],
      "text/plain": [
       "                  importance\n",
       "registrationyear    0.506280\n",
       "power               0.239308\n",
       "kilometer           0.077572\n",
       "brand               0.048395\n",
       "model               0.042207\n",
       "vehicletype         0.035805\n",
       "notrepaired         0.023080\n",
       "gearbox             0.014215\n",
       "fueltype            0.013135"
      ]
     },
     "metadata": {},
     "output_type": "display_data"
    },
    {
     "data": {
      "image/png": "[encoded data removed]",
      "text/plain": [
       "<Figure size 1296x720 with 1 Axes>"
      ]
     },
     "metadata": {
      "needs_background": "light"
     },
     "output_type": "display_data"
    }
   ],
   "source": [
    "\n",
    "# выведем важность признаков в модели\n",
    "feature_importances=(pd.DataFrame(tree.feature_importances_,\n",
    "                    index=features_valid.columns, columns=[\"importance\"])\n",
    "                     .sort_values(by='importance', ascending=False))\n",
    "display(feature_importances)\n",
    "feature_importances.plot(kind='barh', figsize=(18, 10))\n",
    "plt.title('importance')\n",
    "plt.show()\n"
   ]
  },
  {
   "cell_type": "code",
   "execution_count": 37,
   "metadata": {},
   "outputs": [
    {
     "name": "stdout",
     "output_type": "stream",
     "text": [
      "Глубина дерева 19 , rmse: 1391\n",
      "Wall time: 1min 16s\n"
     ]
    }
   ],
   "source": [
    "\n",
    "%%time\n",
    "# подбирем оптимальную глубину леса при небольшом кол-ве деревьев\n",
    "forest_depth = 0\n",
    "forest_rmse = 10000\n",
    "\n",
    "for n in range(1, 25, 1):\n",
    "    forest = RandomForestRegressor(n_estimators=20,\n",
    "                                   max_depth=n,\n",
    "                                   random_state=1,\n",
    "                                   n_jobs=4)\n",
    "    forest.fit(features_train, target_train)\n",
    "    predictions_valid = forest.predict(features_valid)\n",
    "    result = (mean_squared_error(target_valid, predictions_valid))**0.5\n",
    "    \n",
    "    if result < forest_rmse:\n",
    "        forest_rmse = result\n",
    "        forest_depth = n\n",
    "print(\"Глубина дерева\", forest_depth, ',', \"rmse:\", round(forest_rmse))\n"
   ]
  },
  {
   "cell_type": "code",
   "execution_count": 38,
   "metadata": {},
   "outputs": [
    {
     "name": "stdout",
     "output_type": "stream",
     "text": [
      "Количество деревьев 131 , rmse: 1375\n",
      "Wall time: 3min 2s\n"
     ]
    }
   ],
   "source": [
    "\n",
    "%%time\n",
    "# исследуем модель случайного леса    \n",
    "for_rmse = 10000\n",
    "estimators = 0\n",
    "\n",
    "for i in range(1, 150, 10):\n",
    "    forest = RandomForestRegressor(random_state=1, \n",
    "                                   n_estimators=i, \n",
    "                                   max_depth=forest_depth, \n",
    "                                   n_jobs=-1)\n",
    "    forest.fit(features_train, target_train)\n",
    "    predictions_valid = forest.predict(features_valid)\n",
    "    result = (mean_squared_error(target_valid, predictions_valid))**0.5\n",
    "    \n",
    "    if result < for_rmse:\n",
    "        for_rmse = result\n",
    "        estimators = i\n",
    "print(\"Количество деревьев\", estimators, ',', \"rmse:\", round(for_rmse))\n"
   ]
  },
  {
   "cell_type": "code",
   "execution_count": 39,
   "metadata": {},
   "outputs": [
    {
     "data": {
      "text/html": [
       "<div>\n",
       "<style scoped>\n",
       "    .dataframe tbody tr th:only-of-type {\n",
       "        vertical-align: middle;\n",
       "    }\n",
       "\n",
       "    .dataframe tbody tr th {\n",
       "        vertical-align: top;\n",
       "    }\n",
       "\n",
       "    .dataframe thead th {\n",
       "        text-align: right;\n",
       "    }\n",
       "</style>\n",
       "<table border=\"1\" class=\"dataframe\">\n",
       "  <thead>\n",
       "    <tr style=\"text-align: right;\">\n",
       "      <th></th>\n",
       "      <th>importance</th>\n",
       "    </tr>\n",
       "  </thead>\n",
       "  <tbody>\n",
       "    <tr>\n",
       "      <th>registrationyear</th>\n",
       "      <td>0.533260</td>\n",
       "    </tr>\n",
       "    <tr>\n",
       "      <th>power</th>\n",
       "      <td>0.231379</td>\n",
       "    </tr>\n",
       "    <tr>\n",
       "      <th>kilometer</th>\n",
       "      <td>0.053354</td>\n",
       "    </tr>\n",
       "    <tr>\n",
       "      <th>brand</th>\n",
       "      <td>0.050356</td>\n",
       "    </tr>\n",
       "    <tr>\n",
       "      <th>model</th>\n",
       "      <td>0.043045</td>\n",
       "    </tr>\n",
       "    <tr>\n",
       "      <th>vehicletype</th>\n",
       "      <td>0.036207</td>\n",
       "    </tr>\n",
       "    <tr>\n",
       "      <th>notrepaired</th>\n",
       "      <td>0.024362</td>\n",
       "    </tr>\n",
       "    <tr>\n",
       "      <th>gearbox</th>\n",
       "      <td>0.014414</td>\n",
       "    </tr>\n",
       "    <tr>\n",
       "      <th>fueltype</th>\n",
       "      <td>0.013622</td>\n",
       "    </tr>\n",
       "  </tbody>\n",
       "</table>\n",
       "</div>"
      ],
      "text/plain": [
       "                  importance\n",
       "registrationyear    0.533260\n",
       "power               0.231379\n",
       "kilometer           0.053354\n",
       "brand               0.050356\n",
       "model               0.043045\n",
       "vehicletype         0.036207\n",
       "notrepaired         0.024362\n",
       "gearbox             0.014414\n",
       "fueltype            0.013622"
      ]
     },
     "metadata": {},
     "output_type": "display_data"
    },
    {
     "data": {
      "image/png": "[encoded data removed]",
      "text/plain": [
       "<Figure size 1296x720 with 1 Axes>"
      ]
     },
     "metadata": {
      "needs_background": "light"
     },
     "output_type": "display_data"
    }
   ],
   "source": [
    "\n",
    "# выведем важность признаков в модели\n",
    "feature_importances=(pd.DataFrame(forest.feature_importances_,\n",
    "                    index=features_valid.columns, columns=[\"importance\"])\n",
    "                     .sort_values(by='importance', ascending=False))\n",
    "display(feature_importances)\n",
    "feature_importances.plot(kind='barh', figsize=(18, 10))\n",
    "plt.title('importance')\n",
    "plt.show()\n"
   ]
  },
  {
   "cell_type": "code",
   "execution_count": 40,
   "metadata": {},
   "outputs": [
    {
     "name": "stdout",
     "output_type": "stream",
     "text": [
      "2510\n",
      "Wall time: 67.1 ms\n"
     ]
    }
   ],
   "source": [
    "%%time\n",
    "# исследуем модель линейной регрессии\n",
    "regression = LinearRegression()\n",
    "regression.fit(features_train, target_train)\n",
    "predictions_valid = regression.predict(features_valid)\n",
    "regression_rmse = (mean_squared_error(predictions_valid, target_valid))**0.5\n",
    "print(round(regression_rmse))\n"
   ]
  },
  {
   "cell_type": "code",
   "execution_count": 41,
   "metadata": {
    "scrolled": false
   },
   "outputs": [
    {
     "name": "stdout",
     "output_type": "stream",
     "text": [
      "Training until validation scores don't improve for 5 rounds\n",
      "[10]\tvalid_0's rmse: 1498.5\tvalid_0's l2: 2.24551e+06\n",
      "[20]\tvalid_0's rmse: 1442.88\tvalid_0's l2: 2.08189e+06\n",
      "[30]\tvalid_0's rmse: 1417.56\tvalid_0's l2: 2.00948e+06\n",
      "[40]\tvalid_0's rmse: 1406.59\tvalid_0's l2: 1.97849e+06\n",
      "[50]\tvalid_0's rmse: 1396.06\tvalid_0's l2: 1.94899e+06\n",
      "[60]\tvalid_0's rmse: 1390.33\tvalid_0's l2: 1.93301e+06\n",
      "[70]\tvalid_0's rmse: 1388.5\tvalid_0's l2: 1.92794e+06\n",
      "[80]\tvalid_0's rmse: 1384.29\tvalid_0's l2: 1.91627e+06\n",
      "[90]\tvalid_0's rmse: 1381.41\tvalid_0's l2: 1.9083e+06\n",
      "[100]\tvalid_0's rmse: 1378.66\tvalid_0's l2: 1.9007e+06\n",
      "[110]\tvalid_0's rmse: 1375.4\tvalid_0's l2: 1.89172e+06\n",
      "[120]\tvalid_0's rmse: 1374.37\tvalid_0's l2: 1.8889e+06\n",
      "[130]\tvalid_0's rmse: 1373.6\tvalid_0's l2: 1.88676e+06\n",
      "Early stopping, best iteration is:\n",
      "[125]\tvalid_0's rmse: 1373.37\tvalid_0's l2: 1.88614e+06\n",
      "Wall time: 1.07 s\n"
     ]
    }
   ],
   "source": [
    "%%time\n",
    "# исследуем модель с базовой моделью решающего дерева\n",
    "cat = ['vehicletype', 'gearbox', 'model', 'fueltype', 'brand', 'notrepaired']\n",
    "gbm = lgb.LGBMRegressor(objective = 'regression', \n",
    "                        boosting_type = 'gbdt',\n",
    "                        num_leaves = 31, \n",
    "                        learning_rate = 0.5,\n",
    "                        max_depth = -1,\n",
    "                        n_estimators = 150)\n",
    "\n",
    "gbm.fit(features_train, \n",
    "        target_train,\n",
    "        eval_set = [(features_valid, target_valid)],\n",
    "        eval_metric ='rmse',\n",
    "        early_stopping_rounds = 5,\n",
    "        verbose = 10,\n",
    "        categorical_feature = cat)\n",
    "\n",
    "predictions_valid = gbm.predict(features_valid)"
   ]
  },
  {
   "cell_type": "code",
   "execution_count": 42,
   "metadata": {},
   "outputs": [
    {
     "data": {
      "text/html": [
       "<div>\n",
       "<style scoped>\n",
       "    .dataframe tbody tr th:only-of-type {\n",
       "        vertical-align: middle;\n",
       "    }\n",
       "\n",
       "    .dataframe tbody tr th {\n",
       "        vertical-align: top;\n",
       "    }\n",
       "\n",
       "    .dataframe thead th {\n",
       "        text-align: right;\n",
       "    }\n",
       "</style>\n",
       "<table border=\"1\" class=\"dataframe\">\n",
       "  <thead>\n",
       "    <tr style=\"text-align: right;\">\n",
       "      <th></th>\n",
       "      <th>importance</th>\n",
       "    </tr>\n",
       "  </thead>\n",
       "  <tbody>\n",
       "    <tr>\n",
       "      <th>power</th>\n",
       "      <td>953</td>\n",
       "    </tr>\n",
       "    <tr>\n",
       "      <th>registrationyear</th>\n",
       "      <td>867</td>\n",
       "    </tr>\n",
       "    <tr>\n",
       "      <th>model</th>\n",
       "      <td>676</td>\n",
       "    </tr>\n",
       "    <tr>\n",
       "      <th>kilometer</th>\n",
       "      <td>409</td>\n",
       "    </tr>\n",
       "    <tr>\n",
       "      <th>brand</th>\n",
       "      <td>246</td>\n",
       "    </tr>\n",
       "    <tr>\n",
       "      <th>vehicletype</th>\n",
       "      <td>206</td>\n",
       "    </tr>\n",
       "    <tr>\n",
       "      <th>notrepaired</th>\n",
       "      <td>176</td>\n",
       "    </tr>\n",
       "    <tr>\n",
       "      <th>gearbox</th>\n",
       "      <td>153</td>\n",
       "    </tr>\n",
       "    <tr>\n",
       "      <th>fueltype</th>\n",
       "      <td>64</td>\n",
       "    </tr>\n",
       "  </tbody>\n",
       "</table>\n",
       "</div>"
      ],
      "text/plain": [
       "                  importance\n",
       "power                    953\n",
       "registrationyear         867\n",
       "model                    676\n",
       "kilometer                409\n",
       "brand                    246\n",
       "vehicletype              206\n",
       "notrepaired              176\n",
       "gearbox                  153\n",
       "fueltype                  64"
      ]
     },
     "metadata": {},
     "output_type": "display_data"
    },
    {
     "data": {
      "image/png": "[encoded data removed]",
      "text/plain": [
       "<Figure size 1296x720 with 1 Axes>"
      ]
     },
     "metadata": {
      "needs_background": "light"
     },
     "output_type": "display_data"
    }
   ],
   "source": [
    "feature_importances=pd.DataFrame(gbm.feature_importances_, index=features_valid.columns, columns=[\"importance\"]).sort_values(by='importance', ascending=False)\n",
    "display(feature_importances)\n",
    "feature_importances.plot(kind='barh', figsize=(18, 10))\n",
    "plt.title('importance')\n",
    "plt.show()"
   ]
  },
  {
   "cell_type": "code",
   "execution_count": 43,
   "metadata": {},
   "outputs": [
    {
     "name": "stdout",
     "output_type": "stream",
     "text": [
      "[LightGBM] [Warning] feature_fraction is set=0.5, colsample_bytree=1.0 will be ignored. Current value: feature_fraction=0.5\n",
      "[LightGBM] [Warning] bagging_fraction is set=0.5, subsample=1.0 will be ignored. Current value: bagging_fraction=0.5\n",
      "[LightGBM] [Warning] bagging_freq is set=5, subsample_freq=0 will be ignored. Current value: bagging_freq=5\n",
      "Training until validation scores don't improve for 5 rounds\n",
      "[5]\tvalid_0's rmse: 1898.45\tvalid_0's l2: 3.60411e+06\n",
      "[10]\tvalid_0's rmse: 1826.94\tvalid_0's l2: 3.33772e+06\n",
      "[15]\tvalid_0's rmse: 1881.95\tvalid_0's l2: 3.54172e+06\n",
      "Early stopping, best iteration is:\n",
      "[11]\tvalid_0's rmse: 1811.63\tvalid_0's l2: 3.282e+06\n",
      "Wall time: 400 ms\n"
     ]
    }
   ],
   "source": [
    "%%time\n",
    "# исследуем модель с базовой моделью случайного леса\n",
    "cat = ['vehicletype', 'gearbox', 'model', 'fueltype', 'brand', 'notrepaired']\n",
    "gbm = lgb.LGBMRegressor(boosting_type = 'rf',\n",
    "                        objective = 'regression', \n",
    "                        num_leaves = 31, \n",
    "                        learning_rate = 0.5,\n",
    "                        max_depth = -1,\n",
    "                        n_estimators = 150, \n",
    "                        feature_fraction = 0.5,\n",
    "                        bagging_fraction = 0.5,\n",
    "                        bagging_freq = 5)\n",
    "\n",
    "gbm.fit(features_train, \n",
    "        target_train,\n",
    "        eval_set = [(features_valid, target_valid)],\n",
    "        eval_metric ='rmse',\n",
    "        early_stopping_rounds = 5,\n",
    "        verbose = 5,\n",
    "        categorical_feature = cat)\n",
    "\n",
    "predictions_valid = gbm.predict(features_valid)"
   ]
  },
  {
   "cell_type": "code",
   "execution_count": 44,
   "metadata": {},
   "outputs": [
    {
     "data": {
      "text/html": [
       "<div>\n",
       "<style scoped>\n",
       "    .dataframe tbody tr th:only-of-type {\n",
       "        vertical-align: middle;\n",
       "    }\n",
       "\n",
       "    .dataframe tbody tr th {\n",
       "        vertical-align: top;\n",
       "    }\n",
       "\n",
       "    .dataframe thead th {\n",
       "        text-align: right;\n",
       "    }\n",
       "</style>\n",
       "<table border=\"1\" class=\"dataframe\">\n",
       "  <thead>\n",
       "    <tr style=\"text-align: right;\">\n",
       "      <th></th>\n",
       "      <th>importance</th>\n",
       "    </tr>\n",
       "  </thead>\n",
       "  <tbody>\n",
       "    <tr>\n",
       "      <th>registrationyear</th>\n",
       "      <td>111</td>\n",
       "    </tr>\n",
       "    <tr>\n",
       "      <th>power</th>\n",
       "      <td>61</td>\n",
       "    </tr>\n",
       "    <tr>\n",
       "      <th>model</th>\n",
       "      <td>40</td>\n",
       "    </tr>\n",
       "    <tr>\n",
       "      <th>kilometer</th>\n",
       "      <td>30</td>\n",
       "    </tr>\n",
       "    <tr>\n",
       "      <th>brand</th>\n",
       "      <td>28</td>\n",
       "    </tr>\n",
       "    <tr>\n",
       "      <th>vehicletype</th>\n",
       "      <td>24</td>\n",
       "    </tr>\n",
       "    <tr>\n",
       "      <th>notrepaired</th>\n",
       "      <td>16</td>\n",
       "    </tr>\n",
       "    <tr>\n",
       "      <th>gearbox</th>\n",
       "      <td>13</td>\n",
       "    </tr>\n",
       "    <tr>\n",
       "      <th>fueltype</th>\n",
       "      <td>7</td>\n",
       "    </tr>\n",
       "  </tbody>\n",
       "</table>\n",
       "</div>"
      ],
      "text/plain": [
       "                  importance\n",
       "registrationyear         111\n",
       "power                     61\n",
       "model                     40\n",
       "kilometer                 30\n",
       "brand                     28\n",
       "vehicletype               24\n",
       "notrepaired               16\n",
       "gearbox                   13\n",
       "fueltype                   7"
      ]
     },
     "metadata": {},
     "output_type": "display_data"
    },
    {
     "data": {
      "image/png": "[encoded data removed]",
      "text/plain": [
       "<Figure size 1296x720 with 1 Axes>"
      ]
     },
     "metadata": {
      "needs_background": "light"
     },
     "output_type": "display_data"
    }
   ],
   "source": [
    "feature_importances=pd.DataFrame(gbm.feature_importances_, index=features_valid.columns, columns=[\"importance\"]).sort_values(by='importance', ascending=False)\n",
    "display(feature_importances)\n",
    "feature_importances.plot(kind='barh', figsize=(18, 10))\n",
    "plt.title('importance')\n",
    "plt.show()"
   ]
  },
  {
   "cell_type": "code",
   "execution_count": 45,
   "metadata": {},
   "outputs": [
    {
     "name": "stdout",
     "output_type": "stream",
     "text": [
      "Training until validation scores don't improve for 5 rounds\n",
      "[10]\tvalid_0's rmse: 1488.79\tvalid_0's l2: 2.21649e+06\n",
      "[20]\tvalid_0's rmse: 1432.08\tvalid_0's l2: 2.05085e+06\n",
      "[30]\tvalid_0's rmse: 1407.58\tvalid_0's l2: 1.98128e+06\n",
      "[40]\tvalid_0's rmse: 1397.18\tvalid_0's l2: 1.95211e+06\n",
      "[50]\tvalid_0's rmse: 1387.99\tvalid_0's l2: 1.9265e+06\n",
      "[60]\tvalid_0's rmse: 1383.92\tvalid_0's l2: 1.91525e+06\n",
      "[70]\tvalid_0's rmse: 1380.66\tvalid_0's l2: 1.90622e+06\n",
      "[80]\tvalid_0's rmse: 1375.32\tvalid_0's l2: 1.89152e+06\n",
      "[90]\tvalid_0's rmse: 1373.16\tvalid_0's l2: 1.88557e+06\n",
      "[100]\tvalid_0's rmse: 1370.5\tvalid_0's l2: 1.87827e+06\n",
      "[110]\tvalid_0's rmse: 1367.75\tvalid_0's l2: 1.87074e+06\n",
      "[120]\tvalid_0's rmse: 1367.2\tvalid_0's l2: 1.86922e+06\n",
      "[130]\tvalid_0's rmse: 1366.02\tvalid_0's l2: 1.86602e+06\n",
      "[140]\tvalid_0's rmse: 1364.43\tvalid_0's l2: 1.86167e+06\n",
      "[150]\tvalid_0's rmse: 1362.59\tvalid_0's l2: 1.85665e+06\n",
      "Did not meet early stopping. Best iteration is:\n",
      "[150]\tvalid_0's rmse: 1362.59\tvalid_0's l2: 1.85665e+06\n",
      "Wall time: 1.32 s\n"
     ]
    }
   ],
   "source": [
    "%%time\n",
    "# используем бустинг с базовой моделью дерева\n",
    "cat = ['vehicletype', 'gearbox', 'model', 'fueltype', 'brand', 'notrepaired']\n",
    "gbm = lgb.LGBMRegressor(objective = 'regression', \n",
    "                        num_leaves = 31, \n",
    "                        learning_rate = 0.5,\n",
    "                        max_depth = -1,\n",
    "                        n_estimators = 150)\n",
    "\n",
    "gbm.fit(features_train, \n",
    "        target_train,\n",
    "        eval_set = [(features_test, target_test)],\n",
    "        eval_metric ='rmse',\n",
    "        early_stopping_rounds = 5,\n",
    "        verbose = 10,\n",
    "        categorical_feature = cat)\n",
    "\n",
    "predictions_valid = gbm.predict(features_valid)\n"
   ]
  },
  {
   "cell_type": "markdown",
   "metadata": {},
   "source": [
    "<a id='part5'>***5. Анализ моделей***</a>"
   ]
  },
  {
   "cell_type": "markdown",
   "metadata": {},
   "source": [
    "### Наилучшая модель оказалась модель случайного леса с метрикой 1381 и временем работы 2.49 минуты. Однако, учитывая важность для заказчика время работы модели, случайный лес не проходит по требованиям. Модель lightGBM с решающим деревом в основе показала схожий результат в 1378 за значительно более короткое время работы, всего 789 мс.  Проверка этой модели на тестовой выборке показала похожие результаты по качеству и по скорости. Именно эту модель и следует рекомендовать заказчику. Также хотелось бы отметить, что на классических моделях по важности признаков опережающее воздействие (около 0.6) имеет год производства автомобиля, почти втрое превышая важность следующего признака-мощность двигателя (около 0.2). Остальные признаки малозначимы. А на моделях градиентного спуска ситуация уже другая: 1 место по важности по-прежнему занимает год производства, чуть отстает от него мощность, затем уже идет модель."
   ]
  },
  {
   "cell_type": "code",
   "execution_count": null,
   "metadata": {},
   "outputs": [],
   "source": []
  }
 ],
 "metadata": {
  "kernelspec": {
   "display_name": "Python 3",
   "language": "python",
   "name": "python3"
  },
  "language_info": {
   "codemirror_mode": {
    "name": "ipython",
    "version": 3
   },
   "file_extension": ".py",
   "mimetype": "text/x-python",
   "name": "python",
   "nbconvert_exporter": "python",
   "pygments_lexer": "ipython3",
   "version": "3.8.10"
  },
  "toc": {
   "base_numbering": 1,
   "nav_menu": {},
   "number_sections": true,
   "sideBar": true,
   "skip_h1_title": true,
   "title_cell": "Table of Contents",
   "title_sidebar": "Contents",
   "toc_cell": false,
   "toc_position": {},
   "toc_section_display": true,
   "toc_window_display": false
  }
 },
 "nbformat": 4,
 "nbformat_minor": 4
}
