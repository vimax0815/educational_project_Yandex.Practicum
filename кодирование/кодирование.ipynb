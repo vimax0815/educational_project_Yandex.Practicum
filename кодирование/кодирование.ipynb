{
 "cells": [
  {
   "cell_type": "markdown",
   "metadata": {},
   "source": [
    "**Содержание**\n",
    "\n",
    "<a href='#part1'>***1. Загрузка данных***</a>\n",
    "\n",
    "<a href='#part2'>***2. Умножение матриц***</a>\n",
    "\n",
    "<a href='#part3'>***3. Алгоритм преобразования***</a>\n",
    "\n",
    "<a href='#part4'>***4. Проверка алгоритма***</a>\n",
    "\n",
    "<a href='#part5'>***5. Вывод***</a>"
   ]
  },
  {
   "cell_type": "markdown",
   "metadata": {},
   "source": [
    "**Защита персональных данных клиентов**"
   ]
  },
  {
   "cell_type": "markdown",
   "metadata": {},
   "source": [
    "Необходимо защитить данные клиентов страховой компании «Хоть потоп». Надо разработать такой метод преобразования данных, чтобы по ним было сложно восстановить персональную информацию. Обосновать корректность его работы.\n",
    "\n",
    "Нужно защитить данные, чтобы при преобразовании качество моделей машинного обучения не ухудшилось. "
   ]
  },
  {
   "cell_type": "markdown",
   "metadata": {},
   "source": [
    "<a id='part1'>***1. Загрузка данных***</a>"
   ]
  },
  {
   "cell_type": "code",
   "execution_count": null,
   "metadata": {},
   "outputs": [],
   "source": [
    "# импортируем библиотеки, прочитаем загруженный файл\n",
    "import pandas as pd\n",
    "import numpy as np\n",
    "from sklearn.linear_model import LinearRegression\n",
    "from sklearn.metrics import r2_score"
   ]
  },
  {
   "cell_type": "code",
   "execution_count": 11,
   "metadata": {},
   "outputs": [
    {
     "data": {
      "text/html": [
       "<div>\n",
       "<style scoped>\n",
       "    .dataframe tbody tr th:only-of-type {\n",
       "        vertical-align: middle;\n",
       "    }\n",
       "\n",
       "    .dataframe tbody tr th {\n",
       "        vertical-align: top;\n",
       "    }\n",
       "\n",
       "    .dataframe thead th {\n",
       "        text-align: right;\n",
       "    }\n",
       "</style>\n",
       "<table border=\"1\" class=\"dataframe\">\n",
       "  <thead>\n",
       "    <tr style=\"text-align: right;\">\n",
       "      <th></th>\n",
       "      <th>Пол</th>\n",
       "      <th>Возраст</th>\n",
       "      <th>Зарплата</th>\n",
       "      <th>Члены семьи</th>\n",
       "      <th>Страховые выплаты</th>\n",
       "    </tr>\n",
       "  </thead>\n",
       "  <tbody>\n",
       "    <tr>\n",
       "      <th>0</th>\n",
       "      <td>1</td>\n",
       "      <td>41.0</td>\n",
       "      <td>49600.0</td>\n",
       "      <td>1</td>\n",
       "      <td>0</td>\n",
       "    </tr>\n",
       "    <tr>\n",
       "      <th>1</th>\n",
       "      <td>0</td>\n",
       "      <td>46.0</td>\n",
       "      <td>38000.0</td>\n",
       "      <td>1</td>\n",
       "      <td>1</td>\n",
       "    </tr>\n",
       "    <tr>\n",
       "      <th>2</th>\n",
       "      <td>0</td>\n",
       "      <td>29.0</td>\n",
       "      <td>21000.0</td>\n",
       "      <td>0</td>\n",
       "      <td>0</td>\n",
       "    </tr>\n",
       "    <tr>\n",
       "      <th>3</th>\n",
       "      <td>0</td>\n",
       "      <td>21.0</td>\n",
       "      <td>41700.0</td>\n",
       "      <td>2</td>\n",
       "      <td>0</td>\n",
       "    </tr>\n",
       "    <tr>\n",
       "      <th>4</th>\n",
       "      <td>1</td>\n",
       "      <td>28.0</td>\n",
       "      <td>26100.0</td>\n",
       "      <td>0</td>\n",
       "      <td>0</td>\n",
       "    </tr>\n",
       "    <tr>\n",
       "      <th>...</th>\n",
       "      <td>...</td>\n",
       "      <td>...</td>\n",
       "      <td>...</td>\n",
       "      <td>...</td>\n",
       "      <td>...</td>\n",
       "    </tr>\n",
       "    <tr>\n",
       "      <th>4995</th>\n",
       "      <td>0</td>\n",
       "      <td>28.0</td>\n",
       "      <td>35700.0</td>\n",
       "      <td>2</td>\n",
       "      <td>0</td>\n",
       "    </tr>\n",
       "    <tr>\n",
       "      <th>4996</th>\n",
       "      <td>0</td>\n",
       "      <td>34.0</td>\n",
       "      <td>52400.0</td>\n",
       "      <td>1</td>\n",
       "      <td>0</td>\n",
       "    </tr>\n",
       "    <tr>\n",
       "      <th>4997</th>\n",
       "      <td>0</td>\n",
       "      <td>20.0</td>\n",
       "      <td>33900.0</td>\n",
       "      <td>2</td>\n",
       "      <td>0</td>\n",
       "    </tr>\n",
       "    <tr>\n",
       "      <th>4998</th>\n",
       "      <td>1</td>\n",
       "      <td>22.0</td>\n",
       "      <td>32700.0</td>\n",
       "      <td>3</td>\n",
       "      <td>0</td>\n",
       "    </tr>\n",
       "    <tr>\n",
       "      <th>4999</th>\n",
       "      <td>1</td>\n",
       "      <td>28.0</td>\n",
       "      <td>40600.0</td>\n",
       "      <td>1</td>\n",
       "      <td>0</td>\n",
       "    </tr>\n",
       "  </tbody>\n",
       "</table>\n",
       "<p>5000 rows × 5 columns</p>\n",
       "</div>"
      ],
      "text/plain": [
       "      Пол  Возраст  Зарплата  Члены семьи  Страховые выплаты\n",
       "0       1     41.0   49600.0            1                  0\n",
       "1       0     46.0   38000.0            1                  1\n",
       "2       0     29.0   21000.0            0                  0\n",
       "3       0     21.0   41700.0            2                  0\n",
       "4       1     28.0   26100.0            0                  0\n",
       "...   ...      ...       ...          ...                ...\n",
       "4995    0     28.0   35700.0            2                  0\n",
       "4996    0     34.0   52400.0            1                  0\n",
       "4997    0     20.0   33900.0            2                  0\n",
       "4998    1     22.0   32700.0            3                  0\n",
       "4999    1     28.0   40600.0            1                  0\n",
       "\n",
       "[5000 rows x 5 columns]"
      ]
     },
     "execution_count": 11,
     "metadata": {},
     "output_type": "execute_result"
    }
   ],
   "source": [
    "df=pd.read_csv('/home/user/Рабочий стол/диск D/практикум/модуль 3/спринт 10. Линейная алгебра(матрицы)/insurance.csv')\n",
    "df#.head()"
   ]
  },
  {
   "cell_type": "markdown",
   "metadata": {},
   "source": [
    "<a id='part2'>***2. Умножение матриц***</a>"
   ]
  },
  {
   "cell_type": "markdown",
   "metadata": {},
   "source": [
    "Обозначения:\n",
    "\n",
    "- $X$ — матрица признаков (нулевой столбец состоит из единиц)\n",
    "\n",
    "- $y$ — вектор целевого признака\n",
    "\n",
    "- $P$ — матрица, на которую умножаются признаки\n",
    "\n",
    "- $w$ — вектор весов линейной регрессии (нулевой элемент равен сдвигу)"
   ]
  },
  {
   "cell_type": "markdown",
   "metadata": {},
   "source": [
    "Предсказания:\n",
    "\n",
    "$$\n",
    "a = Xw\n",
    "$$\n",
    "\n",
    "Задача обучения:\n",
    "\n",
    "$$\n",
    "w = \\arg\\min_w MSE(Xw, y)\n",
    "$$\n",
    "\n",
    "Формула обучения:\n",
    "\n",
    "$$\n",
    "w = (X^T X)^{-1} X^T y\n",
    "$$"
   ]
  },
  {
   "cell_type": "markdown",
   "metadata": {},
   "source": [
    "Ответ: не изменится\n",
    "\n",
    "Обоснование: матрицы обладают следующими свойствами:\n",
    "$$\n",
    "1. (AB)^{-1} = B^{-1}A^{-1}\n",
    "$$\n",
    "$$\n",
    "2. (AB)^T = B^TA^T\n",
    "$$\n",
    "$$\n",
    "3. AA^{-1} = E\n",
    "$$\n",
    "будем использовать эти свойства в своих рассуждениях. Рассмотрим равенство матриц предсказаний без преобразований и с преобразованиями:\n",
    "\n",
    "\n",
    "\n",
    "$$\n",
    "X(X^T X)^{-1} X^T y = XP((XP)^TXP)^{-1}(XP)^T y\n",
    "$$\n",
    "\n",
    "сократим равенство на x и y. Получим:\n",
    "$$\n",
    "(X^T X)^{-1} X^T = P((XP)^TXP)^{-1}(XP)^T \n",
    "$$\n",
    "\n",
    "расскроем скобки и произведем необходимые сокращения:\n",
    "$$\n",
    "X^{-1} (X^T)^{-1}X^T = P(XP)^{-1}((XP)^T)^{-1}P^TX^T \n",
    "$$\n",
    "\n",
    "$$\n",
    "X^{-1}E = PP^{-1}X^{-1}((XP)^T)^{-1}P^TX^T\n",
    "$$\n",
    "\n",
    "$$\n",
    "X^{-1}E = EX^{-1}(P^TX^T)^{-1}P^TX^T\n",
    "$$\n",
    "\n",
    "$$\n",
    "E = E(X^T)^{-1}(P^T)^{-1}P^TX^T\n",
    "$$\n",
    "\n",
    "$$\n",
    "E = E(X^T)^{-1}X^T\n",
    "$$\n",
    "\n",
    "$$\n",
    "E = E\n",
    "$$\n",
    "Ка видим, левая и правая части равенства одинаковы после всех преобразований"
   ]
  },
  {
   "cell_type": "markdown",
   "metadata": {},
   "source": [
    "<a id='part3'>***3. Алгоритм преобразования***</a>"
   ]
  },
  {
   "cell_type": "markdown",
   "metadata": {},
   "source": [
    "Алгоритм: в качестве преобразования предлагаю умножить исходную матрицу на обратную ей, состоящую из случайных чисел, воспользовавшись numpy.random.normal\n",
    "\n",
    "Обоснование: в результате перемножения матриц данные клиентов приобретут вид случайного и несвязанного между собой набора цифр, что не позволит их интерпретировать, однако качество линейной регрессии не изменится (согласно п2) и модель по прежнему будет предсказывать целевой признак."
   ]
  },
  {
   "cell_type": "markdown",
   "metadata": {},
   "source": [
    "<a id='part4'>***4. Проверка алгоритма***</a>"
   ]
  },
  {
   "cell_type": "code",
   "execution_count": 2,
   "metadata": {},
   "outputs": [
    {
     "name": "stdout",
     "output_type": "stream",
     "text": [
      "Предсказание модели на исходных данных: 0.42494550286668\n"
     ]
    }
   ],
   "source": [
    "# выделим признаки и таргет\n",
    "target = df['Страховые выплаты']\n",
    "features = df.drop('Страховые выплаты', axis=1)\n",
    "\n",
    "\n",
    "# обучим модель и получим предсказания, посчитаем метрику r2\n",
    "model = LinearRegression()\n",
    "model.fit(features, target)\n",
    "predictions = model.predict(features)\n",
    "r2 = r2_score(target, predictions)\n",
    "print('Предсказание модели на исходных данных:', r2)"
   ]
  },
  {
   "cell_type": "code",
   "execution_count": 3,
   "metadata": {},
   "outputs": [
    {
     "name": "stdout",
     "output_type": "stream",
     "text": [
      "[[ 0.46122975  2.05006657  0.3329491   0.59586654]\n",
      " [ 0.77008111  1.48949916  1.53393416  2.10199387]\n",
      " [ 1.14702236  2.1147705   1.87022344 -0.94547972]\n",
      " [ 0.94163402 -0.11559972  1.30384218  0.35561523]]\n"
     ]
    }
   ],
   "source": [
    "# создадим матрицу из случайных чисел \n",
    "P = np.random.normal(1, size=(4, 4))\n",
    "print(P)"
   ]
  },
  {
   "cell_type": "code",
   "execution_count": 4,
   "metadata": {},
   "outputs": [
    {
     "name": "stdout",
     "output_type": "stream",
     "text": [
      "всё отлично, матрица обратима!\n"
     ]
    }
   ],
   "source": [
    "# проверим, обратима ли эта матрица\n",
    "try:\n",
    "    P_1 = np.linalg.inv(P)\n",
    "    print('всё отлично, матрица обратима!')\n",
    "except:\n",
    "    print('упссс!!! ошибочка вышла.')"
   ]
  },
  {
   "cell_type": "code",
   "execution_count": 5,
   "metadata": {},
   "outputs": [
    {
     "name": "stdout",
     "output_type": "stream",
     "text": [
      "              0              1             2             3\n",
      "0  56925.285191  104955.620831  92827.610732 -46808.661061\n",
      "1  43623.215004   80429.680437  71140.355546 -35831.182164\n",
      "2  24109.801889   44453.376018  39319.176338 -19794.116374\n",
      "3  47848.887338   88216.978216  78023.137763 -39381.651373\n",
      "4  29959.307068   55239.266145  48856.114898 -24617.569092\n"
     ]
    }
   ],
   "source": [
    "# умножим исходную матрицу на сгенерированную случайную матрицу \n",
    "features_p = features @ P\n",
    "\n",
    "\n",
    "# посмотрим \"глазами\" на обновленные данные клиентов\n",
    "print(features_p.head())"
   ]
  },
  {
   "cell_type": "markdown",
   "metadata": {},
   "source": [
    " Теперь личные данные клиентов плохо интерпретируются"
   ]
  },
  {
   "cell_type": "code",
   "execution_count": 6,
   "metadata": {},
   "outputs": [
    {
     "name": "stdout",
     "output_type": "stream",
     "text": [
      "Предсказание модели на измененных данных: 0.424945502866671\n"
     ]
    }
   ],
   "source": [
    "# обучим модель, получим предсказания и посчитаем метрику r2 на преобразо-\n",
    "# ванной матрице\n",
    "model = LinearRegression()\n",
    "model.fit(features_p, target)\n",
    "predictions_p = model.predict(features_p)\n",
    "r2_p = r2_score(target, predictions_p)\n",
    "print('Предсказание модели на измененных данных:', r2_p)"
   ]
  },
  {
   "cell_type": "markdown",
   "metadata": {},
   "source": [
    "<a id='part5'>***5. Вывод***</a>"
   ]
  },
  {
   "cell_type": "markdown",
   "metadata": {},
   "source": [
    " Согласно теоретическому обоснованию в п.2 качество модели не должно было ухудшиться, что и подтвердилось на практике. Метрика R2 не изменилась, а личные данные клиентов защищены."
   ]
  },
  {
   "cell_type": "code",
   "execution_count": 10,
   "metadata": {},
   "outputs": [
    {
     "data": {
      "text/html": [
       "<div>\n",
       "<style scoped>\n",
       "    .dataframe tbody tr th:only-of-type {\n",
       "        vertical-align: middle;\n",
       "    }\n",
       "\n",
       "    .dataframe tbody tr th {\n",
       "        vertical-align: top;\n",
       "    }\n",
       "\n",
       "    .dataframe thead th {\n",
       "        text-align: right;\n",
       "    }\n",
       "</style>\n",
       "<table border=\"1\" class=\"dataframe\">\n",
       "  <thead>\n",
       "    <tr style=\"text-align: right;\">\n",
       "      <th></th>\n",
       "      <th>0</th>\n",
       "      <th>1</th>\n",
       "      <th>2</th>\n",
       "      <th>3</th>\n",
       "    </tr>\n",
       "  </thead>\n",
       "  <tbody>\n",
       "    <tr>\n",
       "      <th>0</th>\n",
       "      <td>1</td>\n",
       "      <td>41</td>\n",
       "      <td>49600</td>\n",
       "      <td>1</td>\n",
       "    </tr>\n",
       "    <tr>\n",
       "      <th>1</th>\n",
       "      <td>0</td>\n",
       "      <td>46</td>\n",
       "      <td>38000</td>\n",
       "      <td>1</td>\n",
       "    </tr>\n",
       "    <tr>\n",
       "      <th>2</th>\n",
       "      <td>0</td>\n",
       "      <td>29</td>\n",
       "      <td>21000</td>\n",
       "      <td>0</td>\n",
       "    </tr>\n",
       "    <tr>\n",
       "      <th>3</th>\n",
       "      <td>0</td>\n",
       "      <td>21</td>\n",
       "      <td>41700</td>\n",
       "      <td>2</td>\n",
       "    </tr>\n",
       "    <tr>\n",
       "      <th>4</th>\n",
       "      <td>1</td>\n",
       "      <td>28</td>\n",
       "      <td>26100</td>\n",
       "      <td>0</td>\n",
       "    </tr>\n",
       "    <tr>\n",
       "      <th>...</th>\n",
       "      <td>...</td>\n",
       "      <td>...</td>\n",
       "      <td>...</td>\n",
       "      <td>...</td>\n",
       "    </tr>\n",
       "    <tr>\n",
       "      <th>4995</th>\n",
       "      <td>0</td>\n",
       "      <td>28</td>\n",
       "      <td>35700</td>\n",
       "      <td>2</td>\n",
       "    </tr>\n",
       "    <tr>\n",
       "      <th>4996</th>\n",
       "      <td>0</td>\n",
       "      <td>34</td>\n",
       "      <td>52400</td>\n",
       "      <td>1</td>\n",
       "    </tr>\n",
       "    <tr>\n",
       "      <th>4997</th>\n",
       "      <td>0</td>\n",
       "      <td>20</td>\n",
       "      <td>33900</td>\n",
       "      <td>2</td>\n",
       "    </tr>\n",
       "    <tr>\n",
       "      <th>4998</th>\n",
       "      <td>1</td>\n",
       "      <td>22</td>\n",
       "      <td>32700</td>\n",
       "      <td>3</td>\n",
       "    </tr>\n",
       "    <tr>\n",
       "      <th>4999</th>\n",
       "      <td>1</td>\n",
       "      <td>28</td>\n",
       "      <td>40600</td>\n",
       "      <td>1</td>\n",
       "    </tr>\n",
       "  </tbody>\n",
       "</table>\n",
       "<p>5000 rows × 4 columns</p>\n",
       "</div>"
      ],
      "text/plain": [
       "      0   1      2  3\n",
       "0     1  41  49600  1\n",
       "1     0  46  38000  1\n",
       "2     0  29  21000  0\n",
       "3     0  21  41700  2\n",
       "4     1  28  26100  0\n",
       "...  ..  ..    ... ..\n",
       "4995  0  28  35700  2\n",
       "4996  0  34  52400  1\n",
       "4997  0  20  33900  2\n",
       "4998  1  22  32700  3\n",
       "4999  1  28  40600  1\n",
       "\n",
       "[5000 rows x 4 columns]"
      ]
     },
     "execution_count": 10,
     "metadata": {},
     "output_type": "execute_result"
    }
   ],
   "source": [
    "# обратное преобразование (умножение на обратную матрицу)\n",
    "(features_p @ P_1).round().astype(int)"
   ]
  }
 ],
 "metadata": {
  "kernelspec": {
   "display_name": "Python 3",
   "language": "python",
   "name": "python3"
  },
  "language_info": {
   "codemirror_mode": {
    "name": "ipython",
    "version": 3
   },
   "file_extension": ".py",
   "mimetype": "text/x-python",
   "name": "python",
   "nbconvert_exporter": "python",
   "pygments_lexer": "ipython3",
   "version": "3.8.10"
  },
  "toc": {
   "base_numbering": 1,
   "nav_menu": {},
   "number_sections": true,
   "sideBar": true,
   "skip_h1_title": true,
   "title_cell": "Table of Contents",
   "title_sidebar": "Contents",
   "toc_cell": false,
   "toc_position": {},
   "toc_section_display": true,
   "toc_window_display": false
  }
 },
 "nbformat": 4,
 "nbformat_minor": 4
}
